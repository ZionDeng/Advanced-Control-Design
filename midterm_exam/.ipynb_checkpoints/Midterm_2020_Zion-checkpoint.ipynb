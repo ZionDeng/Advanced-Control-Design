{
 "cells": [
  {
   "cell_type": "markdown",
   "metadata": {
    "id": "cmmCt2OI9L9u"
   },
   "source": [
    "# **ME C231A, EE C220B, Experiential Advanced Control I** \n",
    "# **Midterm Fall 2020**\n",
    "# University of California Berkeley"
   ]
  },
  {
   "cell_type": "markdown",
   "metadata": {
    "id": "YkLD4oUaLLoD"
   },
   "source": [
    "***"
   ]
  },
  {
   "cell_type": "markdown",
   "metadata": {
    "id": "9GHIDnNWLLoE"
   },
   "source": [
    "Remember\n",
    "1. The submission will be EXACTLY the same as your homework. Download the midterm from bCourses and upload with Gradescope.\n",
    "2. Submit your file BEFORE 12.30PM. The online submission will close at 12.30PM and NO LATE submission will be accepted.\n",
    "3. Multiple submissions (before 12.30) will be allowed.\n",
    "4. **Your  submission of your solutions will act as a confirmation that you have not discussed this exam with anyone during the exam period. We have different tools to identify cheating, and we will not tolerate any exception.**\n",
    "\n",
    "\n",
    "A quick summary of the questions. \"Minimal coding\"  means 1 or 2 lines of code.\n",
    "\n",
    "*  The questions are in blue, do not modify the cells containing the questions\n",
    "*   A1. No coding. Estimated time 2min\n",
    "*   A2 part  1 and 2. No coding, little pencil/paper work. Estimated time 4min\n",
    "*   A3. Minimal coding. Estimated time 1min\n",
    "*   A4 part  1 and 2. Minimal coding. Estimated time 2min\n",
    "*   B1. No coding. Estimated time 2min\n",
    "*   B2. Some coding (start from software in lab/homework and work will be minimal). Estimated time 4min\n",
    "*   B3. No coding. Estimated time 2min\n",
    "*   C1. Some coding (start from software in lab/homework and work will be minimal). Estimated time 10min\n",
    "*   C2. Minimal coding once C1 is available. Estimated time 4min\n",
    "*   C3. No coding. Estimated time 2min\n",
    "*   D1. No coding, some pencil/paper work. Estimated time 10min\n",
    "*   D2. No coding. Estimated time 3min\n",
    "\n",
    "Total: expected 60 minutes (points assignment for each question approximately: 1point=1 expected minute)"
   ]
  },
  {
   "cell_type": "code",
   "execution_count": 17,
   "metadata": {
    "id": "xkc5O5TWLLoG"
   },
   "outputs": [],
   "source": [
    "# # Run this cell only if you are using Colab\n",
    "# # install required dependencies\n",
    "# import sys\n",
    "# IN_COLAB = 'google.colab' in sys.modules\n",
    "# if IN_COLAB:\n",
    "#   !pip install -q pyomo\n",
    "#   !apt-get install -y -qq glpk-utils\n",
    "#   !apt-get install -y -qq coinor-cbc\n",
    "#   !wget -N -q \"https://ampl.com/dl/open/ipopt/ipopt-linux64.zip\"\n",
    "#   !unzip -o -q ipopt-linux64"
   ]
  },
  {
   "cell_type": "markdown",
   "metadata": {
    "id": "k9dOC8LxXTN4"
   },
   "source": [
    "\n",
    "\n",
    "---\n",
    "\n",
    "\n",
    "## <font color=blue> **Part A: Modeling** </font>\n",
    "\n",
    "\n"
   ]
  },
  {
   "cell_type": "markdown",
   "metadata": {
    "id": "Qd7vWBbadAu0"
   },
   "source": [
    "***"
   ]
  },
  {
   "cell_type": "markdown",
   "metadata": {
    "id": "jHimbqdLbeaa"
   },
   "source": [
    "### <font color=blue> Question A1. System properties </font>\n",
    "<font color=blue> Consider the system\n",
    "\\begin{align}\n",
    "x(t+1)=sin(t)x(t)+cos(t)u(t)~\\\\\n",
    "\\end{align}\n",
    "Answer the following questions in the Text Cell below with True or False</font>\n",
    "\n",
    "<font color=blue>\n",
    "    \n",
    "1.  The system is linear\n",
    "2.  The system is time-invariant\n",
    "3.  The pair (0,0) is an equilibrium point of the system \n",
    "    \n",
    "</font>\n",
    "\n",
    "---\n",
    "\n",
    "\n",
    "\n",
    "\n",
    "\n",
    "\n"
   ]
  },
  {
   "cell_type": "markdown",
   "metadata": {
    "id": "pVotZmOBcodd"
   },
   "source": [
    "ANSWER A1:\n",
    "1.   True   \n",
    "2.   False   \n",
    "3.   True   \n"
   ]
  },
  {
   "cell_type": "markdown",
   "metadata": {
    "id": "FAnbV2a0dFpM"
   },
   "source": [
    "***"
   ]
  },
  {
   "cell_type": "markdown",
   "metadata": {
    "id": "uRoHdAK49L91"
   },
   "source": [
    "### <font color=blue> Question A2.  Equilibrium Point and Linearization </font>\n",
    "<font color=blue>Consider the discrete time nonlinear system \n",
    "\\begin{align}\n",
    "(A2)~~~~~~x(t+1)=x^2(t)+u_1(t)u_2(t)~\\\\\n",
    "\\end{align}\n",
    "Find an equilibrim point with $x_{eq}=2$ and report the corresponding for $u_{1,eq}$ and $u_{2,eq}$ below </font>\n",
    "\n",
    "\n",
    "---\n",
    "\n",
    "\n"
   ]
  },
  {
   "cell_type": "markdown",
   "metadata": {
    "id": "RbjodwnLUdET"
   },
   "source": [
    "ANSWER A2 part 1:\n",
    "\n",
    "An equilibrium point is:\n",
    "* $x_{eq}=2$\n",
    "* $u_{1,eq}=-2$    \n",
    "* $u_{2,eq}= 2$     \n",
    "\n"
   ]
  },
  {
   "cell_type": "markdown",
   "metadata": {
    "id": "WRMtyDHO70BF"
   },
   "source": [
    "---\n",
    "<font color=blue> Report the A and B matrices of the linear system obtained by \n",
    "linearizing the system (A2) around the previous equilibrium point. You can use the notation [[1,1,3],[1,2,1]] to denote a matrix 2x3 with first row [1,1,3] </font>\n",
    "\n",
    "---"
   ]
  },
  {
   "cell_type": "markdown",
   "metadata": {
    "id": "I-POHBnbuWt8"
   },
   "source": [
    "ANSWER A2 part 2: \n",
    "\n",
    "\n",
    "1.   A= [4]    \n",
    "2.   B= [[-2,0],[0,1]]   \n",
    "\n"
   ]
  },
  {
   "cell_type": "markdown",
   "metadata": {
    "id": "vczRZz-v9L_O"
   },
   "source": [
    "\n",
    "\n",
    "---\n",
    "\n",
    "\n",
    "###  <font color=blue> Question A3. Euler Discretization of an ODE Model</font> \n",
    "<font color=blue>Consider the ODE\n",
    "\\begin{align}\n",
    "\\dot{T} = T(t)u(t) \n",
    "\\end{align}</font>\n",
    "    \n",
    "<font color=blue>Use the Euler discretization approximation to derive the equivalent discrete time model with sampling time $T_s=0.1s$:</font>\n",
    "    \n",
    "<font color=blue>\\begin{align}\n",
    "T_{k+1}=f(T_k,u_k)\n",
    "\\end{align}\n",
    "Fill in the line 3 of the following code cell and run the cell to print the output\n",
    "</font>\n",
    "\n",
    "\n",
    "---\n",
    "\n",
    "\n",
    "\n"
   ]
  },
  {
   "cell_type": "code",
   "execution_count": 18,
   "metadata": {
    "id": "GbnrxlWB9L_d"
   },
   "outputs": [
    {
     "name": "stdout",
     "output_type": "stream",
     "text": [
      "66.0\n"
     ]
    }
   ],
   "source": [
    "# ANSWER A3\n",
    "def f(Tk,uk):\n",
    "    Ts = 0.1\n",
    "    T_KplusOne = Tk + Ts* (Tk * uk) \n",
    "    return T_KplusOne\n",
    "\n",
    "T_KplusOne = f(Tk=60,uk=1)\n",
    "print(T_KplusOne)"
   ]
  },
  {
   "cell_type": "markdown",
   "metadata": {
    "id": "niKj2PsH9L_n"
   },
   "source": [
    "***"
   ]
  },
  {
   "cell_type": "markdown",
   "metadata": {
    "id": "Tyk_r3v_9L_p"
   },
   "source": [
    "### <font color=blue> Problem A4. Simulation of a Nonlinear Model </font>\n",
    "<font color=blue>The following code is a simulator for the system\n",
    "\\begin{align}\n",
    "x_{k+1}= sin(x_k) + u_k\n",
    "\\end{align}\n",
    "starting from initial condition $x0 = 0$ and applying no input. Look at the code, run it and go to the next Text cells which contain the questions.\n",
    "<font color=blue>\n",
    "</font>\n",
    "\n",
    "--\n",
    "\n"
   ]
  },
  {
   "cell_type": "code",
   "execution_count": 19,
   "metadata": {
    "colab": {
     "base_uri": "https://localhost:8080/",
     "height": 483
    },
    "id": "no_Altin9L_r",
    "outputId": "d61bb18f-ec6c-483f-d7a7-2f898a87ba8d"
   },
   "outputs": [
    {
     "data": {
      "image/png": "[encoded data removed]",
      "text/plain": [
       "<Figure size 864x576 with 2 Axes>"
      ]
     },
     "metadata": {
      "needs_background": "light"
     },
     "output_type": "display_data"
    }
   ],
   "source": [
    "import matplotlib.pyplot as plt\n",
    "import numpy as np\n",
    "from numpy import sin, cos, tan, arcsin, exp,pi\n",
    "def f(xk, uk, k): \n",
    "    xkplusone= sin(xk) +uk\n",
    "    return xkplusone\n",
    "\n",
    "def sim(numSteps, x0): \n",
    "    \n",
    "    # Initialize trends\n",
    "    xtrend = []\n",
    "    utrend = []\n",
    "    xtrend.append(x0)\n",
    "    #set initail state\n",
    "    xk = x0\n",
    "\n",
    "    for k in range(0, numSteps-1):\n",
    "        uk=0        \n",
    "        xkplusone = f(xk, uk,k)\n",
    "        xtrend.append(xkplusone)\n",
    "        utrend.append(uk)\n",
    "        xk=xkplusone\n",
    "        \n",
    "    return np.asarray(xtrend, dtype=object), np.asarray(utrend, dtype=object)\n",
    "    \n",
    "# starting the simualtion\n",
    "x0 = 0.0\n",
    "numSteps = 50\n",
    "xtrend, utrend = sim(numSteps, x0)\n",
    "\n",
    "\n",
    "# plotting the results\n",
    "fig=plt.figure(figsize=(12,8))\n",
    "plt.subplot(2,1,1)\n",
    "plt.plot(xtrend)\n",
    "plt.ylabel('x')\n",
    "plt.subplot(2,1,2)\n",
    "plt.plot(utrend)\n",
    "plt.ylabel('u')\n",
    "plt.show()\n",
    "\n",
    "\n"
   ]
  },
  {
   "cell_type": "markdown",
   "metadata": {
    "id": "Z_jRAvIZ_WH1"
   },
   "source": [
    "</font>"
   ]
  },
  {
   "cell_type": "markdown",
   "metadata": {
    "id": "hT0T34yB_l2j"
   },
   "source": [
    "\n",
    "\n",
    "---\n",
    "\n",
    "\n",
    "### <font color=blue> Question A4 Part 1. \n",
    "\n",
    "<font color=blue> We copied  the code provided above in the following cell. \n",
    "Design and tune a simple Proportional controller to bring the system state $x_k$ as close as possible to $x_{ref}=1$ without too many oscillations. (a rough tuning is ok... start from a controller gain of k=-0.5). \n",
    "Modify the code in the next cell to plot the simulations of the closed-loop system.</font>\n",
    "\n",
    "\n",
    "---\n",
    "\n"
   ]
  },
  {
   "cell_type": "code",
   "execution_count": 20,
   "metadata": {
    "id": "QvaeC1rvLLp4"
   },
   "outputs": [
    {
     "ename": "TypeError",
     "evalue": "'float' object is not callable",
     "output_type": "error",
     "traceback": [
      "\u001b[1;31m---------------------------------------------------------------------------\u001b[0m",
      "\u001b[1;31mTypeError\u001b[0m                                 Traceback (most recent call last)",
      "\u001b[1;32m<ipython-input-20-c46fe9c36531>\u001b[0m in \u001b[0;36m<module>\u001b[1;34m()\u001b[0m\n\u001b[0;32m     28\u001b[0m \u001b[0mx0\u001b[0m \u001b[1;33m=\u001b[0m \u001b[1;36m0.0\u001b[0m\u001b[1;33m\u001b[0m\u001b[0m\n\u001b[0;32m     29\u001b[0m \u001b[0mnumSteps\u001b[0m \u001b[1;33m=\u001b[0m \u001b[1;36m50\u001b[0m\u001b[1;33m\u001b[0m\u001b[0m\n\u001b[1;32m---> 30\u001b[1;33m \u001b[0mxtrend\u001b[0m\u001b[1;33m,\u001b[0m \u001b[0mutrend\u001b[0m \u001b[1;33m=\u001b[0m \u001b[0msim\u001b[0m\u001b[1;33m(\u001b[0m\u001b[0mnumSteps\u001b[0m\u001b[1;33m,\u001b[0m \u001b[0mx0\u001b[0m\u001b[1;33m)\u001b[0m\u001b[1;33m\u001b[0m\u001b[0m\n\u001b[0m\u001b[0;32m     31\u001b[0m \u001b[1;33m\u001b[0m\u001b[0m\n\u001b[0;32m     32\u001b[0m \u001b[1;33m\u001b[0m\u001b[0m\n",
      "\u001b[1;32m<ipython-input-20-c46fe9c36531>\u001b[0m in \u001b[0;36msim\u001b[1;34m(numSteps, x0)\u001b[0m\n\u001b[0;32m     17\u001b[0m \u001b[1;33m\u001b[0m\u001b[0m\n\u001b[0;32m     18\u001b[0m     \u001b[1;32mfor\u001b[0m \u001b[0mk\u001b[0m \u001b[1;32min\u001b[0m \u001b[0mrange\u001b[0m\u001b[1;33m(\u001b[0m\u001b[1;36m0\u001b[0m\u001b[1;33m,\u001b[0m \u001b[0mnumSteps\u001b[0m\u001b[1;33m-\u001b[0m\u001b[1;36m1\u001b[0m\u001b[1;33m)\u001b[0m\u001b[1;33m:\u001b[0m\u001b[1;33m\u001b[0m\u001b[0m\n\u001b[1;32m---> 19\u001b[1;33m         \u001b[0muk\u001b[0m\u001b[1;33m=\u001b[0m \u001b[1;33m-\u001b[0m\u001b[1;36m1.5\u001b[0m\u001b[1;33m(\u001b[0m\u001b[0mxk\u001b[0m \u001b[1;33m-\u001b[0m\u001b[1;36m1\u001b[0m\u001b[1;33m)\u001b[0m\u001b[1;33m\u001b[0m\u001b[0m\n\u001b[0m\u001b[0;32m     20\u001b[0m         \u001b[0mxkplusone\u001b[0m \u001b[1;33m=\u001b[0m \u001b[0mf\u001b[0m\u001b[1;33m(\u001b[0m\u001b[0mxk\u001b[0m\u001b[1;33m,\u001b[0m \u001b[0muk\u001b[0m\u001b[1;33m,\u001b[0m\u001b[0mk\u001b[0m\u001b[1;33m)\u001b[0m\u001b[1;33m\u001b[0m\u001b[0m\n\u001b[0;32m     21\u001b[0m         \u001b[0mxtrend\u001b[0m\u001b[1;33m.\u001b[0m\u001b[0mappend\u001b[0m\u001b[1;33m(\u001b[0m\u001b[0mxkplusone\u001b[0m\u001b[1;33m)\u001b[0m\u001b[1;33m\u001b[0m\u001b[0m\n",
      "\u001b[1;31mTypeError\u001b[0m: 'float' object is not callable"
     ]
    }
   ],
   "source": [
    "# ANSWER A4.1 (Please modify this code to answer Question A4 part 1)\n",
    "import matplotlib.pyplot as plt\n",
    "import numpy as np\n",
    "from numpy import sin, cos, tan, arcsin, exp,pi\n",
    "def f(xk, uk, k): \n",
    "    xkplusone= sin(xk) +uk\n",
    "    return xkplusone\n",
    "\n",
    "def sim(numSteps, x0): \n",
    "    \n",
    "    # Initialize trends\n",
    "    xtrend = []\n",
    "    utrend = []\n",
    "    xtrend.append(x0)\n",
    "    #set initail state\n",
    "    xk = x0\n",
    "\n",
    "    for k in range(0, numSteps-1):\n",
    "        uk= -1.5(xk -1)        \n",
    "        xkplusone = f(xk, uk,k)\n",
    "        xtrend.append(xkplusone)\n",
    "        utrend.append(uk)\n",
    "        xk=xkplusone\n",
    "        \n",
    "    return np.asarray(xtrend, dtype=object), np.asarray(utrend, dtype=object)\n",
    "    \n",
    "# starting the simualtion\n",
    "x0 = 0.0\n",
    "numSteps = 50\n",
    "xtrend, utrend = sim(numSteps, x0)\n",
    "\n",
    "\n",
    "# plotting the results\n",
    "fig=plt.figure(figsize=(12,8))\n",
    "plt.subplot(2,1,1)\n",
    "plt.plot(xtrend)\n",
    "plt.ylabel('x')\n",
    "plt.subplot(2,1,2)\n",
    "plt.plot(utrend)\n",
    "plt.ylabel('u')\n",
    "plt.show()"
   ]
  },
  {
   "cell_type": "markdown",
   "metadata": {
    "id": "uP8mtwfr_yCs"
   },
   "source": [
    "\n",
    "---\n",
    "\n",
    "\n",
    "### <font color=blue> Question A4 Part2. \n",
    " <font color=blue> Use the same controller and tuning as before and assume that the system is subject to an additive step disturbance. \n",
    "\\begin{align}\n",
    "x_{k+1}= sin(x_k) + u_k+ d_k\n",
    "\\end{align}\n",
    "where \n",
    "\\begin{align}\n",
    "d_k= 0~\\textrm{if}~k<20~~~\\textrm{and}~~~d_k=1~\\textrm{if}~k>=20\n",
    "\\end{align}\n",
    "Copy the code of question A4 part 1 in the cell below and modify it to simulate the step disturbance effect. Report the plots of the closed-loop simulations.\n",
    "</font>\n",
    "\n",
    "---\n",
    "\n"
   ]
  },
  {
   "cell_type": "code",
   "execution_count": 16,
   "metadata": {
    "id": "8MHPoiHWzzBr"
   },
   "outputs": [
    {
     "data": {
      "image/png": "[encoded data removed]",
      "text/plain": [
       "<Figure size 864x576 with 2 Axes>"
      ]
     },
     "metadata": {
      "needs_background": "light"
     },
     "output_type": "display_data"
    }
   ],
   "source": [
    "# ANSWER A4.2 Part 2 \n",
    "\n",
    "def f(xk, uk, k): \n",
    "    xkplusone= sin(xk) +uk\n",
    "    return xkplusone\n",
    "\n",
    "def sim(numSteps, x0): \n",
    "    \n",
    "    # Initialize trends\n",
    "    xtrend = []\n",
    "    utrend = []\n",
    "    xtrend.append(x0)\n",
    "    #set initail state\n",
    "    xk = x0\n",
    "\n",
    "    for k in range(0, numSteps-1):\n",
    "        uk= -1 *(xk -1)        \n",
    "        xkplusone = f(xk, uk,k)\n",
    "        xtrend.append(xkplusone)\n",
    "        utrend.append(uk)\n",
    "        xk=xkplusone\n",
    "        \n",
    "    return np.asarray(xtrend, dtype=object), np.asarray(utrend, dtype=object)\n",
    "    \n",
    "# starting the simualtion\n",
    "x0 = 0.0\n",
    "numSteps = 50\n",
    "xtrend, utrend = sim(numSteps, x0)\n",
    "\n",
    "\n",
    "# plotting the results\n",
    "fig=plt.figure(figsize=(12,8))\n",
    "plt.subplot(2,1,1)\n",
    "plt.plot(xtrend)\n",
    "plt.ylabel('x')\n",
    "plt.subplot(2,1,2)\n",
    "plt.plot(utrend)\n",
    "plt.ylabel('u')\n",
    "plt.show()\n"
   ]
  },
  {
   "cell_type": "markdown",
   "metadata": {
    "id": "dyMDPJZt6ZSz"
   },
   "source": [
    "\n",
    "\n",
    "---\n",
    "\n",
    "\n",
    "## **<font color=blue> Part B- Optimization </font>**\n",
    "\n"
   ]
  },
  {
   "cell_type": "markdown",
   "metadata": {
    "id": "yoWFsY-XLLq4"
   },
   "source": [
    "***"
   ]
  },
  {
   "cell_type": "markdown",
   "metadata": {
    "id": "W8A2hgQc34NI"
   },
   "source": [
    "### <font color=blue> Question B1. Consider the following optimization problem:\n",
    "\\begin{align}\n",
    "\\begin{array}{ll} \\underset{x \\in \\mathbb{R}^n,\\epsilon\\in \\mathbb{R}}{\\min{}} & x^THx + f^Tx+g \\\\\n",
    "\\textrm{s.t.} & A x \\le b - \\epsilon^2 \\mathbb{1}_m \\\\\n",
    "\\end{array}~\\\\~\\\\\n",
    "\\end{align}\n",
    "where $H \\in \\mathbb{R}^{n \\times n}$, $f \\in \\mathbb{R}^{n}$, $g \\in \\mathbb{R}$, $A \\in \\mathbb{R}^{m \\times n}$, $b \\in \\mathbb{R}^{m}$, $\\epsilon \\in \\mathbb{R}$, and $\\mathbb{1}_m$ is a column vector of length $m$ containing ones.\n",
    "1. Its convexity depends only on $H$\n",
    "2.  The problem is convex for $H>0$, $f=\\textrm{rows of zeros}$, $g=0$.\n",
    "3.  Its convexity depends on $A$ and $b$\n",
    "4. Its feasibility depends on $H$ and $f$\n",
    "5. Its feasibility depends on $A$ and $b$\n",
    "6. It is a quadratic program\n",
    "\n",
    "</font>\n",
    "\n",
    "\n",
    "---\n",
    "\n",
    "\n"
   ]
  },
  {
   "cell_type": "markdown",
   "metadata": {
    "id": "V_1cCJZOyS-u"
   },
   "source": [
    "ANSWER B1:\n",
    "\n",
    "1. True  \n",
    "2. True   \n",
    "3. False     \n",
    "4. False     \n",
    "5. False     \n",
    "6. True     \n"
   ]
  },
  {
   "cell_type": "markdown",
   "metadata": {
    "id": "Ng29uYNJ8TD6"
   },
   "source": [
    "\n",
    "\n",
    "---\n",
    "\n",
    "\n",
    "### <font color=blue> Question B2. Consider the following Linear Program: </font>\n",
    "<font color=blue> \n",
    "\\begin{aligned}\n",
    "p^* = \\ \\ \n",
    "& \\underset{x \\in \\mathbb{R}^3}{\\text{minimize}} \n",
    "& & \\lVert Ax-b \\rVert_{\\infty} \\\\\n",
    "& \\text{subject to}\n",
    "& & \\ Cx \\leq d~\\\\\n",
    "\\end{aligned}\n",
    "where \n",
    "$A=\\begin{bmatrix}\\phantom{\\text{-}}2&\\phantom{\\text{-}}0&\\text{-}1\\\\\\phantom{\\text{-}}1&\\text{-}1&\\phantom{\\text{-}}0\\end{bmatrix}$ , $ b = \\begin{bmatrix}\\phantom{\\text{-}}1\\\\\\phantom{\\text{-}}2\\end{bmatrix}$, \n",
    "$C = \\begin{bmatrix}\\phantom{\\text{-}}1&\\text{-}1&\\phantom{\\text{-}}1\\\\\\text{-}1&\\text{-}1&\\phantom{\\text{-}}0 \\end{bmatrix}$, $d = \\begin{bmatrix}\\text{-}1\\\\\\text{-}1\\end{bmatrix}$.\n",
    "    \n",
    "1. Transform it into a standard linear program (you can do this on a piece of paper, nothing to submit)\n",
    "2. Solve the LP in the Code Cell below and print the optimal cost $p^*$, the optimizer $x^*$\n",
    "</font>\n",
    "\n",
    "\n",
    "---\n",
    "\n"
   ]
  },
  {
   "cell_type": "code",
   "execution_count": 13,
   "metadata": {
    "id": "yRfeTL82TgkD"
   },
   "outputs": [
    {
     "name": "stdout",
     "output_type": "stream",
     "text": [
      "     pcost       dcost       gap    pres   dres   k/t\n",
      " 0:  5.0000e+00  9.0000e+00  3e+01  1e+00  4e+00  1e+00\n",
      " 1:  4.7378e+00  5.3376e+00  7e-01  8e-02  3e-01  3e-01\n",
      " 2:  4.9978e+00  5.0041e+00  7e-03  1e-03  4e-03  3e-03\n",
      " 3:  5.0000e+00  5.0000e+00  7e-05  1e-05  4e-05  3e-05\n",
      " 4:  5.0000e+00  5.0000e+00  7e-07  1e-07  4e-07  3e-07\n",
      " 5:  5.0000e+00  5.0000e+00  7e-09  1e-09  4e-09  3e-09\n",
      "Optimal solution found.\n",
      "xOpt:  [-1.00e+00]\n",
      "[ 2.00e+00]\n",
      "[ 2.00e+00]\n",
      "\n",
      "J* =  4.999999997783805\n"
     ]
    }
   ],
   "source": [
    "#ANSWER B2\n",
    "\n",
    "from pyomo.opt import SolverStatus, TerminationCondition\n",
    "import numpy as np\n",
    "import pyomo.environ as pyo\n",
    "import numpy as np \n",
    "import cvxopt\n",
    "\n",
    "\n",
    "def reg1Inf(A1,b1,Ainf,binf,Ac,bc):\n",
    "    # the question transformed to:\n",
    "    # min(z1,z2,,zn,t1,t2,,t_nc,t_inf){t1,t2,,t_nc,t_inf}\n",
    "    # t1,t2,,t_nc = |A1 *z -b1|\n",
    "    # t_inf = max(|A_inf *z - b_inf|)\n",
    "\n",
    "    n_1, nx = np.shape(A1)\n",
    "    n_inf, _ = np.shape(Ainf)\n",
    "    nc, _ = np.shape(Ac)\n",
    "\n",
    "    c = np.concatenate(\n",
    "        [\n",
    "            # np.zeros(np.size(Ac,1)),np.ones(np.size(A1,0)),np.array((1,))\n",
    "            np.zeros(nx),np.ones(n_1),np.array((1,))\n",
    "        ],axis= 0\n",
    "    )\n",
    "    A = np.concatenate(\n",
    "        [\n",
    "            # np.concatenate([A1,-np.eye(np.size(A1,0)),np.zeros((np.size(A1,0),1))],axis=1),\n",
    "            # np.concatenate([-A1,-np.eye(np.size(A1,0)),np.zeros((np.size(A1,0),1))],axis=1),\n",
    "            # np.concatenate([Ainf,np.zeros((np.size(Ainf,1),np.size(A1,1))),np.ones((np.size(Ainf,0),1))],axis= 1),\n",
    "            # np.concatenate([-Ainf,np.zeros((np.size(Ainf,1),np.size(A1,1))),-np.ones((np.size(Ainf,0),1))],axis= 1),\n",
    "            # np.concatenate([Ac,np.zeros((np.size(Ac,0),np.size(A1,0))),np.zeros((np.size(Ac,0),1))],axis=1)\n",
    "            np.concatenate([A1,-np.eye(n_1),np.zeros((n_1,1))],axis=1),\n",
    "            np.concatenate([-A1,-np.eye(n_1),np.zeros((n_1,1))],axis=1),\n",
    "            np.concatenate([Ainf,np.zeros((n_inf,nx)),np.ones((n_inf,1))],axis= 1),\n",
    "            np.concatenate([-Ainf,np.zeros((n_inf,nx)),-np.ones((n_inf,1))],axis= 1),\n",
    "            np.concatenate([Ac,np.zeros((nc,n_1)),np.zeros((nc,1))],axis=1)\n",
    "\n",
    "        ],axis = 0\n",
    "    )\n",
    "    b = np.concatenate([b1,-b1,binf,-binf,bc],axis=0)\n",
    "\n",
    "    c = cvxopt.matrix(c,tc='d')\n",
    "    A = cvxopt.matrix(A,tc='d')\n",
    "    b = cvxopt.matrix(b,tc='d')\n",
    "\n",
    "\n",
    "    sol = cvxopt.solvers.lp(c,A,b)\n",
    "    xOpt = sol['x']\n",
    "    J = sol['primal objective']\n",
    "    return xOpt[:3],J \n",
    "\n",
    "a1 = np.zeros((3,3))\n",
    "b1 = np.array([0,0,0]).reshape((3,1))\n",
    "ainf = np.array([[2,0,-1],[1,-1,0]])\n",
    "binf = np.array([1,2]).reshape((2,1))\n",
    "ac = np.array([[1,-1,1],[-1,-1,0]])\n",
    "bc = np.array([-1,-1]).reshape((2,1))\n",
    "xOpt, J = reg1Inf(a1,b1,ainf,binf,ac,bc)\n",
    "print('xOpt: ',xOpt)\n",
    "print('J* = ',J)\n",
    "\n"
   ]
  },
  {
   "cell_type": "markdown",
   "metadata": {
    "id": "-YpMlhvD-Pf8"
   },
   "source": [
    "\n",
    "\n",
    "---\n",
    "\n",
    "\n",
    "### <font color=blue> Question B3\n",
    "<font color=blue>\n",
    "You have 5 solvers which you use to solve the following problem:\n",
    "\\begin{align}\n",
    "\\min_{z_1,z_2}~ &  -z_1-2z_2  \\nonumber\\\\\n",
    "\\text{s.t. } & z_1 +z_2 \\leq 10  \\nonumber\\\\\n",
    "& z_1 \\geq 0  \\nonumber\\\\\n",
    "& z_2 \\geq 0  \\nonumber~\\\\\n",
    "\\end{align}\n",
    "Their respective primal/dual optimal solutions are \n",
    "\n",
    "* \n",
    "<font color=blue> Solver A: $z_1^*=-10,~z_2^*=10$, and $u_1^*=1,~u_2^*=1,u_3^*=1,$\n",
    "* Solver B: $z_1^*=0,~z_2^*=10$, and $u_1^*=2,~u_2^*=1,u_3^*=1,$\n",
    "* Solver C: $z_1^*=0,~z_2^*=10$, and $u_1^*=2,~u_2^*=1,u_3^*=0,$\n",
    "* Solver D: $z_1^*=1,~z_2^*=10$, and $u_1^*=-2,~u_2^*=1,u_3^*=1,$\n",
    "* Solver E: $z_1^*=0.5,~z_2^*=0.5$, and $u_1^*=2,~u_2^*=1,u_3^*=0,$\n",
    "\n",
    "\n",
    "<font color=blue> (where $u_1^*$, $u_2^*$ and $u_3^*$ are the Lagrange multipliers associated to the three inequality constraints in the order written above.)\n",
    "\n",
    "<font color=blue>\n",
    "Only one solver is correct. The others have some bugs. Without using any coding and simply thinking of KKT conditions and LP properties can you quickly identify which solver is the correct one?\n",
    "</font>\n",
    "\n",
    "\n",
    "---\n",
    "\n",
    "\n"
   ]
  },
  {
   "cell_type": "markdown",
   "metadata": {
    "id": "QPb2l9bg4-KI"
   },
   "source": [
    "ANSWER B3:\n",
    "\n",
    "Complete the dots \"...\" for each solver\n",
    "\n",
    "* The correct sover is C             \n",
    "* Solver D is wrong because u1* < 0         \n",
    "* Solver A is wrong because Z1* <0                                                \n",
    "* Solver E is wrong because  u1* * g(z1*,z2*) is not 0              \n",
    "* Solver B is wrong because  u3* * g(z1*,z2*)  is not 0                                             \n",
    "---\n"
   ]
  },
  {
   "cell_type": "markdown",
   "metadata": {
    "id": "MV8aHY-RT9zE"
   },
   "source": [
    "\n",
    "\n",
    "\n",
    "\n",
    "\n",
    "## **<font color=blue> Part C- Optimal Control - Batch Approach </font>**\n",
    "\n",
    "\n",
    "---\n",
    "\n"
   ]
  },
  {
   "cell_type": "markdown",
   "metadata": {
    "id": "ht5Y7LxiUHvG"
   },
   "source": [
    "### <font color=blue>Question C.1 Consider the following finite-time optimal control problem\n",
    "\\begin{align}\n",
    "\t\\min_{x_0,\\ldots,x_N,u_0,\\ldots,u_{N-1}} &\\sum_{k=0}^{k=N}  \\|x_k  - \\bar{x}_N \\|_2^2\\nonumber\\\\\n",
    "\t& x_{k+1}=\\sin(x_k)+u_k &&~\\forall k = \\left\\{0,\\ldots,N-1 \\right\\} \\nonumber\\\\\n",
    "\t& \\text{-}0.2 \\leq u_k \\leq 0.2 &&~\\forall k = \\left\\{0,\\ldots,N-1 \\right\\} \\nonumber\\\\\n",
    "\t%& |a(k+1) - a(k)| \\leq a_d &&~\\forall k = \\left\\{0,\\ldots,H_p-1 \\right\\} \\nonumber\\\\\n",
    "\t& \\lvert x_N -\\bar{x}_N \\rvert \\leq 0.1 \\nonumber\\\\\n",
    "\t& x_0 = x(0) \\nonumber\\\\~\\\\\n",
    "\\end{align}\n",
    "<font color=blue> where $N=50$ and $\\bar{x}_N = 1$.\n",
    "Use the Batch approach to compute the $\\textit{open-loop optimal}$ solution $U^*_0(x(0))$ where $U^*_0=[u_0^*,\\ldots,u_{49}^*]$ for the initial conditions $x(0)=0.0$.</font>\n",
    "    \n",
    "<font color=blue> \n",
    "    \n",
    "1. Type your code in the next Cell.\n",
    "2. Print $u_0^*$,  $u_{18}^*$,  $u_{49}^*$,  $x_{19}^*$,  $x_{49}^*$\n",
    "3. Plot the $\\textit{optimal}$ state and input trajectory as a function of time\n",
    "</font>\n",
    "\n",
    "\n",
    "---\n",
    "\n"
   ]
  },
  {
   "cell_type": "code",
   "execution_count": 28,
   "metadata": {
    "id": "hsybdsYg25kT"
   },
   "outputs": [
    {
     "name": "stdout",
     "output_type": "stream",
     "text": [
      "0.20000000977468013 0.1585290131438107 0.15852901314382012 0.9999999955442613 0.9999999955442604\n"
     ]
    },
    {
     "data": {
      "image/png": "[encoded data removed]",
      "text/plain": [
       "<Figure size 432x288 with 1 Axes>"
      ]
     },
     "metadata": {
      "needs_background": "light"
     },
     "output_type": "display_data"
    },
    {
     "data": {
      "image/png": "[encoded data removed]",
      "text/plain": [
       "<Figure size 432x288 with 1 Axes>"
      ]
     },
     "metadata": {
      "needs_background": "light"
     },
     "output_type": "display_data"
    }
   ],
   "source": [
    "# ANSWER C.1\n",
    "\n",
    "import matplotlib.pyplot as plt\n",
    "import numpy as np \n",
    "import pyomo.environ as pyo\n",
    "\n",
    "N = 50\n",
    "xNbar = 1\n",
    "x0 =0 \n",
    "m = pyo.ConcreteModel()\n",
    "m.tidx = pyo.Set(initialize = range(N+1))\n",
    "m.u = pyo.Var(m.tidx)\n",
    "m.x = pyo.Var(m.tidx)\n",
    "\n",
    "m.cost = pyo.Objective(\n",
    "    expr = sum((m.x[t]-xNbar) **2 for t in m.tidx),\n",
    "    sense= pyo.minimize \n",
    "    \n",
    ")\n",
    "\n",
    "m.c1 = pyo.Constraint(\n",
    "    m.tidx, rule = lambda m,t:\n",
    "    m.x[t+1] == pyo.sin(m.x[t]) + m.u[t]\n",
    "    if t < N else pyo.Constraint.Skip\n",
    ")\n",
    "m.c21 = pyo.Constraint(\n",
    "    m.tidx, rule = lambda m,t:\n",
    "    m.u[t] <= 0.2\n",
    "    if t<N else pyo.Constraint.Skip\n",
    ")\n",
    "m.c22 = pyo.Constraint(\n",
    "    m.tidx, rule = lambda m,t:\n",
    "    m.u[t] >= -0.2\n",
    "    if t<N else pyo.Constraint.Skip\n",
    ")\n",
    "m.c31 = pyo.Constraint(\n",
    "    expr = m.x[N] -xNbar >= -0.1\n",
    ")\n",
    "m.c32 = pyo.Constraint(\n",
    "    expr = m.x[N] -xNbar <= 0.1\n",
    ")\n",
    "m.c4 = pyo.Constraint(expr = m.x[0] == x0)\n",
    "\n",
    "results = pyo.SolverFactory('ipopt').solve(m)\n",
    "\n",
    "x= [m.x[0]()]\n",
    "u= [m.u[0]()]\n",
    "for t in m.tidx:\n",
    "    if t< N: \n",
    "        x.append(m.x[t]())\n",
    "        \n",
    "    if t< N-1:\n",
    "        u.append(m.u[t]())\n",
    "\n",
    "print(u[0],u[18],u[49],x[19],x[49])\n",
    "plt.plot(x)\n",
    "plt.title('state')\n",
    "plt.show()\n",
    "plt.plot(u)\n",
    "plt.title('input')\n",
    "plt.show()\n",
    "\n",
    "\n"
   ]
  },
  {
   "cell_type": "markdown",
   "metadata": {
    "id": "qZ9hdx6Qe6SS"
   },
   "source": [
    "---\n",
    "### <font color=blue> Question C.2. Solve the same problem of Question C.1 with just one change. </font>\n",
    "<font color=blue>\n",
    "\n",
    "Assume that the system is subject to an additive disturbance which is completely known during the control design:\n",
    "\\begin{align}\n",
    "x_{k+1}= sin(x_k) + u_k+ d_k\n",
    "\\end{align}\n",
    "where \n",
    "\\begin{align}\n",
    "d_k= 0~\\textrm{if}~k<20~~~\\textrm{and}~~~d_k=0.3~\\textrm{if}~k>=20\n",
    "\\end{align}\n",
    "</font>\n",
    "    \n",
    "<font color=blue> Here \"the disturbance is completely known during the control design\" means: add it in your model of the optimization problem when you are building the Pyomo model. Use the Batch approach to compute the optimal solution $U^*_0(x(0))$ where $U^*_0=[u_0^*,\\ldots,u_{49}^*]$ for the initial conditions $x(0)=0.0$ </font>\n",
    " \n",
    "<font color=blue>\n",
    "    \n",
    "1. Type your code in the next Cell.\n",
    "2. Print $u_0^*$,  $u_{18}^*$,  $u_{49}^*$,  $x_{19}^*$,  $x_{49}^*$\n",
    "3. Plot the optimal state and input trajectory as a function of time\n",
    "</font>\n",
    "---\n"
   ]
  },
  {
   "cell_type": "code",
   "execution_count": 29,
   "metadata": {
    "id": "mZhp_PSPg3qt"
   },
   "outputs": [
    {
     "name": "stdout",
     "output_type": "stream",
     "text": [
      "0.2000000093789072 0.15852900954599444 -0.14147098105945097 0.9999999877177835 1.0000000081541545\n"
     ]
    },
    {
     "data": {
      "image/png": "[encoded data removed]",
      "text/plain": [
       "<Figure size 432x288 with 1 Axes>"
      ]
     },
     "metadata": {
      "needs_background": "light"
     },
     "output_type": "display_data"
    },
    {
     "data": {
      "image/png": "[encoded data removed]",
      "text/plain": [
       "<Figure size 432x288 with 1 Axes>"
      ]
     },
     "metadata": {
      "needs_background": "light"
     },
     "output_type": "display_data"
    }
   ],
   "source": [
    "#  ANSWER C.2\n",
    "\n",
    "import matplotlib.pyplot as plt\n",
    "import numpy as np \n",
    "import pyomo.environ as pyo\n",
    "\n",
    "N = 50\n",
    "xNbar = 1\n",
    "x0 =0 \n",
    "m = pyo.ConcreteModel()\n",
    "m.tidx = pyo.Set(initialize = range(N+1))\n",
    "m.u = pyo.Var(m.tidx)\n",
    "m.x = pyo.Var(m.tidx)\n",
    "m.d = pyo.Var(m.tidx)\n",
    "\n",
    "m.cost = pyo.Objective(\n",
    "    expr = sum((m.x[t]-xNbar) **2 for t in m.tidx),\n",
    "    sense= pyo.minimize \n",
    "    \n",
    ")\n",
    "\n",
    "m.c1 = pyo.Constraint(\n",
    "    m.tidx, rule = lambda m,t:\n",
    "    m.x[t+1] == pyo.sin(m.x[t]) + m.u[t] + m.d[t]\n",
    "    if t < N else pyo.Constraint.Skip\n",
    ")\n",
    "m.c21 = pyo.Constraint(\n",
    "    m.tidx, rule = lambda m,t:\n",
    "    m.u[t] <= 0.2\n",
    "    if t<N else pyo.Constraint.Skip\n",
    ")\n",
    "m.c22 = pyo.Constraint(\n",
    "    m.tidx, rule = lambda m,t:\n",
    "    m.u[t] >= -0.2\n",
    "    if t<N else pyo.Constraint.Skip\n",
    ")\n",
    "m.c31 = pyo.Constraint(\n",
    "    expr = m.x[N] -xNbar >= -0.1\n",
    ")\n",
    "m.c32 = pyo.Constraint(\n",
    "    expr = m.x[N] -xNbar <= 0.1\n",
    ")\n",
    "m.c4 = pyo.Constraint(expr = m.x[0] == x0)\n",
    "m.c5 = pyo.Constraint(m.tidx, rule = lambda m,t: m.d[t] ==0 if t < 20 else pyo.Constraint.Skip)\n",
    "m.c6 = pyo.Constraint(m.tidx, rule = lambda m,t: m.d[t] ==0.3 if t > 20 else pyo.Constraint.Skip)\n",
    "\n",
    "results = pyo.SolverFactory('ipopt').solve(m)\n",
    "\n",
    "x= [m.x[0]()]\n",
    "u= [m.u[0]()]\n",
    "for t in m.tidx:\n",
    "    if t< N: \n",
    "        x.append(m.x[t]())\n",
    "        \n",
    "    if t< N-1:\n",
    "        u.append(m.u[t]())\n",
    "\n",
    "print(u[0],u[18],u[49],x[19],x[49])\n",
    "plt.plot(x)\n",
    "plt.title('state')\n",
    "plt.show()\n",
    "plt.plot(u)\n",
    "plt.title('input')\n",
    "plt.show()"
   ]
  },
  {
   "cell_type": "markdown",
   "metadata": {
    "id": "d3aP2FEZoveI"
   },
   "source": [
    "\n",
    "\n",
    "---\n",
    "\n",
    "\n",
    "### <font color=blue> Question C.3 Compare the results of Question C1 and C2 and answer the following questions (just text , no Code).\n",
    "\n",
    "\n",
    "\n",
    "\n",
    "<font color=blue> 1. Why the two $u^*_{19}$ are different, even if the disturbance happens at step k=20?\n",
    "\n",
    "<font color=blue> 2. If you increase the disturbance  amplitude $d_k$ from 0.3 to 1 the problem becomes infeasible.What is the reason of this infeasibility? \n",
    "\n",
    "---\n",
    "\n",
    "\n"
   ]
  },
  {
   "cell_type": "markdown",
   "metadata": {
    "id": "C7ELxJ8Ap14D"
   },
   "source": [
    "ANSWER C.3\n",
    "\n",
    "1. ...\n",
    "2. ..."
   ]
  },
  {
   "cell_type": "markdown",
   "metadata": {
    "id": "ucJG1FtQUjYj"
   },
   "source": [
    "\n",
    "\n",
    "---\n",
    "\n",
    "\n",
    "## **<font color=blue> Part D- Optimal Control - DP Approach </font>**\n",
    "\n",
    "\n",
    "---\n",
    "\n"
   ]
  },
  {
   "cell_type": "markdown",
   "metadata": {
    "id": "LalTzVc9sFA4"
   },
   "source": [
    "### <font color=blue>Question D.1 Consider the following finite-time optimal control problem\n",
    "\\begin{align}\n",
    "\t\\min_{x_0,\\ldots,x_N,u_0,\\ldots,u_{N-1}} &\\sum_{k=0}^{k=N}  \\|x_k  - \\bar{x}_N \\|_2^2\\nonumber\\\\\n",
    "\t& x_{k+1}=\\sin(x_k)+u_k &&~\\forall k = \\left\\{0,\\ldots,N-1 \\right\\} \\nonumber\\\\\n",
    "\t& \\text{-}0.2 \\leq u_k \\leq 0.2 &&~\\forall k = \\left\\{0,\\ldots,N-1 \\right\\} \\nonumber\\\\\n",
    "\t%& |a(k+1) - a(k)| \\leq a_d &&~\\forall k = \\left\\{0,\\ldots,H_p-1 \\right\\} \\nonumber\\\\\n",
    "\t& \\lvert x_N \\rvert \\leq 0.1 \\nonumber\\\\\n",
    "\t& \\bar{x}_N = 1\\nonumber\\\\\n",
    "\t& x_0 = 0 \\nonumber\\\\~\\\\\n",
    "\\end{align}\n",
    "<font color=blue> where $N=2$.\n",
    "Use the Dynamic Programming approach to compute the closed-loop optimal solution of the problem only for the gridded states and gridded inputs shown in the next figure\n",
    "</font>"
   ]
  },
  {
   "cell_type": "markdown",
   "metadata": {
    "id": "0EgtLmauyrrB"
   },
   "source": [
    "![ex1.png](data:image/png;base64,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)"
   ]
  },
  {
   "cell_type": "markdown",
   "metadata": {
    "id": "pR7RHvBlyzoh"
   },
   "source": [
    "\n",
    "\n",
    "---\n",
    "\n"
   ]
  },
  {
   "cell_type": "code",
   "execution_count": null,
   "metadata": {},
   "outputs": [],
   "source": [
    "answer: -0.2; 2.44; -0.2 0.2; 2.443 2.437； NaN, 0.9974,1.0026, NaN"
   ]
  },
  {
   "cell_type": "markdown",
   "metadata": {
    "id": "3ZM_Gmx14uSg"
   },
   "source": [
    "\n",
    "\n",
    "---\n",
    "### <font color=blue> Question D.2 The approach to solve the CFTOC problem in question D1 relies on state and input discretization. Assume you solved the same problem in question D1 with a batch approach. If you compared the cost $J^*_{0\\rightarrow 2}(x_0)$ of the Batch solution  with the same cost of the DP solution you would obtain\n",
    "\n",
    "1. The Batch Approach cost is lower since the DP approach uses discretization. \n",
    "2. The DP Approach cost might be still the same, since we were lucky and discretized along the optimal state and input trajectory.\n",
    "3. You  cannot make any statements since the Batch solver (IPOPT) might get stuck in a local optima and the DP approach uses a discretization and thus is suboptimal. Anything can happen: $J^*_{0\\rightarrow 2}(x_0)$ Batch <= $J^*_{0\\rightarrow 2}(x_0)$ DP or $J^*_{0\\rightarrow 2}(x_0)$ Batch > $J^*_{0\\rightarrow 2}(x_0)$ DP.\n",
    "\n",
    "\n",
    "\n"
   ]
  },
  {
   "cell_type": "markdown",
   "metadata": {
    "id": "avPJjWVu6qGJ"
   },
   "source": [
    "Only one is True, which one?\n",
    "\n",
    "ANSWER D2: 1,2, or 3?\n",
    "\n",
    "3\n",
    "\n"
   ]
  },
  {
   "cell_type": "code",
   "execution_count": null,
   "metadata": {
    "id": "r0uIVyXuvlGQ"
   },
   "outputs": [],
   "source": [
    "# pdf conversion steps: \n",
    "\n",
    "# If you are using docker, to make a pdf from your .ipynb file follow these steps:\n",
    "\n",
    "# Inside your docker container open a New Launcher by tapping + icon at the top left and then a Terminal.\n",
    "# cd to the directory that your Midterm_2020.ipynb file is located.\n",
    "# Run jupyter nbconvert --to html Midterm_2020.ipynb to make html version. (converting directly to pdf may cause some error, so we convert to html first and then pdf file.)\n",
    "# Navigate to your mounted folder on your local machine and open the html file (If you open html file inside the container you cannot see the equations that are written in Latex. So you just need to open it on your host browser.)\n",
    "# Now you can print (Ctrl+p) and save it as a pdf file.\n",
    "\n",
    "# If you are using Colab, you just need to print and save as a pdf file."
   ]
  }
 ],
 "metadata": {
  "colab": {
   "collapsed_sections": [],
   "name": "Midterm_2020.ipynb",
   "provenance": []
  },
  "kernelspec": {
   "display_name": "Python 3",
   "language": "python",
   "name": "python3"
  },
  "language_info": {
   "codemirror_mode": {
    "name": "ipython",
    "version": 3
   },
   "file_extension": ".py",
   "mimetype": "text/x-python",
   "name": "python",
   "nbconvert_exporter": "python",
   "pygments_lexer": "ipython3",
   "version": "3.7.0"
  }
 },
 "nbformat": 4,
 "nbformat_minor": 1
}
