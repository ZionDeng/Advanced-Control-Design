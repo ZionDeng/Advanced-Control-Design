{
 "cells": [
  {
   "cell_type": "markdown",
   "metadata": {},
   "source": [
    "# Lab4: KKT Conditions \n",
    "\n",
    "University of California Berkeley\n",
    "\n",
    "ME C231A, EE C220B, Experiential Advanced Control I"
   ]
  },
  {
   "cell_type": "markdown",
   "metadata": {},
   "source": [
    "***"
   ]
  },
  {
   "cell_type": "markdown",
   "metadata": {},
   "source": [
    "*This* lab introduces how to check the Karush-Kuhn-Tucker (KKT) conditions using $\\texttt{Pyomo}$."
   ]
  },
  {
   "cell_type": "code",
   "execution_count": 1,
   "metadata": {},
   "outputs": [],
   "source": [
    "# This cell is commented out because Pyomo and solvers are already installed on Docker image.\n",
    "# Please run this cell only if you are using Google Colab. \n",
    "\n",
    "# # install required dependencies\n",
    "# import sys\n",
    "# IN_COLAB = 'google.colab' in sys.modules\n",
    "# if IN_COLAB:\n",
    "#   !pip install -q pyomo\n",
    "#   !apt-get install -y -qq glpk-utils\n",
    "#   !apt-get install -y -qq coinor-cbc\n",
    "#   !wget -N -q \"https://ampl.com/dl/open/ipopt/ipopt-linux64.zip\"\n",
    "#   !unzip -o -q ipopt-linux64"
   ]
  },
  {
   "cell_type": "markdown",
   "metadata": {},
   "source": [
    "***"
   ]
  },
  {
   "cell_type": "markdown",
   "metadata": {},
   "source": [
    "# Quadratic Programming Example\n",
    "For the following problems write a quadratic program and solve using $\\texttt{Pyomo}$. Then, check whether the KKT conditions are satisfied or not. \n",
    "\n",
    "\\begin{align}\n",
    "\\min_{z_1,z_2}~ &  z_1^2 + z_2^2 \\\\\n",
    "& z_1 \\geq 1  \\\\\n",
    "& z_2 \\geq 1 \n",
    "\\end{align}"
   ]
  },
  {
   "cell_type": "markdown",
   "metadata": {},
   "source": [
    "<!-- <img src='KKT_slide.png' width=\"700\"/>  -->"
   ]
  },
  {
   "cell_type": "code",
   "execution_count": 2,
   "metadata": {},
   "outputs": [
    {
     "name": "stdout",
     "output_type": "stream",
     "text": [
      "dual 1: -1.9999999825076669\n",
      "dual 2: -1.9999999825076669\n",
      "z1*_solver = 0.9999999912538334\n",
      "z2*_solver = 0.9999999912538334\n",
      "opt_value = 1.999999965015334\n"
     ]
    }
   ],
   "source": [
    "import numpy as np\n",
    "import pyomo.environ as pyo\n",
    "from pyomo.opt import SolverStatus, TerminationCondition\n",
    "threshold = 1e-5\n",
    "\n",
    "model = pyo.ConcreteModel()\n",
    "\n",
    "\n",
    "model.z1 = pyo.Var()\n",
    "model.z2 = pyo.Var()\n",
    "\n",
    "model.Obj = pyo.Objective(expr = model.z1**2 + model.z2**2)\n",
    "model.Constraint1 = pyo.Constraint(expr = -model.z1 + 1 <= 0)\n",
    "model.Constraint2 = pyo.Constraint(expr = -model.z2 + 1 <= 0)\n",
    "# model.Constraint2 = pyo.Constraint(expr = 1 <= model.z2) # Do not write the constraitns in non-standard form, which can result in getting dual variables with different signs. \n",
    "\n",
    "model.dual = pyo.Suffix(direction=pyo.Suffix.IMPORT)\n",
    "\n",
    "solver = pyo.SolverFactory('ipopt')\n",
    "results = solver.solve(model)\n",
    "\n",
    "print('dual 1:', model.dual[model.Constraint1])\n",
    "print('dual 2:', model.dual[model.Constraint2])\n",
    "        \n",
    "print('z1*_solver =', pyo.value(model.z1))\n",
    "print('z2*_solver =', pyo.value(model.z2))\n",
    "\n",
    "print('opt_value =', pyo.value(model.Obj))"
   ]
  },
  {
   "cell_type": "code",
   "execution_count": 4,
   "metadata": {},
   "outputs": [
    {
     "name": "stdout",
     "output_type": "stream",
     "text": [
      "Constraint Constraint1\n",
      "-1.9999999825076669\n",
      "Constraint Constraint2\n",
      "-1.9999999825076669\n",
      "True\n"
     ]
    }
   ],
   "source": [
    "if results.solver.termination_condition != TerminationCondition.optimal:\n",
    "    KKTsat = False\n",
    "else:\n",
    "    A = -np.eye(2)\n",
    "    b = -np.ones((2,))\n",
    "    zOpt = np.array([pyo.value(model.z1), pyo.value(model.z2)])\n",
    "    \n",
    "    u = []\n",
    "    for c in model.component_objects(pyo.Constraint, active=True):\n",
    "        print (\"Constraint\", c)\n",
    "        for index in c:\n",
    "            u.append(-model.dual[c[index]]) # The duals in pyomo are defined for positive inequality constraints g(x) > =0, so we add a negative sign.\n",
    "            print(model.dual[c[index]])\n",
    "    u = np.asarray(u)\n",
    "    for i in range(len(u)):\n",
    "        if (u[i] < threshold) & (u[i] > -threshold):\n",
    "            u[i] = 0 \n",
    "            \n",
    "# Checking KKT Conditions: \n",
    "\n",
    "    flag_primal = np.any(np.all(A@zOpt <= b + threshold) | np.all(A@zOpt <= b - threshold))   #  A@zOpt <= b primal feasibility \n",
    "    \n",
    "    flag_dual = np.all(u >= 0)     # dual feasibility \n",
    "    \n",
    "    flag_cs = np.all(np.multiply(u,(A@zOpt-b)) < threshold) & np.all(np.multiply(u,(A@zOpt-b)) > -threshold)  # complementary slackness u1*g1 = 0, u2*g2=0, where g1 and g2 are the two inequality constraints. \n",
    "    \n",
    "    grad_lagrangian = [2*zOpt[0],2*zOpt[1]] + u.T@A\n",
    "    \n",
    "    for i in range(len(grad_lagrangian)):\n",
    "        if (grad_lagrangian[i] < threshold) & (grad_lagrangian[i] > -threshold):  # gradient of Lagragian evaluated at optimizer point must be zero.    \n",
    "            grad_lagrangian[i] = 0\n",
    "    flag_grad = np.all(grad_lagrangian == 0)\n",
    "    KKT_conditions = np.array([flag_primal, flag_dual, flag_cs, flag_grad])\n",
    "    if all(KKT_conditions == 1):\n",
    "        KKTsat = True\n",
    "    else:\n",
    "        KKTsat = False   \n",
    "\n",
    "print(KKTsat)"
   ]
  }
 ],
 "metadata": {
  "kernelspec": {
   "display_name": "Python 3",
   "language": "python",
   "name": "python3"
  },
  "language_info": {
   "codemirror_mode": {
    "name": "ipython",
    "version": 3
   },
   "file_extension": ".py",
   "mimetype": "text/x-python",
   "name": "python",
   "nbconvert_exporter": "python",
   "pygments_lexer": "ipython3",
   "version": "3.8.5"
  }
 },
 "nbformat": 4,
 "nbformat_minor": 4
}
