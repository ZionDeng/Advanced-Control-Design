{
 "cells": [
  {
   "cell_type": "markdown",
   "metadata": {},
   "source": [
    "# Lab 9: Model Predictive Control \n",
    "\n",
    "ME C231A, EECS C220B, UC Berkeley"
   ]
  },
  {
   "cell_type": "markdown",
   "metadata": {},
   "source": [
    "***"
   ]
  },
  {
   "cell_type": "code",
   "execution_count": 1,
   "metadata": {},
   "outputs": [],
   "source": [
    "# This cell is commented out because Polytope package, Pyomo and solvers are already installed on Docker image.\n",
    "# Please run this cell only if you are using Google Colab. \n",
    "\n",
    "# # install required dependencies\n",
    "# import sys\n",
    "# IN_COLAB = 'google.colab' in sys.modules\n",
    "# if IN_COLAB:\n",
    "#   !pip install polytope\n",
    "#   !pip install -q pyomo\n",
    "#   !apt-get install -y -qq glpk-utils\n",
    "#   !apt-get install -y -qq coinor-cbc\n",
    "#   !wget -N -q \"https://ampl.com/dl/open/ipopt/ipopt-linux64.zip\"\n",
    "#   !unzip -o -q ipopt-linux64"
   ]
  },
  {
   "cell_type": "markdown",
   "metadata": {},
   "source": [
    "In *this* lab we introduce Model Predictive Control. "
   ]
  },
  {
   "cell_type": "markdown",
   "metadata": {},
   "source": [
    "***"
   ]
  },
  {
   "cell_type": "markdown",
   "metadata": {},
   "source": [
    "Formulation of CFTOC Problem with Pyomo\n",
    "\n",
    "First we will write a function which formulates and solves a finite time optimal control problem with quadratic cost, linear dynamics, and linear constraints. Then we call this function as a part of the MPC controller. Consider the problem defined below:\n",
    "\\begin{equation}\n",
    "\\begin{aligned}\n",
    "\\min_{x_1 \\dots x_N,u_0 \\dots u_{N-1}} & \\quad x_N^{\\top}Px_N+\\sum_{k=0}^{N-1}x_k^{\\top}Qx_k+u_k^{\\top}Ru_k \\\\\n",
    "\\text{s.t.} & \\quad x_{k+1} = Ax_k + Bu_k \\quad \\forall k=0\\dots N-1\\\\\n",
    "& \\quad x_{min} \\leq x_k \\leq x_{max}  \\quad \\forall k=0\\dots N-1 \\\\\n",
    "& \\quad u_{min} \\leq u_k \\leq u_{max}  \\quad \\forall k=0\\dots N-1 \\\\\n",
    "& \\quad x_0 = x(0) \\\\\n",
    "& \\quad x_N \\in \\mathcal{X}_f\n",
    "\\end{aligned}\n",
    "\\end{equation}\n",
    "\n",
    "Write a function in the following form which formulates the problem using pyomo and solves the problem using the solver $\\texttt{ipopt}$. Test your code on several 1 and 2-state examples."
   ]
  },
  {
   "cell_type": "markdown",
   "metadata": {},
   "source": [
    "\n",
    "- $\\texttt{feas}$ is a scalar logical indicating the feasibility of the CFTOC problem\n",
    "- $\\texttt{xOpt}$ is a $n_x \\times (N+1)$ matrix of the optimal state trajectory, where $n_x$ is the state dimension\n",
    "- $\\texttt{uOpt}$ is a $n_u \\times N$ matrix of the optimal input sequence, where $n_u$ is the input dimension\n",
    "- $\\texttt{JOpt}$ is a scalar of the optimal cost from the specified initial condition\n",
    "- $\\texttt{A, B}$ are the state and input matricies of the linear dynamics\n",
    "- $\\texttt{P}$ is the terminal cost matrix\n",
    "- $\\texttt{Q, R}$ are the stage cost matricies\n",
    "- $\\texttt{N}$ is the MPC horizon\n",
    "- $\\texttt{x0}$ is the initial condition\n",
    "- $\\texttt{xL, xU, uL, uU}$ are the box state and input constraints\n",
    "- $\\texttt{bf, Af}$ are used to represent the terminal set. If the terminal set ${\\cal X}_f$ is a single point, ${\\cal X}_f = \\{ \\bar{x}_N \\}$, the input argument $\\texttt{bf}$ is used to specify this single point $\\bar{x}_N$, and the input argument $\\texttt{Af = []}$ is used to designate this special case of a single-point terminal set. If the terminal set is described by a set of linear inequalities, it can be expressed using the inequality $A_f x_N \\leq b_f$.  \n"
   ]
  },
  {
   "cell_type": "code",
   "execution_count": 2,
   "metadata": {},
   "outputs": [],
   "source": [
    "import polytope as pt\n",
    "import numpy as np\n",
    "from __future__ import division\n",
    "import pyomo.environ as pyo\n",
    "import matplotlib.pyplot as plt\n",
    "%matplotlib widget"
   ]
  },
  {
   "cell_type": "code",
   "execution_count": 3,
   "metadata": {},
   "outputs": [],
   "source": [
    "def solve_cftoc(A, B, P, Q, R, N, x0, xL, xU, uL, uU, bf=np.nan, Af=np.nan):\n",
    "    \n",
    "    model = pyo.ConcreteModel()\n",
    "    model.N = N\n",
    "    model.nx = np.size(A, 0)\n",
    "    model.nu = np.size(B, 1)\n",
    "    \n",
    "    # length of finite optimization problem:\n",
    "    model.tIDX = pyo.Set( initialize= range(model.N+1), ordered=True )  \n",
    "    model.xIDX = pyo.Set( initialize= range(model.nx), ordered=True )\n",
    "    model.uIDX = pyo.Set( initialize= range(model.nu), ordered=True )\n",
    "    \n",
    "    # these are 2d arrays:\n",
    "    model.A = A\n",
    "    model.B = B\n",
    "    model.Q = Q\n",
    "    model.P = P\n",
    "    model.R = R\n",
    "    \n",
    "    # Create state and input variables trajectory:\n",
    "    model.x = pyo.Var(model.xIDX, model.tIDX, bounds=(xL,xU))\n",
    "    model.u = pyo.Var(model.uIDX, model.tIDX, bounds=(uL,uU))\n",
    "    \n",
    "    #Objective:\n",
    "    def objective_rule(model):\n",
    "        costX = 0.0\n",
    "        costU = 0.0\n",
    "        costTerminal = 0.0\n",
    "        for t in model.tIDX:\n",
    "            for i in model.xIDX:\n",
    "                for j in model.xIDX:\n",
    "                    if t < model.N:\n",
    "                        costX += model.x[i, t] * model.Q[i, j] * model.x[j, t] \n",
    "        for t in model.tIDX:\n",
    "            for i in model.uIDX:\n",
    "                for j in model.uIDX:\n",
    "                    if t < model.N:\n",
    "                        costU += model.u[i, t] * model.R[i, j] * model.u[j, t]\n",
    "        for i in model.xIDX:\n",
    "            for j in model.xIDX:               \n",
    "                costTerminal += model.x[i, model.N] * model.P[i, j] * model.x[j, model.N]\n",
    "        return costX + costU + costTerminal\n",
    "    \n",
    "    model.cost = pyo.Objective(rule = objective_rule, sense = pyo.minimize)\n",
    "    \n",
    "    # Constraints:\n",
    "    def equality_const_rule(model, i, t):\n",
    "        return model.x[i, t+1] - (sum(model.A[i, j] * model.x[j, t] for j in model.xIDX)\n",
    "                               +  sum(model.B[i, j] * model.u[j, t] for j in model.uIDX) ) == 0.0 if t < model.N else pyo.Constraint.Skip\n",
    "\n",
    "    model.equality_constraints = pyo.Constraint(model.xIDX, model.tIDX, rule=equality_const_rule)\n",
    "    model.init_const1 = pyo.Constraint(expr = model.x[0, 0] == x0[0])\n",
    "    model.init_const2 = pyo.Constraint(expr = model.x[1, 0] == x0[1])\n",
    "        \n",
    "    solver = pyo.SolverFactory('ipopt')\n",
    "    results = solver.solve(model)\n",
    "    \n",
    "    if str(results.solver.termination_condition) == \"optimal\":\n",
    "        feas = True\n",
    "    else:\n",
    "        feas = False\n",
    "            \n",
    "    xOpt = np.asarray([[model.x[i,t]() for i in model.xIDX] for t in model.tIDX]).T\n",
    "    uOpt = np.asarray([model.u[:,t]() for t in model.tIDX]).T\n",
    "    \n",
    "    JOpt = model.cost()\n",
    "      \n",
    "    return [model, feas, xOpt, uOpt, JOpt]\n",
    "\n"
   ]
  },
  {
   "cell_type": "markdown",
   "metadata": {},
   "source": [
    "Consider the following system\n",
    "\\begin{equation}\\label{eq:model-int1}\n",
    "x(k+1)=\\begin{bmatrix} 1 &  1\\\\ 0 & 1 \\end{bmatrix}x(k)+\n",
    "     \\begin{bmatrix} 0\\\\ 1 \\end{bmatrix}u(k) \\quad \\quad (1)   \n",
    "\\end{equation}\n",
    "\n",
    "The state and input constraints are\n",
    "\\begin{equation}\\begin{aligned}\n",
    "\\mathcal{U}: &-0.5\\leq u(k)\\leq 0.5 \\quad \\quad \\quad \\quad \\quad \\quad \\quad \\quad (2a)\\\\ \n",
    "\\mathcal{X}: &\\begin{bmatrix} -5\\\\ -5 \\end{bmatrix} \\leq x(k) \\leq \\begin{bmatrix} 5\\\\ 5 \\end{bmatrix} \\quad \\quad \\quad \\quad \\quad \\quad \\quad(2b)\n",
    "\\end{aligned}\n",
    "\\label{eq:con1}\\end{equation}"
   ]
  },
  {
   "cell_type": "markdown",
   "metadata": {},
   "source": [
    "In this problem, we will design an MPC controllers of the form: \n",
    "\n",
    "\\begin{equation*}\n",
    "   \\begin{array}{lll}\n",
    "       J_0^*(x_0)=  &\\displaystyle{\\min_{{U_0}}}& \\displaystyle{ \\color{red}{x_N'Px_N} + \\sum_{k=0}^{{N}-1}\n",
    "  x_k'Qx_k+u_k'Ru_k} \\\\\n",
    "       &\\text{subject to}   \\\\\n",
    "       &&x_{k+1}=Ax_{k}+Bu_{k},\\ k=0,\\ldots,N-1\\\\\n",
    "                       &&x_{k}\\in\\mathcal{X},~u_{k}\\in\\mathcal{U},~k=0,\\ldots,N-1\\\\\n",
    "                       && \\color{red}{{x_{N}\\in {\\mathcal{X}_f} }} \\\\\n",
    "                       && x_{0}=x(t)\n",
    "    \\end{array}\n",
    "\\end{equation*}\n",
    "In this problem, $Q=I_2$, $R=10$, $P=Q$ and $N=3$. "
   ]
  },
  {
   "cell_type": "markdown",
   "metadata": {},
   "source": [
    "Now solve the MPC problem over a simulation horizon $M=25$ from the initial conditions $x_0 = [-4.5, 2]$."
   ]
  },
  {
   "cell_type": "code",
   "execution_count": 4,
   "metadata": {},
   "outputs": [
    {
     "name": "stdout",
     "output_type": "stream",
     "text": [
      "JOpt= 39.75526315789474\n",
      "xOpt= [[-4.5     -2.5     -0.90105  0.40737]\n",
      " [ 2.       1.59895  1.30842  1.18947]]\n"
     ]
    },
    {
     "data": {
      "image/png": "[encoded data removed]",
      "text/plain": [
       "<Figure size 648x432 with 1 Axes>"
      ]
     },
     "metadata": {
      "needs_background": "light"
     },
     "output_type": "display_data"
    },
    {
     "data": {
      "image/png": "[encoded data removed]",
      "text/plain": [
       "<Figure size 648x432 with 1 Axes>"
      ]
     },
     "metadata": {
      "needs_background": "light"
     },
     "output_type": "display_data"
    }
   ],
   "source": [
    "A = np.array([[1, 1],\n",
    "               [0, 1]])\n",
    "B = np.array([[0],\n",
    "              [1]])\n",
    "\n",
    "Q = np.eye(2)\n",
    "R = 10*np.array([1]).reshape(1,1)\n",
    "P = Q\n",
    "N = 3\n",
    "xL = -5\n",
    "xU = 5\n",
    "uL = -0.5\n",
    "uU = 0.5\n",
    "x0 = np.array ([-4.5, 2])\n",
    "\n",
    "[model, feas, xOpt, uOpt, JOpt] = solve_cftoc(A, B, P, Q, R, N, x0, xL, xU, uL, uU)\n",
    "\n",
    "print('JOpt=', JOpt)\n",
    "print('xOpt=', xOpt)\n",
    "fig = plt.figure(figsize=(9, 6))\n",
    "plt.plot(xOpt.T)\n",
    "plt.ylabel('x')\n",
    "fig = plt.figure(figsize=(9, 6))\n",
    "plt.plot(uOpt.T)\n",
    "plt.ylabel('u')\n",
    "plt.show()\n",
    "# results = pyo.SolverFactory('ipopt').solve(model).write()\n",
    "results = pyo.SolverFactory('ipopt').solve(model)"
   ]
  },
  {
   "cell_type": "code",
   "execution_count": 5,
   "metadata": {},
   "outputs": [
    {
     "name": "stdout",
     "output_type": "stream",
     "text": [
      "Feasibility = [ True  True  True  True  True  True  True  True  True  True  True  True\n",
      "  True  True  True  True  True  True  True  True  True  True  True  True\n",
      "  True]\n"
     ]
    },
    {
     "data": {
      "text/plain": [
       "(-4.7873736678911865,\n",
       " 1.5348470257149194,\n",
       " -0.36055348771074114,\n",
       " 2.112407308938607)"
      ]
     },
     "execution_count": 5,
     "metadata": {},
     "output_type": "execute_result"
    },
    {
     "data": {
      "image/png": "[encoded data removed]",
      "text/plain": [
       "<Figure size 648x432 with 1 Axes>"
      ]
     },
     "metadata": {
      "needs_background": "light"
     },
     "output_type": "display_data"
    }
   ],
   "source": [
    "import numpy as np\n",
    "import polytope as pt\n",
    "\n",
    "nx = np.size(A, 0)\n",
    "nu = np.size(B, 1)\n",
    "\n",
    "M = 25   # Simulation time\n",
    "\n",
    "xOpt = np.zeros((nx, M+1))\n",
    "uOpt = np.zeros((nu, M))\n",
    "xOpt[:, 0] = x0.reshape(nx, )\n",
    "\n",
    "xPred = np.zeros((nx, N+1, M))\n",
    "\n",
    "feas = np.zeros((M, ), dtype=bool)\n",
    "\n",
    "fig = plt.figure(figsize=(9, 6))\n",
    "for t in range(M):\n",
    "    [model, feas[t], x, u, J] = solve_cftoc(A, B, P, Q, R, N, xOpt[:, t], xL, xU, uL, uU)\n",
    "    \n",
    "    if not feas[t]:\n",
    "        xOpt = []\n",
    "        uOpt = []\n",
    "        break\n",
    "        \n",
    "    xOpt[:, t+1] = x[:, 1]\n",
    "    uOpt[:, t] = u[:, 0].reshape(nu, )\n",
    "    # open loop\n",
    "    line1 = plt.plot(x[0,:],x[1,:],'r--')\n",
    "\n",
    "\n",
    "print('Feasibility =', feas)    \n",
    "\n",
    "line2 = plt.plot(xOpt[0, :], xOpt[1, :], 'bo-')\n",
    "plt.legend([line1[0],line2[0]],['open loop','close loop'])\n",
    "plt.xlabel('x1')\n",
    "plt.ylabel('x2')\n",
    "plt.axis('equal')\n",
    "\n"
   ]
  },
  {
   "cell_type": "markdown",
   "metadata": {},
   "source": [
    "## Now change the initial condition to $x_0 = [-4.5, 3]$ and run the same MPC again. \n",
    "Is the problem feasible this time? Why? \n",
    "\n",
    "How can we guarantee that the MPC problem is always feasible?"
   ]
  },
  {
   "cell_type": "markdown",
   "metadata": {},
   "source": [
    "***"
   ]
  },
  {
   "cell_type": "markdown",
   "metadata": {},
   "source": [
    "Now we are going to use $\\texttt{Polytope}$ package. For more information please look at this link: https://tulip-control.github.io/polytope/\n",
    "Note that this package is already installed on docker image. If you are using Google Colab please run $\\texttt{!pip install polytope}$ to install $\\texttt{Polytope}$ package. The following cell shows a simple plotting for polytopic sets. "
   ]
  },
  {
   "cell_type": "code",
   "execution_count": 8,
   "metadata": {},
   "outputs": [
    {
     "data": {
      "image/png": "[encoded data removed]",
      "text/plain": [
       "<Figure size 432x288 with 1 Axes>"
      ]
     },
     "metadata": {
      "needs_background": "light"
     },
     "output_type": "display_data"
    },
    {
     "ename": "Exception",
     "evalue": "Cannot plot polytopes of dimension larger than 2",
     "output_type": "error",
     "traceback": [
      "\u001b[1;31m---------------------------------------------------------------------------\u001b[0m",
      "\u001b[1;31mException\u001b[0m                                 Traceback (most recent call last)",
      "\u001b[1;32m<ipython-input-8-24e310328fdc>\u001b[0m in \u001b[0;36m<module>\u001b[1;34m()\u001b[0m\n\u001b[0;32m     24\u001b[0m \u001b[1;33m\u001b[0m\u001b[0m\n\u001b[0;32m     25\u001b[0m \u001b[0mfig\u001b[0m\u001b[1;33m,\u001b[0m \u001b[0max\u001b[0m \u001b[1;33m=\u001b[0m \u001b[0mplt\u001b[0m\u001b[1;33m.\u001b[0m\u001b[0msubplots\u001b[0m\u001b[1;33m(\u001b[0m\u001b[1;33m)\u001b[0m\u001b[1;33m\u001b[0m\u001b[0m\n\u001b[1;32m---> 26\u001b[1;33m \u001b[0mU\u001b[0m\u001b[1;33m.\u001b[0m\u001b[0mplot\u001b[0m\u001b[1;33m(\u001b[0m\u001b[0max\u001b[0m\u001b[1;33m,\u001b[0m \u001b[0mcolor\u001b[0m\u001b[1;33m=\u001b[0m\u001b[1;34m'r'\u001b[0m\u001b[1;33m)\u001b[0m\u001b[1;33m\u001b[0m\u001b[0m\n\u001b[0m\u001b[0;32m     27\u001b[0m \u001b[0max\u001b[0m\u001b[1;33m.\u001b[0m\u001b[0mautoscale_view\u001b[0m\u001b[1;33m(\u001b[0m\u001b[1;33m)\u001b[0m\u001b[1;33m\u001b[0m\u001b[0m\n\u001b[0;32m     28\u001b[0m \u001b[0max\u001b[0m\u001b[1;33m.\u001b[0m\u001b[0maxis\u001b[0m\u001b[1;33m(\u001b[0m\u001b[1;34m'equal'\u001b[0m\u001b[1;33m)\u001b[0m\u001b[1;33m\u001b[0m\u001b[0m\n",
      "\u001b[1;32mD:\\Code_env\\Python3\\Anaconda3\\lib\\site-packages\\polytope\\polytope.py\u001b[0m in \u001b[0;36mplot\u001b[1;34m(self, ax, color, hatch, alpha, linestyle, linewidth, edgecolor)\u001b[0m\n\u001b[0;32m    403\u001b[0m     \u001b[1;32mdef\u001b[0m \u001b[0mplot\u001b[0m\u001b[1;33m(\u001b[0m\u001b[0mself\u001b[0m\u001b[1;33m,\u001b[0m \u001b[0max\u001b[0m\u001b[1;33m=\u001b[0m\u001b[1;32mNone\u001b[0m\u001b[1;33m,\u001b[0m \u001b[0mcolor\u001b[0m\u001b[1;33m=\u001b[0m\u001b[1;32mNone\u001b[0m\u001b[1;33m,\u001b[0m \u001b[0mhatch\u001b[0m\u001b[1;33m=\u001b[0m\u001b[1;32mNone\u001b[0m\u001b[1;33m,\u001b[0m \u001b[0malpha\u001b[0m\u001b[1;33m=\u001b[0m\u001b[1;36m1.0\u001b[0m\u001b[1;33m,\u001b[0m \u001b[0mlinestyle\u001b[0m\u001b[1;33m=\u001b[0m\u001b[1;32mNone\u001b[0m\u001b[1;33m,\u001b[0m \u001b[0mlinewidth\u001b[0m\u001b[1;33m=\u001b[0m\u001b[1;32mNone\u001b[0m\u001b[1;33m,\u001b[0m \u001b[0medgecolor\u001b[0m\u001b[1;33m=\u001b[0m\u001b[1;32mNone\u001b[0m\u001b[1;33m)\u001b[0m\u001b[1;33m:\u001b[0m\u001b[1;33m\u001b[0m\u001b[0m\n\u001b[0;32m    404\u001b[0m         \u001b[1;32mif\u001b[0m \u001b[0mself\u001b[0m\u001b[1;33m.\u001b[0m\u001b[0mdim\u001b[0m \u001b[1;33m!=\u001b[0m \u001b[1;36m2\u001b[0m\u001b[1;33m:\u001b[0m\u001b[1;33m\u001b[0m\u001b[0m\n\u001b[1;32m--> 405\u001b[1;33m             \u001b[1;32mraise\u001b[0m \u001b[0mException\u001b[0m\u001b[1;33m(\u001b[0m\u001b[1;34m\"Cannot plot polytopes of dimension larger than 2\"\u001b[0m\u001b[1;33m)\u001b[0m\u001b[1;33m\u001b[0m\u001b[0m\n\u001b[0m\u001b[0;32m    406\u001b[0m \u001b[1;33m\u001b[0m\u001b[0m\n\u001b[0;32m    407\u001b[0m         \u001b[1;31m# Setting default values for plotting\u001b[0m\u001b[1;33m\u001b[0m\u001b[1;33m\u001b[0m\u001b[0m\n",
      "\u001b[1;31mException\u001b[0m: Cannot plot polytopes of dimension larger than 2"
     ]
    },
    {
     "data": {
      "image/png": "[encoded data removed]",
      "text/plain": [
       "<Figure size 432x288 with 1 Axes>"
      ]
     },
     "metadata": {
      "needs_background": "light"
     },
     "output_type": "display_data"
    }
   ],
   "source": [
    "#   !pip install polytope\n",
    "\n",
    "xU = 5\n",
    "uU = 0.5\n",
    "\n",
    "# constraint sets represented as polyhedra\n",
    "X = pt.Polytope(np.array([[1.0, 0], \n",
    "                          [0, 1.0],\n",
    "                          [-1, 0],\n",
    "                          [0, -1]]), \n",
    "                np.array([[xU], \n",
    "                          [xU],\n",
    "                          [xU],\n",
    "                          [xU]]))\n",
    "\n",
    "U = pt.Polytope(np.array([1, -1]).reshape(2,1),\n",
    "                np.array([uU, uU]).reshape(2,1))\n",
    "\n",
    "fig, ax = plt.subplots()\n",
    "X.plot(ax, color='b')\n",
    "ax.autoscale_view()\n",
    "ax.axis('equal')\n",
    "plt.show()\n"
   ]
  },
  {
   "cell_type": "code",
   "execution_count": null,
   "metadata": {},
   "outputs": [],
   "source": []
  }
 ],
 "metadata": {
  "kernelspec": {
   "display_name": "Python 3",
   "language": "python",
   "name": "python3"
  },
  "language_info": {
   "codemirror_mode": {
    "name": "ipython",
    "version": 3
   },
   "file_extension": ".py",
   "mimetype": "text/x-python",
   "name": "python",
   "nbconvert_exporter": "python",
   "pygments_lexer": "ipython3",
   "version": "3.7.0"
  }
 },
 "nbformat": 4,
 "nbformat_minor": 4
}
