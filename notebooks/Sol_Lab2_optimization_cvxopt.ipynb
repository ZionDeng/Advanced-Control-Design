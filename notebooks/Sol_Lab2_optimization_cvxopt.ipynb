{
 "cells": [
  {
   "cell_type": "markdown",
   "metadata": {},
   "source": [
    "# Lab2: Optimization I (Solution)\n",
    "\n",
    "University of California Berkeley\n",
    "\n",
    "ME C231A, EE C220B, Experiential Advanced Control I"
   ]
  },
  {
   "cell_type": "markdown",
   "metadata": {},
   "source": [
    "***"
   ]
  },
  {
   "cell_type": "markdown",
   "metadata": {},
   "source": [
    "*This* lab includes\n",
    "1. an introduction to all the optimization problems, modeling toolboxes and solvers that are used in the course,\n",
    "2. also, you will become familiar with solving linear program and quadratic program using $\\texttt{cvxopt}$. "
   ]
  },
  {
   "cell_type": "markdown",
   "metadata": {},
   "source": [
    "**Optimization Problems:**\n",
    "\n",
    "Linear programming\n",
    "\n",
    "Quadratic Programming\n",
    "\n",
    "Convex Programming\n",
    "\n",
    "nonlinear/nonconvex\n",
    "\n",
    "Mixed-integer programming\n",
    "\n",
    "**Modeling APIs:**\n",
    "\n",
    "Pyomo http://www.pyomo.org/\n",
    "\n",
    "CVXPY https://www.cvxpy.org/ \n",
    "\n",
    "PICOS https://picos-api.gitlab.io/picos/index.html \n",
    "\n",
    "Scipy.optimize.linprog https://docs.scipy.org/doc/scipy/reference/generated/scipy.optimize.linprog.html\n",
    "\n",
    "Scipy.optimize.minimize https://docs.scipy.org/doc/scipy/reference/generated/scipy.optimize.minimize.html\n",
    "\n",
    "**Solvers:**\n",
    "\n",
    "IPOPT https://coin-or.github.io/Ipopt/\n",
    "\n",
    "CLP https://github.com/coin-or/Clp\n",
    "\n",
    "CBC https://projects.coin-or.org/Cbc \n",
    "\n",
    "GLPK https://www.gnu.org/software/glpk/\n",
    "\n",
    "CVXOPT http://cvxopt.org/index.html\n",
    "\n",
    "MOSEK https://www.mosek.com/\n",
    "\n",
    "OSQP https://osqp.org/docs/get_started/\n",
    "\n",
    "**In the optimization module, you will be exposed to some of the above Sovlers/ Modeling Api. In the MPC module we will mostly use Pyomo+IPOPT.**"
   ]
  },
  {
   "cell_type": "markdown",
   "metadata": {},
   "source": [
    "***"
   ]
  },
  {
   "cell_type": "markdown",
   "metadata": {},
   "source": [
    "# Linear programming example\n",
    "\n",
    "Let $x,y,z\\in\\mathbb{R}$. Use $\\texttt{cvxopt}$ to solve the following problem.\n",
    "\\begin{align}\n",
    "\\min_{x,y,z}\\ & x+y+z\\\\\n",
    "\\text{subject to} & -2\\le x\\\\\n",
    "&-1\\le y\\\\\n",
    "&-3\\le z\\\\\n",
    "&x-y+z\\ge 4\n",
    "\\end{align}"
   ]
  },
  {
   "cell_type": "code",
   "execution_count": 20,
   "metadata": {},
   "outputs": [
    {
     "name": "stdout",
     "output_type": "stream",
     "text": [
      "     pcost       dcost       gap    pres   dres   k/t\n",
      " 0: -4.0000e+00 -4.0000e+00  9e+00  1e+00  3e-16  1e+00\n",
      " 1:  1.7327e+00  1.9400e+00  3e+00  4e-01  5e-16  6e-01\n",
      " 2:  1.9923e+00  1.9947e+00  4e-02  5e-03  3e-16  7e-03\n",
      " 3:  1.9999e+00  1.9999e+00  4e-04  5e-05  2e-16  7e-05\n",
      " 4:  2.0000e+00  2.0000e+00  4e-06  5e-07  3e-16  7e-07\n",
      " 5:  2.0000e+00  2.0000e+00  4e-08  5e-09  5e-16  7e-09\n",
      "Optimal solution found.\n",
      "xOpt = [ 2.00e+00]\n",
      "[-1.00e+00]\n",
      "[ 1.00e+00]\n",
      "\n",
      "Cost = 1.9999999923035239\n"
     ]
    }
   ],
   "source": [
    "import numpy as np\n",
    "import cvxopt\n",
    "from cvxopt import matrix, solvers\n",
    "\n",
    "c = np.ones((3,))   # 1D array\n",
    "G = np.array([[-1, 0, 0], [0, -1, 0], [0, 0, -1], [-1, 1, -1]])   # 2D array\n",
    "h = np.array([2,1,3,-4])   # 1D array\n",
    "c = cvxopt.matrix(c, tc='d')\n",
    "G = cvxopt.matrix(G, tc='d')\n",
    "h = cvxopt.matrix(h, tc='d')\n",
    "\n",
    "sol = cvxopt.solvers.lp(c,G,h)\n",
    "xOpt = sol['x']\n",
    "J = sol['primal objective']\n",
    "print('xOpt =', xOpt)\n",
    "print('Cost =',J)\n"
   ]
  },
  {
   "cell_type": "markdown",
   "metadata": {},
   "source": [
    "***"
   ]
  },
  {
   "cell_type": "markdown",
   "metadata": {},
   "source": [
    "# Quadratic programs and constrained least-squares exercise:\n",
    "\n",
    "Constrained least-squares problems are useful when your decision parameters are known to reside in a constrained set. Here, we show how to solve a constrained least-squares as a quadratic program. The constrained least-squares problem is of the form\n",
    "\\begin{align}\n",
    "\\min_{x}&\\:\\|Ax-b\\|_2^2\\\\\n",
    "\\text{s.t. }&l_i\\le x_i\\le u_i.\n",
    "\\end{align} \n",
    "\n",
    "Observe that\n",
    "\n",
    "\\begin{align}\n",
    "\\|Ax-b\\|_2^2=(x^TA^T-b^T)(Ax-b)=x^TA^TAx-2b^TAx+b^Tb\n",
    "\\end{align}\n",
    "\n",
    "We can drop the constant term $b^Tb$ in the optimization program and add it back later. The constrained least-squares problem becomes\n",
    "\\begin{align}\n",
    "\\min_{x}&\\:\\frac{1}{2}x^T2A^TAx-2b^TAx\\\\\n",
    "\\text{s.t. }&l_i\\le x_i\\le u_i,\n",
    "\\end{align}\n",
    "which is a quadratic program.\n",
    "\n",
    "The commands below solves the constrained least-squares problem using the following $A$ and $b$ for $X \\in \\mathbb{R}^5$, with $l_i=-0.5$ and $u_i=0.5$.\n"
   ]
  },
  {
   "cell_type": "code",
   "execution_count": 21,
   "metadata": {},
   "outputs": [
    {
     "name": "stdout",
     "output_type": "stream",
     "text": [
      "     pcost       dcost       gap    pres   dres\n",
      " 0: -3.6610e+00 -1.0644e+01  3e+01  2e+00  3e-16\n",
      " 1: -3.0552e+00 -6.7000e+00  4e+00  2e-02  1e-16\n",
      " 2: -3.1649e+00 -3.4791e+00  3e-01  2e-03  1e-16\n",
      " 3: -3.2402e+00 -3.2684e+00  3e-02  3e-05  2e-16\n",
      " 4: -3.2438e+00 -3.2452e+00  1e-03  4e-07  5e-17\n",
      " 5: -3.2439e+00 -3.2439e+00  3e-05  3e-09  1e-16\n",
      " 6: -3.2439e+00 -3.2439e+00  3e-07  3e-11  1e-16\n",
      "Optimal solution found.\n",
      "x*= [ 5.00e-01]\n",
      "[-5.00e-01]\n",
      "[ 3.34e-01]\n",
      "[ 2.56e-01]\n",
      "[ 3.89e-01]\n",
      "\n",
      "p*= 1.0034444656005692\n"
     ]
    }
   ],
   "source": [
    "n = 5 # dimenstion of x\n",
    "A = np.random.randn(n, n)\n",
    "b = np.random.randn(n)\n",
    "l_i = -0.5 \n",
    "u_i = 0.5\n",
    "\n",
    "\n",
    "P = 2*A.T@A\n",
    "q = -2*A.T@b\n",
    "G = np.concatenate([np.eye(n), -np.eye(n)], axis=0)\n",
    "h = np.concatenate([u_i*np.ones((n,)), -l_i*np.ones((n,))], axis=0)\n",
    "\n",
    "P = cvxopt.matrix(P, tc='d')\n",
    "q = cvxopt.matrix(q, tc='d')\n",
    "G = cvxopt.matrix(G, tc='d')\n",
    "h = cvxopt.matrix(h, tc='d')\n",
    "sol = cvxopt.solvers.qp(P,q,G,h)\n",
    "\n",
    "print('x*=', sol['x'])\n",
    "print('p*=', sol['primal objective'] + b.T@b)"
   ]
  },
  {
   "cell_type": "markdown",
   "metadata": {},
   "source": [
    "# CVXPY Exercise"
   ]
  },
  {
   "cell_type": "code",
   "execution_count": 23,
   "metadata": {},
   "outputs": [
    {
     "name": "stdout",
     "output_type": "stream",
     "text": [
      "1.003444461317371\n"
     ]
    }
   ],
   "source": [
    "# Now we define and solve the same quadratic problem using CVXPY\n",
    "\n",
    "import cvxpy as cv\n",
    "\n",
    "# n = 5 # dimenstion of x\n",
    "# A = np.random.randn(n, n)\n",
    "# b = np.random.randn(n)\n",
    "l_i = -0.5 \n",
    "u_i = 0.5\n",
    "\n",
    "P = 2*A.T@A\n",
    "q = -2*A.T@b\n",
    "G = np.concatenate([np.eye(n), -np.eye(n)], axis=0)\n",
    "h = np.concatenate([u_i*np.ones((n,)), -l_i*np.ones((n,))], axis=0)\n",
    "\n",
    "x = cv.Variable(n)\n",
    "prob = cv.Problem(cv.Minimize((1/2)*cv.quad_form(x, P) + q.T @ x),\n",
    "                 [G @ x <= h])\n",
    "print(prob.solve() + b.T@b)"
   ]
  },
  {
   "cell_type": "markdown",
   "metadata": {},
   "source": [
    "***"
   ]
  },
  {
   "cell_type": "markdown",
   "metadata": {},
   "source": [
    "# Linear Programming Exercise \n",
    "\n",
    "For the following problems, write a linear program and solve using $\\texttt{cvxopt}$. Determine the traits of the problem (i.e., feasible or infeasible, bounded or unbounded, has a unique optimum?)\n",
    "\n",
    "\\begin{align}\n",
    "\\min_{z_1,z_2}~ &  3z_1 + 2z_2 \\\\\n",
    "& z_1 \\geq 0  \\\\\n",
    "& z_2 \\geq 0 \n",
    "\\end{align}"
   ]
  },
  {
   "cell_type": "code",
   "execution_count": 4,
   "metadata": {},
   "outputs": [
    {
     "name": "stdout",
     "output_type": "stream",
     "text": [
      "Optimal solution found.\n",
      "xOpt = [ 0.00e+00]\n",
      "[ 0.00e+00]\n",
      "\n",
      "Cost = 0.0\n"
     ]
    }
   ],
   "source": [
    "import cvxopt\n",
    "from cvxopt import matrix, solvers\n",
    "\n",
    "\n",
    "c = np.array([3,2])   # 1D array\n",
    "A = -np.eye(2)   # 2D array\n",
    "b = np.zeros((2,1))   # 1D array\n",
    "c = cvxopt.matrix(c, tc='d')\n",
    "A = cvxopt.matrix(A, tc='d')\n",
    "b = cvxopt.matrix(b, tc='d')\n",
    "\n",
    "sol = cvxopt.solvers.lp(c,A,b)\n",
    "xOpt = sol['x']\n",
    "J = sol['primal objective']\n",
    "print('xOpt =', xOpt)\n",
    "print('Cost =',J)\n"
   ]
  },
  {
   "cell_type": "markdown",
   "metadata": {},
   "source": [
    "***"
   ]
  },
  {
   "cell_type": "markdown",
   "metadata": {},
   "source": [
    "\\begin{align}\n",
    "\\min_{z_1,z_2}~ &  z_1 \\\\\n",
    "& z_1 \\geq 0  \\\\\n",
    "& z_2 \\geq 0 \n",
    "\\end{align}"
   ]
  },
  {
   "cell_type": "code",
   "execution_count": 5,
   "metadata": {},
   "outputs": [
    {
     "name": "stdout",
     "output_type": "stream",
     "text": [
      "Optimal solution found.\n",
      "xOpt = [ 0.00e+00]\n",
      "[ 0.00e+00]\n",
      "\n",
      "Cost = 0.0\n"
     ]
    }
   ],
   "source": [
    "c = np.array([1,0])   # 1D array\n",
    "A = -np.eye(2)   # 2D array\n",
    "b = np.zeros((2,1))   # 1D array\n",
    "c = cvxopt.matrix(c, tc='d')\n",
    "A = cvxopt.matrix(A, tc='d')\n",
    "b = cvxopt.matrix(b, tc='d')\n",
    "\n",
    "sol = cvxopt.solvers.lp(c,A,b)\n",
    "xOpt = sol['x']\n",
    "J = sol['primal objective']\n",
    "print('xOpt =', xOpt)\n",
    "print('Cost =',J)\n"
   ]
  },
  {
   "cell_type": "markdown",
   "metadata": {},
   "source": [
    "***"
   ]
  },
  {
   "cell_type": "markdown",
   "metadata": {},
   "source": [
    "\\begin{align}\n",
    "\\min_{z_1,z_2}~ &  -5z_1 -7z_2 \\\\\n",
    "\\text{s.t. } & -3z_1 +2z_2 \\leq 30  \\\\\n",
    "& -2z_1 + z_2 \\leq 12  \\\\\n",
    "& z_1 \\geq 0  \\\\\n",
    "& z_2 \\geq 0  \n",
    "\\end{align}"
   ]
  },
  {
   "cell_type": "code",
   "execution_count": 33,
   "metadata": {},
   "outputs": [
    {
     "name": "stdout",
     "output_type": "stream",
     "text": [
      "     pcost       dcost       gap    pres   dres   k/t\n",
      " 0: -6.6000e+00 -3.3840e+02  1e+02  4e-01  6e+00  1e+00\n",
      " 1:  1.7434e+03 -1.3236e+04  6e+05  2e+01  3e+02  5e+02\n",
      " 2:  7.4318e+01 -1.0739e+03  5e+03  2e+00  2e+01  2e+02\n",
      " 3: -2.9865e+03 -4.6381e+02  3e+04  6e-01  8e+00  3e+03\n",
      " 4: -3.0385e+05 -5.2887e+02  3e+06  6e-01  9e+00  3e+05\n",
      " 5: -3.0393e+07 -5.2887e+02  3e+08  6e-01  9e+00  3e+07\n",
      "Certificate of dual infeasibility found.\n",
      "xOpt = [ 1.66e-01]\n",
      "[ 2.40e-02]\n",
      "\n",
      "Cost = -1.0\n"
     ]
    }
   ],
   "source": [
    "c = np.array([-5, -7])   # 1D array\n",
    "G = np.array([[-3, 2], [-2, 1], [-1, 0], [0, -1]])   # 2D array\n",
    "h = np.array([30, 12, 0, 0])   # 1D array\n",
    "c = cvxopt.matrix(c, tc='d')\n",
    "G = cvxopt.matrix(G, tc='d')\n",
    "h = cvxopt.matrix(h, tc='d')\n",
    "\n",
    "sol = cvxopt.solvers.lp(c,G,h)\n",
    "xOpt = sol['x']\n",
    "J = sol['primal objective']\n",
    "print('xOpt =', xOpt)\n",
    "print('Cost =',J) "
   ]
  },
  {
   "cell_type": "markdown",
   "metadata": {},
   "source": [
    "***"
   ]
  },
  {
   "cell_type": "markdown",
   "metadata": {},
   "source": [
    "\\begin{align}\n",
    "\\min_{z_1,z_2}~ &  z_1 -z_2 \\\\\n",
    "\\text{s.t. } & z_1 -z_2 \\geq 2  \\\\\n",
    "& 2z_1 + z_2 \\geq 1 \\\\\n",
    "& z_1 \\geq 0  \\\\\n",
    "& z_2 \\geq 0  \n",
    "\\end{align}"
   ]
  },
  {
   "cell_type": "code",
   "execution_count": 30,
   "metadata": {},
   "outputs": [
    {
     "name": "stdout",
     "output_type": "stream",
     "text": [
      "     pcost       dcost       gap    pres   dres   k/t\n",
      " 0:  1.0000e+00  5.0000e+00  1e+01  2e+00  4e+00  1e+00\n",
      " 1:  2.2797e+00  2.9813e+00  2e+00  2e-01  4e-01  4e-01\n",
      " 2:  2.0024e+00  2.0091e+00  1e-02  2e-03  5e-03  3e-03\n",
      " 3:  2.0000e+00  2.0001e+00  1e-04  2e-05  5e-05  3e-05\n",
      " 4:  2.0000e+00  2.0000e+00  1e-06  2e-07  5e-07  3e-07\n",
      " 5:  2.0000e+00  2.0000e+00  1e-08  2e-09  5e-09  3e-09\n",
      "Optimal solution found.\n",
      "xOpt = [ 3.11e+00]\n",
      "[ 1.11e+00]\n",
      "\n",
      "Cost = 2.000000002422302\n"
     ]
    }
   ],
   "source": [
    "c = np.array([1, -1])   # 1D array\n",
    "G = np.array([[-1, 1],\n",
    "              [-2, 1],\n",
    "              [-1, 0],\n",
    "              [0, -1]])   # 2D array\n",
    "h = np.array([-2, -1, 0, 0])  # 1D array\n",
    "c = cvxopt.matrix(c, tc='d')\n",
    "G = cvxopt.matrix(G, tc='d')\n",
    "h = cvxopt.matrix(h, tc='d')\n",
    "\n",
    "sol = cvxopt.solvers.lp(c,G,h)\n",
    "xOpt = sol['x']\n",
    "J = sol['primal objective']\n",
    "print('xOpt =', xOpt)\n",
    "print('Cost =',J) "
   ]
  },
  {
   "cell_type": "markdown",
   "metadata": {},
   "source": [
    "***"
   ]
  },
  {
   "cell_type": "markdown",
   "metadata": {},
   "source": [
    "\\begin{align}\n",
    "\\min_{z_1,z_2}~ & 3z_1 + z_2  \\\\\n",
    "\\text{s.t. } & z_1 - z_2 \\leq 1  \\\\\n",
    "& 3z_1 + 2z_2 \\leq 12  \\\\\n",
    "& 2z_1 + 3z_2 \\leq 3  \\\\\n",
    "& -2z_1 +3z_2 \\geq 9  \\\\\n",
    "& z_1 \\geq 0  \\\\\n",
    "& z_2 \\geq 0 \n",
    "\\end{align}"
   ]
  },
  {
   "cell_type": "code",
   "execution_count": 8,
   "metadata": {},
   "outputs": [
    {
     "name": "stdout",
     "output_type": "stream",
     "text": [
      "     pcost       dcost       gap    pres   dres   k/t\n",
      " 0:  4.4339e+00 -5.9606e+00  5e+01  1e+00  3e+00  1e+00\n",
      " 1: -4.2130e+00 -7.6802e+00  4e+01  4e-01  1e+00  1e+00\n",
      " 2: -8.7331e-01 -9.1562e-01  4e+01  2e-01  7e-01  2e+00\n",
      " 3: -4.4861e+00  2.2130e+02  1e+04  6e-01  2e+00  2e+02\n",
      " 4: -4.4731e+00  2.2991e+04  1e+06  6e-01  2e+00  2e+04\n",
      " 5: -4.4731e+00  2.3000e+06  1e+08  6e-01  2e+00  2e+06\n",
      " 6: -4.4731e+00  2.3000e+08  1e+10  6e-01  2e+00  2e+08\n",
      "Certificate of primal infeasibility found.\n",
      "xOpt = None\n",
      "Cost = None\n"
     ]
    }
   ],
   "source": [
    "c = np.array([3, 1])   # 1D array\n",
    "A = np.array([[1, -1],\n",
    "              [3, 2],\n",
    "              [2, 3],\n",
    "              [2, -3],\n",
    "              [-1, 0],\n",
    "              [0, -1]])   # 2D array\n",
    "b = np.array([1, 12, 3, -9, 0, 0])  # 1D array\n",
    "c = cvxopt.matrix(c, tc='d')\n",
    "A = cvxopt.matrix(A, tc='d')\n",
    "b = cvxopt.matrix(b, tc='d')\n",
    "\n",
    "sol = cvxopt.solvers.lp(c,A,b)\n",
    "xOpt = sol['x']\n",
    "J = sol['primal objective']\n",
    "print('xOpt =', xOpt)\n",
    "print('Cost =',J) "
   ]
  },
  {
   "cell_type": "markdown",
   "metadata": {},
   "source": [
    "***"
   ]
  },
  {
   "cell_type": "markdown",
   "metadata": {},
   "source": [
    "# Quadratic Programming Exercise\n",
    "For the following problems write a quadratic program and solve using $\\texttt{cvxopt}$. \n",
    "\\begin{align}\n",
    "\\min_{z_1,z_2}~ &  z_1^2 + z_2^2 \\\\\n",
    "& z_1 \\geq 1  \\\\\n",
    "& z_2 \\geq 1 \n",
    "\\end{align}"
   ]
  },
  {
   "cell_type": "code",
   "execution_count": 9,
   "metadata": {},
   "outputs": [
    {
     "name": "stdout",
     "output_type": "stream",
     "text": [
      "     pcost       dcost       gap    pres   dres\n",
      " 0:  2.2222e-01  1.1111e+00  1e+00  2e+00  2e-16\n",
      " 1:  7.2114e-01  1.6808e+00  2e-02  4e-01  3e-16\n",
      " 2:  2.0165e+00  2.0000e+00  2e-02  2e-16  3e-15\n",
      " 3:  2.0002e+00  2.0000e+00  2e-04  0e+00  6e-16\n",
      " 4:  2.0000e+00  2.0000e+00  2e-06  0e+00  0e+00\n",
      "Optimal solution found.\n",
      "x*= [ 1.00e+00]\n",
      "[ 1.00e+00]\n",
      "\n",
      "p*= 2.000001642255182\n"
     ]
    }
   ],
   "source": [
    "import cvxopt\n",
    "\n",
    "P = 2*np.eye(2)\n",
    "q = np.zeros((2,1))\n",
    "G = -np.eye(2)\n",
    "h = -np.ones((2,1))\n",
    "\n",
    "P = cvxopt.matrix(P, tc='d')\n",
    "q = cvxopt.matrix(q, tc='d')\n",
    "G = cvxopt.matrix(G, tc='d')\n",
    "h = cvxopt.matrix(h, tc='d')\n",
    "sol = cvxopt.solvers.qp(P,q,G,h)\n",
    "\n",
    "print('x*=', sol['x'])\n",
    "print('p*=', sol['primal objective'])"
   ]
  },
  {
   "cell_type": "code",
   "execution_count": 27,
   "metadata": {},
   "outputs": [
    {
     "name": "stdout",
     "output_type": "stream",
     "text": [
      "2.000000000000001\n"
     ]
    }
   ],
   "source": [
    "# Now we define and solve the same quadratic problem using CVXPY\n",
    "\n",
    "import cvxpy as cv\n",
    "\n",
    "P = 2*np.eye(2)\n",
    "q = np.zeros((2,))\n",
    "\n",
    "x = cv.Variable(2)\n",
    "prob = cv.Problem(cv.Minimize((1/2)*cv.quad_form(x, P) + q.T @ x),\n",
    "                 [x[0]>=1, x[1]>=1 ])\n",
    "print(prob.solve())"
   ]
  },
  {
   "cell_type": "markdown",
   "metadata": {},
   "source": [
    "***"
   ]
  },
  {
   "cell_type": "markdown",
   "metadata": {},
   "source": [
    "\\begin{align}\n",
    "\\min_{z_1,z_2}~ &  2z_1^2 + 7z_2^2 \\\\\n",
    "& z_1 \\geq -3  \\\\\n",
    "& 2 \\geq z_2 \n",
    "\\end{align}"
   ]
  },
  {
   "cell_type": "code",
   "execution_count": 10,
   "metadata": {},
   "outputs": [
    {
     "name": "stdout",
     "output_type": "stream",
     "text": [
      "     pcost       dcost       gap    pres   dres\n",
      " 0:  8.4444e-01 -4.4178e+00  5e+00  3e-17  5e+00\n",
      " 1:  1.0131e-05 -1.3367e-01  1e-01  8e-17  4e-02\n",
      " 2:  1.0134e-09 -1.3368e-03  1e-03  1e-16  4e-04\n",
      " 3:  1.0134e-13 -1.3368e-05  1e-05  2e-16  4e-06\n",
      " 4:  1.0134e-17 -1.3368e-07  1e-07  7e-17  4e-08\n",
      " 5:  1.0134e-21 -1.3368e-09  1e-09  1e-16  4e-10\n",
      "Optimal solution found.\n",
      "x*= [ 8.58e-12]\n",
      "[ 1.11e-11]\n",
      "\n",
      "p*= 1.0133883260345387e-21\n"
     ]
    }
   ],
   "source": [
    "P = 2*np.diag([2, 7])\n",
    "q = np.zeros((2,1))\n",
    "G = np.diag([-1, 1])\n",
    "h = np.array([3, 2])\n",
    "\n",
    "P = cvxopt.matrix(P, tc='d')\n",
    "q = cvxopt.matrix(q, tc='d')\n",
    "G = cvxopt.matrix(G, tc='d')\n",
    "h = cvxopt.matrix(h, tc='d')\n",
    "sol = cvxopt.solvers.qp(P,q,G,h)\n",
    "\n",
    "print('x*=', sol['x'])\n",
    "print('p*=', sol['primal objective'])"
   ]
  },
  {
   "cell_type": "markdown",
   "metadata": {},
   "source": [
    "***"
   ]
  },
  {
   "cell_type": "markdown",
   "metadata": {},
   "source": [
    "\\begin{align}\n",
    "\\min_{z_1,z_2}~ &  z_1^2 + z_2^2 \\\\\n",
    "& z_1 \\leq -3  \\\\\n",
    "& z_2 \\leq 4 \\\\\n",
    "& 0 \\geq 4z_1 + 3z_2\n",
    "\\end{align}"
   ]
  },
  {
   "cell_type": "code",
   "execution_count": 14,
   "metadata": {},
   "outputs": [
    {
     "name": "stdout",
     "output_type": "stream",
     "text": [
      "     pcost       dcost       gap    pres   dres\n",
      " 0:  2.7778e+00  1.1444e+01  2e+01  1e+00  2e+01\n",
      " 1:  9.5297e+00  1.4013e+01  6e+00  3e-01  7e+00\n",
      " 2:  9.7717e+00  6.8639e+00  3e+00  7e-16  8e-15\n",
      " 3:  9.0070e+00  8.9447e+00  6e-02  4e-16  3e-17\n",
      " 4:  9.0001e+00  8.9994e+00  6e-04  4e-16  3e-18\n",
      " 5:  9.0000e+00  9.0000e+00  6e-06  7e-16  3e-15\n",
      "Optimal solution found.\n",
      "x*= [-3.00e+00]\n",
      "[-6.92e-07]\n",
      "\n",
      "p*= 9.000000692261725\n"
     ]
    }
   ],
   "source": [
    "P = 2*np.eye(2)\n",
    "q = np.zeros((2,1))\n",
    "G = np.array([[1, 0],\n",
    "              [0, 1],\n",
    "              [4, 3]])\n",
    "h = np.array([-3, 4, 0])\n",
    "\n",
    "P = cvxopt.matrix(P, tc='d')\n",
    "q = cvxopt.matrix(q, tc='d')\n",
    "G = cvxopt.matrix(G, tc='d')\n",
    "h = cvxopt.matrix(h, tc='d')\n",
    "sol = cvxopt.solvers.qp(P,q,G,h)\n",
    "\n",
    "print('x*=', sol['x'])\n",
    "print('p*=', sol['primal objective'])"
   ]
  },
  {
   "cell_type": "markdown",
   "metadata": {},
   "source": [
    "***"
   ]
  },
  {
   "cell_type": "markdown",
   "metadata": {},
   "source": [
    "\\begin{align}\n",
    "\\min~ &  \\frac{1}{2}(z_1^2 + z_2^2 +0.1z_3^2) + 0.55z_3 \\\\\n",
    "& z_1 + z_2 + z_3 = 1  \\\\\n",
    "& z_1 \\geq 0 \\\\\n",
    "& z_2 \\geq 0 \\\\\n",
    "& z_3 \\geq 0 \n",
    "\\end{align}"
   ]
  },
  {
   "cell_type": "code",
   "execution_count": 29,
   "metadata": {},
   "outputs": [
    {
     "name": "stdout",
     "output_type": "stream",
     "text": [
      "     pcost       dcost       gap    pres   dres\n",
      " 0:  2.7449e-01 -7.6378e-01  1e+00  2e-16  2e+00\n",
      " 1:  2.6736e-01  2.3120e-01  4e-02  2e-16  8e-02\n",
      " 2:  2.5305e-01  2.4913e-01  4e-03  2e-16  3e-17\n",
      " 3:  2.5031e-01  2.4997e-01  3e-04  8e-17  7e-17\n",
      " 4:  2.5000e-01  2.5000e-01  5e-06  2e-16  3e-17\n",
      " 5:  2.5000e-01  2.5000e-01  5e-08  8e-21  4e-17\n",
      "Optimal solution found.\n",
      "x*= [ 5.00e-01]\n",
      "[ 5.00e-01]\n",
      "[ 9.49e-07]\n",
      "\n",
      "p*= 0.25000004744192217\n"
     ]
    }
   ],
   "source": [
    "P = np.diag([1, 1, 0.1])\n",
    "q = np.array([0, 0, 0.55])\n",
    "G = -np.eye(3)\n",
    "h = np.zeros((3,1))\n",
    "A = np.ones((1,3)) \n",
    "b = np.array([1])\n",
    "\n",
    "P = cvxopt.matrix(P, tc='d')\n",
    "q = cvxopt.matrix(q, tc='d')\n",
    "G = cvxopt.matrix(G, tc='d')\n",
    "h = cvxopt.matrix(h, tc='d')\n",
    "A = cvxopt.matrix(A, tc='d')\n",
    "b = cvxopt.matrix(b, tc='d')\n",
    "sol = cvxopt.solvers.qp(P,q,G,h,A,b)\n",
    "\n",
    "print('x*=', sol['x'])\n",
    "print('p*=', sol['primal objective'])"
   ]
  }
 ],
 "metadata": {
  "kernelspec": {
   "display_name": "Python 3",
   "language": "python",
   "name": "python3"
  },
  "language_info": {
   "codemirror_mode": {
    "name": "ipython",
    "version": 3
   },
   "file_extension": ".py",
   "mimetype": "text/x-python",
   "name": "python",
   "nbconvert_exporter": "python",
   "pygments_lexer": "ipython3",
   "version": "3.8.5"
  }
 },
 "nbformat": 4,
 "nbformat_minor": 4
}
