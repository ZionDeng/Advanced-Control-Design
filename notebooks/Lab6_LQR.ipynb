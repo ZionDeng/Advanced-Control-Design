{
 "cells": [
  {
   "cell_type": "markdown",
   "metadata": {},
   "source": [
    "# Lab 6: Linear Quadratic Regulator (LQR)\n",
    "\n",
    "ME C231A, EECS C220B, UC Berkeley"
   ]
  },
  {
   "cell_type": "markdown",
   "metadata": {},
   "source": [
    "***"
   ]
  },
  {
   "cell_type": "markdown",
   "metadata": {},
   "source": [
    "In *this* lab we will design and implement a receding-horizon linear quadratic regulator for an inverted pendulum system.  "
   ]
  },
  {
   "cell_type": "markdown",
   "metadata": {},
   "source": [
    "# System Description \n",
    "The inverted pendulum system consists of an inverted pendulum mounted on a cart as shown in the figure.  The objective is to balance the inverted pendulum through the acceleration of the cart.  The dynamics of the inverted pendulum are\n",
    "\n",
    "\\begin{align}\n",
    "(I + ml^2) \\ddot{\\theta} + b \\dot{\\theta} - mgl \\sin\\theta = ml \\cos \\theta u.\n",
    "\\end{align}\n",
    "\n",
    "where $u$ is the cart acceleration, $\\theta$ is the pendulum angle and $m$, $l$, and $I$ are the pendulum mass, half-length, and moment of inertia respectively.  See the figure below.\n",
    "\n",
    "In non-linear state-space form the dynamics are\n",
    "\\begin{align}\n",
    "\\begin{bmatrix} \\dot{x}_1 \\\\ \\dot{x}_2 \\end{bmatrix} =\n",
    "\\begin{bmatrix} x_2 \\\\ -a_0 \\sin x_1 - a_1 x_2 \\end{bmatrix} +\n",
    "\\begin{bmatrix}0 \\\\ b_0 u\\cos x_1 \\end{bmatrix}\n",
    "\\end{align}\n",
    "\n",
    "where $x_1 = \\theta$ and $x_2 = \\dot{\\theta}$, and $a_0 = -\\tfrac{mgl}{I + ml^2}$, $a_1 = \\tfrac{b}{I + ml^2}$, and  $b_0 = \\tfrac{ml}{I + ml^2}$.  In this lab we will use the parameters: $a_0 = -2.5$, $a_1 = 0.05$, and $b_0 = 0.25$."
   ]
  },
  {
   "cell_type": "markdown",
   "metadata": {},
   "source": [
    "<center><img src='Pic_InvertedPendulum.png' width=\"400\"/> </center>"
   ]
  },
  {
   "cell_type": "code",
   "execution_count": 1,
   "metadata": {},
   "outputs": [],
   "source": [
    "from __future__ import division, print_function\n",
    "import numpy as np\n",
    "\n",
    "def continuous_dyn(t, x, u, a0, a1, b0):\n",
    "    theta, thetadot = x\n",
    "    return [thetadot, - a0*np.sin(theta) - a1*thetadot + b0*u*np.cos(theta)]\n",
    "\n",
    "def continuous_dyn_with_controller(t, x, Klqr, a0, a1, b0):\n",
    "    theta, thetadot = x\n",
    "    k1, k2 = Klqr\n",
    "    u = -k1*theta-k2*thetadot\n",
    "    return [thetadot, - a0*np.sin(theta) - a1*thetadot + b0*u*np.cos(theta)]"
   ]
  },
  {
   "cell_type": "markdown",
   "metadata": {},
   "source": [
    "# Model Construction\n",
    "We are going to use basic commands to design a linear discrete-time controller to control the non-linear continuous-time inverted pendulum system.  First we linearize the system dynamics about the equilibrium $\\begin{bmatrix} x_1 \\\\ x_2 \\end{bmatrix} = \\begin{bmatrix} 0 \\\\ 0 \\end{bmatrix}$ which produces the linearized dynamics\n",
    "\n",
    "\\begin{align}\n",
    "\\begin{bmatrix} \\dot{x}_1 \\\\ \\dot{x}_2 \\end{bmatrix} =\n",
    "\\underbrace{\\begin{bmatrix} 0 & 1 \\\\ -a_0 & - a_1 \\end{bmatrix}}_{A_c}\\begin{bmatrix} x_1 \\\\ x_2 \\end{bmatrix} +\n",
    "\\underbrace{\\begin{bmatrix}0 \\\\ b_0 \\end{bmatrix}}_{B_c} u.\n",
    "\\end{align}\n",
    "\n",
    "where $\\sin(x_1) \\approx x_1$ and $\\cos(x_1) \\approx 1$. Create the appropriate matrices $\\texttt{Ac}$ and $\\texttt{Bc}$.\n",
    "Now we need to convert the continuous-time dynamics to discrete-time. This can be accomplished using the $\\texttt{scipy}$ command $\\texttt{cont2discrete}$"
   ]
  },
  {
   "cell_type": "code",
   "execution_count": 2,
   "metadata": {},
   "outputs": [],
   "source": [
    "import scipy.signal\n",
    "Ts = 0.1       # Ts is the discrete sample-time. \n",
    "# define the parameters\n",
    "a0 = -2.5\n",
    "a1 = 0.05\n",
    "b0 = 0.25\n",
    "\n",
    "Ac = np.array([[0, 1],\n",
    "               [-a0, -a1]])\n",
    "Bc = np.array([[0],\n",
    "               [b0]])\n",
    "# we don't need C and D here. This is just for calling the function\n",
    "Cc = np.zeros((1,2))\n",
    "Dc = np.zeros((1,1))\n",
    "system = (Ac, Bc, Cc, Dc)\n",
    "Ad, Bd, Cd, Dd, dt = scipy.signal.cont2discrete(system, Ts)"
   ]
  },
  {
   "cell_type": "markdown",
   "metadata": {},
   "source": [
    "Next use the $\\texttt{scipy}$ command $\\texttt{solve_discrete_are}$ to create a discrete-time linear quadratic regulator for the discretized system"
   ]
  },
  {
   "cell_type": "markdown",
   "metadata": {},
   "source": [
    "# Linear Quadratic Regulator"
   ]
  },
  {
   "cell_type": "code",
   "execution_count": 3,
   "metadata": {},
   "outputs": [],
   "source": [
    "Q = np.diag([1,0])\n",
    "R = 1"
   ]
  },
  {
   "cell_type": "markdown",
   "metadata": {},
   "source": [
    "This choice of $Q$ and $R$ represents an infinite-horizon cost of the form\n",
    "\\begin{align}\n",
    "\\sum_{k=0}^{\\infty} x_1(k)^2 + u(k)^2\n",
    "\\end{align}\n",
    "\n",
    "The command to obtain the optimal feedback, $u(k) = -K_{\\rm lqr} x(k)$ is below"
   ]
  },
  {
   "cell_type": "code",
   "execution_count": 4,
   "metadata": {},
   "outputs": [],
   "source": [
    "import scipy.linalg\n",
    "\n",
    "def dlqr(A, B, Q, R):\n",
    "    # solve Discrete Algebraic Riccatti equation  \n",
    "    P = scipy.linalg.solve_discrete_are(A, B, Q, R)\n",
    "\n",
    "    # compute the LQR gain\n",
    "    K = scipy.linalg.inv(B.T @ P @ B + R) @ (B.T @ P @ A)\n",
    "\n",
    "    # stability check \n",
    "    eigVals, eigVecs = scipy.linalg.eig(A - B @ K)\n",
    "    return K, P, eigVals\n",
    "\n",
    "Klqr, P, eigvals = dlqr(Ad, Bd, Q, R)"
   ]
  },
  {
   "cell_type": "markdown",
   "metadata": {},
   "source": [
    "# Finally we simulate the inverted pendulum system in closed-loop with the controller.  "
   ]
  },
  {
   "cell_type": "code",
   "execution_count": 5,
   "metadata": {},
   "outputs": [],
   "source": [
    "from scipy.integrate import solve_ivp\n",
    "import matplotlib.pyplot as plt\n",
    "\n",
    "x0 = np.array([np.pi/4, 0])\n",
    "Tf = 10\n",
    "traj_time = np.arange(0.0, Tf, Ts)\n",
    "t0 = 0.0\n",
    "\n",
    "sol = solve_ivp(fun=continuous_dyn_with_controller, t_span=[t0, Tf], t_eval=traj_time, \n",
    "                y0=x0, method='RK45', vectorized=True, args=(Klqr.flatten(), a0, a1, b0))\n",
    "\n",
    "u = [-Klqr.dot(sol.y[:, i]) for i in range(len(sol.y[0,:]))]"
   ]
  },
  {
   "cell_type": "markdown",
   "metadata": {},
   "source": [
    "Plot the results of the simulation."
   ]
  },
  {
   "cell_type": "code",
   "execution_count": 6,
   "metadata": {},
   "outputs": [
    {
     "output_type": "display_data",
     "data": {
      "text/plain": "Canvas(toolbar=Toolbar(toolitems=[('Home', 'Reset original view', 'home', 'home'), ('Back', 'Back to  previous…",
      "application/vnd.jupyter.widget-view+json": {
       "version_major": 2,
       "version_minor": 0,
       "model_id": "8e89364a938a4ecdac87e3366c9b288b"
      }
     },
     "metadata": {}
    }
   ],
   "source": [
    "%matplotlib widget        \n",
    "\n",
    "# When using inline plotting, if the figures don't appear, just run the cell separately and do not run all the cells at the same time to fix the issue. \n",
    "\n",
    "plt.subplot(3,1,1)\n",
    "plt.plot(sol.y[0,:])\n",
    "plt.ylabel('theta')\n",
    "plt.subplot(3,1,2)\n",
    "plt.plot(sol.y[1,:])\n",
    "plt.ylabel('theta_dot')\n",
    "plt.subplot(3,1,3)\n",
    "plt.plot(u, 'r')\n",
    "plt.ylabel('u')\n",
    "plt.show()"
   ]
  },
  {
   "cell_type": "markdown",
   "metadata": {},
   "source": [
    "Now repeat the simulation with different values of the weighting matrices $\\texttt{Q}$ and $\\texttt{R}$.\n",
    "Try \n",
    "* $\\texttt{Q = np.diag([1, 2])}$ and $\\texttt{R=1}$ \n",
    "* $\\texttt{Q = np.diag([1, 0])}$ and $\\texttt{R=1/100}$ \n",
    "* $\\texttt{Q = np.diag([1, 10])}$ and $\\texttt{R=1/1000}$\n",
    "\n",
    "How do the different weighting values change the behavior of the closed-loop system?"
   ]
  },
  {
   "cell_type": "code",
   "execution_count": 7,
   "metadata": {},
   "outputs": [],
   "source": [
    "# Write your code here:"
   ]
  }
 ],
 "metadata": {
  "kernelspec": {
   "display_name": "Python 3",
   "language": "python",
   "name": "python3"
  },
  "language_info": {
   "codemirror_mode": {
    "name": "ipython",
    "version": 3
   },
   "file_extension": ".py",
   "mimetype": "text/x-python",
   "name": "python",
   "nbconvert_exporter": "python",
   "pygments_lexer": "ipython3",
   "version": "3.7.0-final"
  }
 },
 "nbformat": 4,
 "nbformat_minor": 4
}