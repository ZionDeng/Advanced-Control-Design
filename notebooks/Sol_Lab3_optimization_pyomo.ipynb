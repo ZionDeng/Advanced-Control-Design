{
 "cells": [
  {
   "cell_type": "markdown",
   "metadata": {},
   "source": [
    "# Lab3: Optimization II (Pyomo) (Solution)\n",
    "\n",
    "University of California Berkeley\n",
    "\n",
    "ME C231A, EE C220B, Experiential Advanced Control I"
   ]
  },
  {
   "cell_type": "markdown",
   "metadata": {},
   "source": [
    "***"
   ]
  },
  {
   "cell_type": "markdown",
   "metadata": {},
   "source": [
    "In the previous lab, you formulated and solved linear and quadratic optimization problems using $\\texttt{cvxopt}$ and $\\texttt{cvxpy}$. In this lab we will introduce $\\texttt{Pyomo}$ (Python Optimization Modeling Objects), a mathematical modeling toolboxe, which facilitates the task of defining/formulating the optimization problems. For more information look at this link: https://pyomo.readthedocs.io/en/stable/pyomo_overview/index.html\n",
    "\n",
    "In this lab we will solve linear, quaratic, nonlinear and mixed-integer programming using $\\texttt{Pyomo}$."
   ]
  },
  {
   "cell_type": "code",
   "execution_count": 32,
   "metadata": {},
   "outputs": [],
   "source": [
    "# This cell is commented out because Pyomo and solvers are already installed on Docker image.\n",
    "# Please run this cell only if you are using Google Colab. \n",
    "\n",
    "# # install required dependencies\n",
    "# import sys\n",
    "# IN_COLAB = 'google.colab' in sys.modules\n",
    "# if IN_COLAB:\n",
    "#   !pip install -q pyomo\n",
    "#   !apt-get install -y -qq glpk-utils\n",
    "#   !apt-get install -y -qq coinor-cbc\n",
    "#   !wget -N -q \"https://ampl.com/dl/open/ipopt/ipopt-linux64.zip\"\n",
    "#   !unzip -o -q ipopt-linux64"
   ]
  },
  {
   "cell_type": "markdown",
   "metadata": {},
   "source": [
    "***"
   ]
  },
  {
   "cell_type": "markdown",
   "metadata": {},
   "source": [
    "# Linear Programming Exercise\n",
    "\n",
    "In the previous lab, we solved the following LP using $\\texttt{cvxopt}$. Now we solve the same problem using $\\texttt{Pyomo}$.\n",
    "\n",
    "Let $x,y,z\\in\\mathbb{R}$. Use $\\texttt{Pyomo}$ to solve the following problem.\n",
    "\\begin{align}\n",
    "\\min_{x,y,z}\\ & x+y+z\\\\\n",
    "\\text{subject to} & -2\\le x\\\\\n",
    "&-1\\le y\\\\\n",
    "&-3\\le z\\\\\n",
    "&x-y+z\\ge 4\n",
    "\\end{align}\n",
    "\n",
    "\n",
    "To use $\\texttt{Pyomo}$, first declare the model, next define the variables, the constraints and the objective, and finally solve the optimization. You can use most basic $\\texttt{python}$ functions in your constraint and cost definitions."
   ]
  },
  {
   "cell_type": "code",
   "execution_count": 33,
   "metadata": {},
   "outputs": [
    {
     "output_type": "stream",
     "name": "stdout",
     "text": [
      "Model unknown\n\n  Variables:\n    x : Size=1, Index=None\n        Key  : Lower : Value : Upper : Fixed : Stale : Domain\n        None :  None :   6.0 :  None : False : False :  Reals\n    y : Size=1, Index=None\n        Key  : Lower : Value : Upper : Fixed : Stale : Domain\n        None :  None :  -1.0 :  None : False : False :  Reals\n    z : Size=1, Index=None\n        Key  : Lower : Value : Upper : Fixed : Stale : Domain\n        None :  None :  -3.0 :  None : False : False :  Reals\n\n  Objectives:\n    Obj : Size=1, Index=None, Active=True\n        Key  : Active : Value\n        None :   True :   2.0\n\n  Constraints:\n    Constraint1 : Size=1\n        Key  : Lower : Body : Upper\n        None :  -2.0 :  6.0 :  None\n    Constraint2 : Size=1\n        Key  : Lower : Body : Upper\n        None :  -1.0 : -1.0 :  None\n    Constraint3 : Size=1\n        Key  : Lower : Body : Upper\n        None :  -3.0 : -3.0 :  None\n    Constraint4 : Size=1\n        Key  : Lower : Body : Upper\n        None :   4.0 :  4.0 :  None\nx*_solver = 6.0\ny*_solver = -1.0\nz*_solver = -3.0\nopt_value = 2.0\n"
     ]
    }
   ],
   "source": [
    "import pyomo.environ as pyo\n",
    "\n",
    "model = pyo.ConcreteModel()\n",
    "model.x = pyo.Var()\n",
    "model.y = pyo.Var()\n",
    "model.z = pyo.Var()\n",
    "\n",
    "model.Obj = pyo.Objective(expr = model.x + model.y + model.z)\n",
    "model.Constraint1 = pyo.Constraint(expr = -2 <= model.x)\n",
    "model.Constraint2 = pyo.Constraint(expr = -1 <= model.y)\n",
    "model.Constraint3 = pyo.Constraint(expr = -3 <= model.z)\n",
    "model.Constraint4 = pyo.Constraint(expr = model.x - model.y + model.z >= 4)\n",
    "\n",
    "solver = pyo.SolverFactory('cbc')\n",
    "results = solver.solve(model)\n",
    "model.display()\n",
    "\n",
    "print('x*_solver =', pyo.value(model.x))\n",
    "print('y*_solver =', pyo.value(model.y))\n",
    "print('z*_solver =', pyo.value(model.z))\n",
    "print('opt_value =', pyo.value(model.Obj))"
   ]
  },
  {
   "cell_type": "markdown",
   "metadata": {},
   "source": [
    "***"
   ]
  },
  {
   "cell_type": "markdown",
   "metadata": {},
   "source": [
    "# Nonlinear Programming Example\n",
    "We will use using $\\texttt{Pyomo}$ to sovle the following optimization problem:\n",
    "\n",
    "\\begin{align}\n",
    "\\min_{z_1,z_2}~ & 3\\sin(-2\\pi z_1)+2z_1+4+\\cos(2\\pi z_2)+z_2 \\\\\n",
    "\\text{s.t. } &-1 \\leq z_1 \\leq 1 \\\\\n",
    "&-1 \\leq z_2 \\leq 1\n",
    "\\end{align}\n",
    "Next we denote $\\texttt{z0}$  the initial guess for your optimizer, $\\texttt{zOpt}$ the optimizer and $\\texttt{JOpt}$ is the optimal cost.\n"
   ]
  },
  {
   "cell_type": "code",
   "execution_count": 34,
   "metadata": {},
   "outputs": [
    {
     "output_type": "stream",
     "name": "stdout",
     "text": [
      "zOpt =  [ 0.23308129 -0.52543847]\nJOpt =  -0.02959484805254975\n"
     ]
    }
   ],
   "source": [
    "import numpy as np\n",
    "import pyomo.environ as pyo\n",
    "from pyomo.opt import SolverStatus, TerminationCondition\n",
    "\n",
    "## without initialization:\n",
    "\n",
    "model = pyo.ConcreteModel()\n",
    "model.z1 = pyo.Var()\n",
    "model.z2 = pyo.Var()\n",
    "model.obj = pyo.Objective(expr = 3*pyo.sin(-2*np.pi*model.z1)+ 2*model.z1 + 4 + pyo.cos(2*np.pi*model.z2) + model.z2)\n",
    "model.constraint1 = pyo.Constraint(expr = (-1, model.z1, 1))\n",
    "model.constraint2 = pyo.Constraint(expr = (-1, model.z2, 1))\n",
    "# model.constraint2 = pyo.Constraint(expr = pyo.inequality(-1, model.z2, 1))  #This line and the above line are equivalent. \n",
    "# Range inequlities can be represented using both the above syntaxes.\n",
    "\n",
    "solver = pyo.SolverFactory('ipopt')\n",
    "results = solver.solve(model)\n",
    "\n",
    "print('zOpt = ', np.array([pyo.value(model.z1), pyo.value(model.z2)]))\n",
    "print('JOpt = ', pyo.value(model.obj))\n"
   ]
  },
  {
   "cell_type": "markdown",
   "metadata": {},
   "source": [
    "Next we solve the optimization for 10 random initial guesses, drawing them from a uniform random distribution across your feasible set."
   ]
  },
  {
   "cell_type": "code",
   "execution_count": 35,
   "metadata": {},
   "outputs": [
    {
     "output_type": "stream",
     "name": "stdout",
     "text": [
      "z1Opt= [-0.7669187105942515, 0.2330812893159912, 0.2330812893159912, -0.7669187105942515, -0.7669187105942515, 0.2330812893159912, 0.23308128931599117, 0.2330812893159912, 0.23308128931599117, -0.7669187105942517]\nz2Opt= [-0.5254384707730885, -0.5254384707730885, 0.4745615290547882, 0.47456152905478827, -0.5254384707730885, -0.5254384707730885, -0.5254384707730885, 0.47456152905478827, -0.5254384707730885, 0.4745615290547882]\nopt_value= [-2.02959484805255, -0.029594848052550193, 0.9704051519474498, -1.0295948480525496, -2.02959484805255, -0.029594848052550193, -0.02959484805254975, 0.9704051519474499, -0.02959484805254975, -1.0295948480525496]\n"
     ]
    }
   ],
   "source": [
    "## With random initialization:\n",
    "# If the initialization is way off, the solver can't find a solution.\n",
    "\n",
    "z1 = []\n",
    "z2 = []\n",
    "J = []\n",
    "solver = pyo.SolverFactory('ipopt')\n",
    "\n",
    "for _ in range(10):\n",
    "    z1_init = np.random.uniform(low = -1.0, high = 1.0)\n",
    "    z2_init = np.random.uniform(low = -1.0, high = 1.0)\n",
    "    model = pyo.ConcreteModel()\n",
    "    model.z1 = pyo.Var(initialize = z1_init)\n",
    "    model.z2 = pyo.Var(initialize = z2_init)\n",
    "    model.obj = pyo.Objective(expr = 3*pyo.sin(-2*np.pi*model.z1) + 2*model.z1 + 4 + pyo.cos(2*np.pi*model.z2) + model.z2)\n",
    "    model.constraint1 = pyo.Constraint(expr = (-1, model.z1, 1))\n",
    "    model.constraint2 = pyo.Constraint(expr = (-1, model.z2, 1))\n",
    "    results = solver.solve(model)\n",
    "    zOpt = np.array([pyo.value(model.z1), pyo.value(model.z2)])\n",
    "    JOpt = pyo.value(model.obj)\n",
    "    z1.append(zOpt[0])\n",
    "    z2.append(zOpt[1])\n",
    "    J.append(JOpt)\n",
    "    \n",
    "print('z1Opt=', z1)\n",
    "print('z2Opt=', z2)\n",
    "print('opt_value=', J)"
   ]
  },
  {
   "cell_type": "markdown",
   "metadata": {},
   "source": [
    "Now we print out a plot of the cost function contour and mark out the initial guesses and the optimal solutions."
   ]
  },
  {
   "cell_type": "code",
   "execution_count": 36,
   "metadata": {},
   "outputs": [
    {
     "output_type": "display_data",
     "data": {
      "text/plain": "<Figure size 1080x1080 with 1 Axes>",
      "image/png": "[encoded data removed]"
     },
     "metadata": {
      "needs_background": "light"
     }
    }
   ],
   "source": [
    "import matplotlib.pyplot as plt\n",
    "# import copy\n",
    "\n",
    "z1_opt = z1\n",
    "z2_opt = z2\n",
    "\n",
    "fig, ax = plt.subplots(figsize=(15,15))\n",
    "z = np.linspace(-1, 1, 100)\n",
    "z1, z2 = np.meshgrid(z, z)\n",
    "C = 3*np.sin(-2*np.pi*z1)+ 2*z1 + 4 + np.cos(2*np.pi*z2) + z2\n",
    "contour = ax.contour(z1, z2, C, cmap=plt.cm.RdBu, vmin=abs(C).min(), vmax=abs(C).max(), levels=30)\n",
    "ax.clabel(contour,fontsize=12, inline=1)\n",
    "ax.axis('square')\n",
    "ax.scatter(np.asarray(z1_opt), np.asarray(z2_opt) , c='r', marker='o')\n",
    "ax.axis('square')\n",
    "# ax.scatter(zOpt[0], zOpt[1] , c='g', marker='o')\n",
    "ax.scatter(z1_opt[4], z2_opt[4] , c='g', marker='o')\n",
    "plt.show()"
   ]
  },
  {
   "cell_type": "markdown",
   "metadata": {},
   "source": [
    "***"
   ]
  },
  {
   "cell_type": "markdown",
   "metadata": {},
   "source": [
    "# Mixed-Integer Programming Example \n",
    "extracted from https://yalmip.github.io/example/unitcommitment/\n",
    "\n",
    "A classical problem in scheduling and integer programming is the unit commitment problem. In this problem, our task is to turn on and off power generating plants, in order to meet a forecasted future power demand, while minimizing our costs. \n",
    "\n",
    "We have three different power plants with different characteristics and running costs, and various constraints on how they can be used. \n",
    "\n",
    "The most important thing we learn in this example is that you never multiply binary variables with continuous variables to model on/off behavior. Instead, we derive equivalent linear presentations.\n",
    "\n",
    "### Data for the model\n",
    "To begin with, we assume we have $N=3$ power generating plants of different types (nuclear, hydro, gas, oil, coal, …). Each of the plant $i$ have a maximum power capacity $P^{max}_i$, and a minimum capacity $P^{min}_i$, when turned on. Our scheduling problem is solved over 48 time units (say hours), and the forecasted power demand is given by a periodic function. The cost of running plant $i$ for one time unit is given by a linear function $C_iP_i$ where $P_i$ is the delivered power from plant $i$."
   ]
  },
  {
   "cell_type": "markdown",
   "metadata": {},
   "source": [
    "Next we use $\\texttt{pyomo}$ to formulate a mathematical model for the optimization problem. we first declare the model, next we define the variables, the constraints and the objective, and finally we solve the optimization. "
   ]
  },
  {
   "cell_type": "code",
   "execution_count": 37,
   "metadata": {},
   "outputs": [
    {
     "output_type": "stream",
     "name": "stdout",
     "text": [
      "100\n"
     ]
    },
    {
     "output_type": "display_data",
     "data": {
      "text/plain": "<Figure size 1080x1080 with 1 Axes>",
      "image/png": "[encoded data removed]"
     },
     "metadata": {
      "needs_background": "light"
     }
    }
   ],
   "source": [
    "import matplotlib.pyplot as plt\n",
    "import numpy as np\n",
    "import pyomo.environ as pyo\n",
    "\n",
    "Horizon = 48\n",
    "T = np.array([t for t in range(0, Horizon)])\n",
    "\n",
    "#predicted demand\n",
    "d = np.array([100 + 50*np.sin(t*2*np.pi/24) for t in T])\n",
    "\n",
    "#problem data\n",
    "Nplant = 3\n",
    "N = np.array([n for n in range(0, Nplant)])\n",
    "pmax = [100, 50, 25]\n",
    "pmin = [20, 40, 1]\n",
    "C = [10, 20, 20]\n",
    "\n",
    "model = pyo.ConcreteModel()\n",
    "model.N = pyo.Set(initialize = N)\n",
    "model.T = pyo.Set(initialize = T)\n",
    "# print(max(pmax))\n",
    "\n",
    "# x[i,t]= production of plant i at time t\n",
    "model.x = pyo.Var(model.N, model.T)\n",
    "\n",
    "# x[i,t]= on/of plant i at time t\n",
    "model.u = pyo.Var(model.N, model.T, domain = pyo.Binary)\n",
    "\n",
    "# objective\n",
    "model.cost = pyo.Objective(expr = sum(model.x[n,t]*C[n] for t in model.T for n in model.N), sense = pyo.minimize)\n",
    "\n",
    "# demand constraints\n",
    "model.demand = pyo.Constraint(model.T, rule=lambda model, t: sum(model.x[n,t] for n in N) >= d[t])\n",
    "\n",
    "# production constraints # NOTE LINEAR IN  x AND u\n",
    "model.lb = pyo.Constraint(model.N, model.T, rule=lambda model, n, t: pmin[n]*model.u[n,t] <= model.x[n,t])\n",
    "model.ub = pyo.Constraint(model.N, model.T, rule=lambda model, n, t: pmax[n]*model.u[n,t] >= model.x[n,t])\n",
    "   \n",
    "# solve\n",
    "solver = pyo.SolverFactory('glpk')\n",
    "results = solver.solve(model)\n",
    "\n",
    "# plot results\n",
    "Unit1=[pyo.value(model.x[0,0])]\n",
    "Unit2 = [pyo.value(model.x[1,0])]\n",
    "Unit3 = [pyo.value(model.x[2,0])]\n",
    "for t in T:\n",
    "    Unit1.append(pyo.value(model.x[0,t]))\n",
    "    Unit2.append(pyo.value(model.x[1,t]))\n",
    "    Unit3.append(pyo.value(model.x[2,t]))\n",
    "plt.figure(figsize = (15,15))\n",
    "plt.step(Unit1,'b')\n",
    "plt.step(Unit2,'g')\n",
    "plt.step(Unit3,'r')\n",
    "plt.show()"
   ]
  },
  {
   "cell_type": "markdown",
   "metadata": {},
   "source": [
    "***"
   ]
  },
  {
   "cell_type": "markdown",
   "metadata": {},
   "source": [
    "# Quadratic Programming Exercise\n",
    "Consider a single-input single-output dynamic system described by the discrete-time state-space equation $x_{k+1} = 0.5 x_k + u_k$, with given initial condition $x_0$.  We wish to choose a control input sequence $u_0,u_1$ that satisfies constraints\n",
    "on the state $x_1 \\in [2,5]$, $x_2 \\in [-2,2]$ and input $u_0,u_1 \\in [-1,1]$ while minimizing a given quadratic performance index.\n",
    "\n",
    "We can formulate this problem as the following optimization problem: For a given value of $x_0$\n",
    "\\begin{align*}\n",
    "J(x_0) := \\min_{x_1, x_2,u_0,u_1} \\ & \\ \\frac{1}{2}(x_1^2+x_2^2+u_0^2+u_1^2)\\\\\n",
    "\\text{subject to} \\ & \\ x_1 = 0.5 x_0 + u_0 \\\\\n",
    "&\\ x_2 = 0.5 x_1 + u_1 \\\\\n",
    "&\\ 2 \\leq x_1\\leq 5\\\\\n",
    "& -2 \\leq x_2\\leq 2 \\\\\n",
    "& -1 \\leq u_0\\leq 1\\\\\n",
    "& -1\\leq u_1\\leq 1\n",
    "\\end{align*}\n",
    "Solve this problem using $\\texttt{pyomo}$. "
   ]
  },
  {
   "cell_type": "code",
   "execution_count": 38,
   "metadata": {},
   "outputs": [
    {
     "output_type": "stream",
     "name": "stdout",
     "text": [
      "# ==========================================================\n# = Solver Results                                         =\n# ==========================================================\n# ----------------------------------------------------------\n#   Problem Information\n# ----------------------------------------------------------\nProblem: \n- Lower bound: -inf\n  Upper bound: inf\n  Number of objectives: 1\n  Number of constraints: 6\n  Number of variables: 4\n  Sense: unknown\n# ----------------------------------------------------------\n#   Solver Information\n# ----------------------------------------------------------\nSolver: \n- Status: ok\n  Message: Ipopt 3.5.5\\x3a Optimal Solution Found\n  Termination condition: optimal\n  Id: 0\n  Error rc: 0\n  Time: 0.021996498107910156\n# ----------------------------------------------------------\n#   Solution Information\n# ----------------------------------------------------------\nSolution: \n- number of solutions: 0\n  number of solutions displayed: 0\nModel unknown\n\n  Variables:\n    x : Size=2, Index=idxx\n        Key : Lower : Value              : Upper : Fixed : Stale : Domain\n          0 :  None :  3.999999990259741 :  None : False : False :  Reals\n          1 :  None : 1.0000399938096098 :  None : False : False :  Reals\n    u : Size=2, Index=idxu\n        Key : Lower : Value               : Upper : Fixed : Stale : Domain\n          0 :  None :  -1.000000009740259 :  None : False : False :  Reals\n          1 :  None : -0.9999600013202607 :  None : False : False :  Reals\n\n  Objectives:\n    OBJ : Size=1, Index=None, Active=True\n        Key  : Active : Value\n        None :   True : 9.499999967508794\n\n  Constraints:\n    cons : Size=6\n        Key : Lower : Body                  : Upper\n          1 :   0.0 : 4.440892098500626e-16 :   0.0\n          2 :   0.0 :                   0.0 :   0.0\n          3 :   2.0 :     3.999999990259741 :   5.0\n          4 :  -2.0 :    1.0000399938096098 :   2.0\n          5 :  -1.0 :    -1.000000009740259 :   1.0\n          6 :  -1.0 :   -0.9999600013202607 :   1.0\nx*_solver= [3.99999999 1.00003999]\nopt_value= 9.499999967508794\n"
     ]
    }
   ],
   "source": [
    "# Pyomo version\n",
    "\n",
    "import numpy as np\n",
    "import pyomo.environ as pyo\n",
    "\n",
    "x0 = 10.0\n",
    "\n",
    "model = pyo.ConcreteModel()\n",
    "\n",
    "model.idxx = pyo.Set(initialize = [0, 1])\n",
    "model.idxu = pyo.Set(initialize = [0, 1])\n",
    "model.x = pyo.Var(model.idxx)  \n",
    "model.u = pyo.Var(model.idxu) \n",
    "\n",
    "obj_expr = 0.5*(model.x[0]**2 + model.x[1]**2 + model.u[0]**2 + model.u[1]**2)\n",
    "model.OBJ = pyo.Objective(expr = obj_expr, sense=pyo.minimize)   # define the objective \n",
    "\n",
    "model.cons = pyo.ConstraintList()\n",
    "model.cons.add(model.x[0] == 0.5*x0 + model.u[0])\n",
    "model.cons.add(model.x[1] == 0.5*model.x[0] + model.u[1])\n",
    "model.cons.add(pyo.inequality(lower=2, body=model.x[0],  upper=5))\n",
    "model.cons.add(pyo.inequality(-2, model.x[1], 2))\n",
    "model.cons.add(pyo.inequality(-1, model.u[0], 1))\n",
    "model.cons.add(pyo.inequality(-1, model.u[1], 1))\n",
    "\n",
    "results = pyo.SolverFactory('ipopt').solve(model).write()\n",
    "# model.display()\n",
    "\n",
    "xstar_pyo = np.array([model.x[t]() for t in model.idxx])\n",
    "print('x*_solver=', xstar_pyo)\n",
    "print('opt_value=', pyo.value(model.OBJ))"
   ]
  }
 ],
 "metadata": {
  "kernelspec": {
   "display_name": "Python 3",
   "language": "python",
   "name": "python3"
  },
  "language_info": {
   "codemirror_mode": {
    "name": "ipython",
    "version": 3
   },
   "file_extension": ".py",
   "mimetype": "text/x-python",
   "name": "python",
   "nbconvert_exporter": "python",
   "pygments_lexer": "ipython3",
   "version": "3.7.0-final"
  }
 },
 "nbformat": 4,
 "nbformat_minor": 4
}