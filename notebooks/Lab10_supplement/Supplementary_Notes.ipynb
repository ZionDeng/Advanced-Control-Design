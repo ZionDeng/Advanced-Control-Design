{
 "cells": [
  {
   "cell_type": "markdown",
   "metadata": {},
   "source": [
    "# Controllable Sets, Invariant Sets, and MPC Feasibility and Stability"
   ]
  },
  {
   "cell_type": "markdown",
   "metadata": {},
   "source": [
    "ME C231A, EECS C220B, UC Berkeley"
   ]
  },
  {
   "cell_type": "markdown",
   "metadata": {},
   "source": [
    "***"
   ]
  },
  {
   "cell_type": "code",
   "execution_count": 1,
   "metadata": {},
   "outputs": [],
   "source": [
    "# This cell is commented out because Polytope package, Pyomo and solvers are already installed on Docker image.\n",
    "# Please run this cell only if you are using Google Colab. \n",
    "\n",
    "# # install required dependencies\n",
    "# import sys\n",
    "# IN_COLAB = 'google.colab' in sys.modules\n",
    "# if IN_COLAB:\n",
    "#   !pip install polytope\n",
    "#   !pip install -q pyomo\n",
    "#   !apt-get install -y -qq glpk-utils\n",
    "#   !apt-get install -y -qq coinor-cbc\n",
    "#   !wget -N -q \"https://ampl.com/dl/open/ipopt/ipopt-linux64.zip\"\n",
    "#   !unzip -o -q ipopt-linux64"
   ]
  },
  {
   "cell_type": "markdown",
   "metadata": {},
   "source": [
    "***"
   ]
  },
  {
   "cell_type": "markdown",
   "metadata": {},
   "source": [
    "These notes serve the following purposes,\n",
    "\n",
    "1. Clarify the properties and computation of N-step controllable sets, positive invariant and control invariant sets.\n",
    "2. Show how invariant sets can be used to design persistently feasible and asymptotically stable MPC controllers.\n",
    "\n",
    "We will use numerical examples with a second order unstable system\n",
    "\\begin{align}\n",
    "     x(t+1)= Ax+Bu = \\begin{bmatrix} 1.5 & 0 \\\\ 1 & -1.5  \\end{bmatrix} x(t)+\n",
    "\\begin{bmatrix} 1 \\\\ 0 \\end{bmatrix} u(t). \\quad \\quad \\quad \\quad (1)\n",
    "\\end{align}\n",
    "\n",
    "subject to the input and state constraints\n",
    "\n",
    "\\begin{align}\n",
    "&u(t)\\in \\mathcal{U}=\\left\\{u~:~-5\\leq u\\leq 5\\right\\},~\\forall t\\geq 0 \\quad \\quad \\quad \\quad \\quad \\quad \\quad \\quad (2a)\\\\\n",
    "&x(t)\\in \\mathcal{X}=\\left\\{x~:~\\begin{bmatrix} -10\\\\-10 \\end{bmatrix}  \\leq x\\leq \\begin{bmatrix} 10\\\\10 \\end{bmatrix} \\right\\},~\\forall t\\geq 0. \\quad \\quad \\quad \\quad (2b)\n",
    "\\end{align}"
   ]
  },
  {
   "cell_type": "markdown",
   "metadata": {},
   "source": [
    "***"
   ]
  },
  {
   "cell_type": "markdown",
   "metadata": {},
   "source": [
    "# <font color=blue> 1  Controllable Sets </font>\n",
    "Recall our definition of $N$-Step Controllable Set $\\mathcal{K}_N(\\mathcal{S})$.\n",
    "\n",
    "For a given target set $\\mathcal{S}\\subseteq \\mathcal{X}$, the $N$-step\n",
    "controllable set $\\mathcal{K}_N(\\mathcal{S})$ of the system (1)\n",
    "subject to the constraints (2)\n",
    "is defined recursively as:\n",
    "\n",
    "\\begin{equation}\n",
    "\\mathcal{K}_j(\\mathcal{S}) \\triangleq \\textbf{Pre}(\\mathcal{K}_{j-1}(\\mathcal{S}))\\cap\\mathcal{X},~~ \\mathcal{K}_{0}(\\mathcal{S})=\\mathcal{S},~~~~ j\\in\\{1,\\ldots,N\\}  \\quad \\quad (3)\n",
    "\\end{equation}\n",
    "\n",
    "All states $x_0$ of the system (1) belonging to the $N$-Step Controllable Set $\\mathcal{K}_N(\\mathcal{S})$\n",
    "can be driven, by a suitable control sequence, to the target set $\\mathcal{S}$ in $N$ steps, while satisfying input and state constraints.\n",
    "\n",
    "Note that the computation of the set does not provide the input sequence driving the system states to $\\mathcal{S}$.\n",
    "\n",
    "## 1.1 How to compute $N$-step controllable sets?\n",
    "From the previous definition we have that a $1$-step controllable set to the set $\\mathcal{S}$ is computed as\n",
    "\\begin{equation}\n",
    "\\mathcal{K}_1=\\textbf{Pre}(\\mathcal{S})\\cap\\mathcal{X} \\quad \\quad \\quad (4)\n",
    "\\end{equation}\n",
    "the $2$-step as\n",
    "\\begin{equation}\n",
    "\\mathcal{K}_2=\\textbf{Pre}(\\mathcal{K}_1)\\cap\\mathcal{X} \\quad \\quad \\quad (5)\n",
    "\\end{equation}\n",
    "and so on.\n",
    "The operation $\\textbf{Pre}(\\mathcal{K}_1)$ for linear systems subject to linear constraints is discussed in the lecture.\n",
    "We said that if\n",
    "\\begin{equation}\n",
    "    \\mathcal{S} = \\{ x \\;|\\;  Hx\\leq h \\}, \\quad \\mathcal{U} = \\{ u  \\;|\\;  H_u u\\leq h_u \\}, \\quad \\quad \\quad (6)\n",
    "\\end{equation}\n",
    "The Pre set is\n",
    "\\begin{equation}\n",
    "  {\\rm Pre}(\\mathcal{S}) = \\left\\{x \\in \\mathbb{R}^n \\,|\\, \\exists u \\in \\mathbb{R} \\;{\\rm s.t.}\\;\n",
    "                              \\begin{bmatrix}\n",
    "                                H A& H B\\\\\n",
    "                                0 &H_u\n",
    "                              \\end{bmatrix}\n",
    "   \\begin{pmatrix}\n",
    "     x \\\\\n",
    "     u \\\\\n",
    "   \\end{pmatrix}\n",
    "    \\leq \\begin{bmatrix}\n",
    "                                h \\\\\n",
    "                                h_u\n",
    "                              \\end{bmatrix}\\right\\}\n",
    "\\end{equation}\n",
    "\n",
    "which is the projection onto the $x$-space (with dimension $\\mathbb{R}^n$) of the polyhedron\n",
    "\\begin{equation}\n",
    "\\mathcal{XU}:= \\{\\begin{bmatrix}\n",
    "                                H A& H B\\\\\n",
    "                                0 &H_u\n",
    "                              \\end{bmatrix}\n",
    "   \\begin{pmatrix}\n",
    "     x \\\\\n",
    "     u \\\\\n",
    "   \\end{pmatrix}\n",
    "    \\leq \\begin{bmatrix}\n",
    "                                h \\\\\n",
    "                                h_u\n",
    "                              \\end{bmatrix}\\}.\n",
    "\\end{equation}"
   ]
  },
  {
   "cell_type": "code",
   "execution_count": 2,
   "metadata": {},
   "outputs": [],
   "source": [
    "import numpy as np\n",
    "import scipy.signal\n",
    "import scipy.linalg\n",
    "from scipy.integrate import solve_ivp\n",
    "import matplotlib.pyplot as plt\n",
    "import polytope as pt"
   ]
  },
  {
   "cell_type": "code",
   "execution_count": 3,
   "metadata": {},
   "outputs": [],
   "source": [
    "# Unstable System\n",
    "# x(k+1) = A*x(k) + B*u(k)\n",
    "\n",
    "\n",
    "A = np.array([[1.5, 0],\n",
    "               [1, -1.5]])\n",
    "B = np.array([[1],\n",
    "               [0]])\n",
    "\n",
    "# constraints on inputs and states\n",
    "x1U = 10\n",
    "x2U = 10\n",
    "uU = 5\n",
    "\n",
    "# constraint sets represented as polyhedra\n",
    "# state constraint\n",
    "X = pt.Polytope(np.array([[1.0, 0], \n",
    "                          [0, 1.0],\n",
    "                          [-1, 0],\n",
    "                          [0, -1]]), \n",
    "                np.array([[x1U], \n",
    "                          [x2U],\n",
    "                          [x1U],\n",
    "                          [x2U]])) \n",
    "# input constraint\n",
    "U = pt.Polytope(np.array([1, -1]).reshape(2,1),\n",
    "                np.array([uU, uU]).reshape(2,1))"
   ]
  },
  {
   "cell_type": "code",
   "execution_count": 4,
   "metadata": {},
   "outputs": [],
   "source": [
    "# Helper Function:\n",
    "\n",
    "def minkowski_sum(X, Y):\n",
    "\n",
    "    # Minkowski sum between two polytopes based on \n",
    "    # vertex enumeration. So, it's not fast for the\n",
    "    # high dimensional polytopes with lots of vertices.\n",
    "    V_sum = []\n",
    "    if isinstance(X, pt.Polytope):\n",
    "        V1 = pt.extreme(X)\n",
    "    else:\n",
    "        # assuming vertices are in (N x d) shape. N # of vertices, d dimension\n",
    "        V1 = X\n",
    "        \n",
    "    if isinstance(Y, pt.Polytope):\n",
    "        V2 = pt.extreme(Y)\n",
    "    else:\n",
    "        V2 = Y\n",
    "\n",
    "    for i in range(V1.shape[0]):\n",
    "        for j in range(V2.shape[0]):\n",
    "            V_sum.append(V1[i,:] + V2[j,:])\n",
    "    return pt.qhull(np.asarray(V_sum))\n"
   ]
  },
  {
   "cell_type": "code",
   "execution_count": 5,
   "metadata": {},
   "outputs": [],
   "source": [
    "# The operation Pre(S) results in the set of states which evolve into the target set S in one time step. \n",
    "def precursor(Xset, A, Uset=pt.Polytope(), B=np.array([])):\n",
    "        if not B.any():\n",
    "            return pt.Polytope(Xset.A @ A, Xset.b)\n",
    "        else:\n",
    "            tmp  = minkowski_sum( Xset, pt.extreme(Uset) @ -B.T )\n",
    "        return pt.Polytope(tmp.A @ A, tmp.b)"
   ]
  },
  {
   "cell_type": "markdown",
   "metadata": {},
   "source": [
    "So we can compute $N$-step controllable sets as"
   ]
  },
  {
   "cell_type": "code",
   "execution_count": 6,
   "metadata": {},
   "outputs": [
    {
     "output_type": "display_data",
     "data": {
      "text/plain": "<Figure size 432x288 with 1 Axes>",
      "image/svg+xml": "<?xml version=\"1.0\" encoding=\"utf-8\" standalone=\"no\"?>\r\n<!DOCTYPE svg PUBLIC \"-//W3C//DTD SVG 1.1//EN\"\r\n  \"http://www.w3.org/Graphics/SVG/1.1/DTD/svg11.dtd\">\r\n<!-- Created with matplotlib (http://matplotlib.org/) -->\r\n<svg height=\"252.018125pt\" version=\"1.1\" viewBox=\"0 0 390.345312 252.018125\" width=\"390.345312pt\" xmlns=\"http://www.w3.org/2000/svg\" xmlns:xlink=\"http://www.w3.org/1999/xlink\">\r\n <defs>\r\n  <style type=\"text/css\">\r\n*{stroke-linecap:butt;stroke-linejoin:round;}\r\n  </style>\r\n </defs>\r\n <g id=\"figure_1\">\r\n  <g id=\"patch_1\">\r\n   <path d=\"M 0 252.018125 \r\nL 390.345312 252.018125 \r\nL 390.345312 0 \r\nL 0 0 \r\nz\r\n\" style=\"fill:none;\"/>\r\n  </g>\r\n  <g id=\"axes_1\">\r\n   <g id=\"patch_2\">\r\n    <path d=\"M 44.845313 228.14 \r\nL 379.645313 228.14 \r\nL 379.645313 10.7 \r\nL 44.845313 10.7 \r\nz\r\n\" style=\"fill:#ffffff;\"/>\r\n   </g>\r\n   <g id=\"patch_3\">\r\n    <path clip-path=\"url(#p49dfac96fa)\" d=\"M 136.154403 218.256364 \r\nL 60.063494 218.256364 \r\nL 60.063494 119.42 \r\nL 288.336222 20.583636 \r\nL 364.427131 20.583636 \r\nL 364.427131 119.42 \r\nz\r\n\" style=\"fill:#bf00bf;opacity:0.1;stroke:#000000;stroke-linejoin:miter;\"/>\r\n   </g>\r\n   <g id=\"patch_4\">\r\n    <path clip-path=\"url(#p49dfac96fa)\" d=\"M 60.063494 185.310909 \r\nL 60.063494 119.42 \r\nL 212.245313 53.529091 \r\nL 364.427131 53.529091 \r\nL 364.427131 119.42 \r\nL 212.245313 185.310909 \r\nz\r\n\" style=\"fill:#bf00bf;opacity:0.2;stroke:#000000;stroke-linejoin:miter;\"/>\r\n   </g>\r\n   <g id=\"patch_5\">\r\n    <path clip-path=\"url(#p49dfac96fa)\" d=\"M 161.51804 185.310909 \r\nL 60.063494 185.310909 \r\nL 60.063494 141.383636 \r\nL 262.972585 53.529091 \r\nL 364.427131 53.529091 \r\nL 364.427131 97.456364 \r\nz\r\n\" style=\"fill:#bf00bf;opacity:0.3;stroke:#000000;stroke-linejoin:miter;\"/>\r\n   </g>\r\n   <g id=\"patch_6\">\r\n    <path clip-path=\"url(#p49dfac96fa)\" d=\"M 195.336222 170.668485 \r\nL 60.063494 170.668485 \r\nL 60.063494 141.383636 \r\nL 229.154403 68.171515 \r\nL 364.427131 68.171515 \r\nL 364.427131 97.456364 \r\nz\r\n\" style=\"fill:#bf00bf;opacity:0.4;stroke:#000000;stroke-linejoin:miter;\"/>\r\n   </g>\r\n   <g id=\"patch_7\">\r\n    <path clip-path=\"url(#p49dfac96fa)\" d=\"M 172.790767 170.668485 \r\nL 60.063494 170.668485 \r\nL 60.063494 151.145253 \r\nL 251.699858 68.171515 \r\nL 364.427131 68.171515 \r\nL 364.427131 87.694747 \r\nz\r\n\" style=\"fill:#bf00bf;opacity:0.5;stroke:#000000;stroke-linejoin:miter;\"/>\r\n   </g>\r\n   <g id=\"patch_8\">\r\n    <path clip-path=\"url(#p49dfac96fa)\" d=\"M 187.82107 164.160741 \r\nL 60.063494 164.160741 \r\nL 60.063494 151.145253 \r\nL 236.669555 74.679259 \r\nL 364.427131 74.679259 \r\nL 364.427131 87.694747 \r\nz\r\n\" style=\"fill:#bf00bf;opacity:0.6;stroke:#000000;stroke-linejoin:miter;\"/>\r\n   </g>\r\n   <g id=\"matplotlib.axis_1\">\r\n    <g id=\"xtick_1\">\r\n     <g id=\"line2d_1\">\r\n      <defs>\r\n       <path d=\"M 0 0 \r\nL 0 3.5 \r\n\" id=\"mafb77926b5\" style=\"stroke:#000000;stroke-width:0.8;\"/>\r\n      </defs>\r\n      <g>\r\n       <use style=\"stroke:#000000;stroke-width:0.8;\" x=\"60.063494\" xlink:href=\"#mafb77926b5\" y=\"228.14\"/>\r\n      </g>\r\n     </g>\r\n     <g id=\"text_1\">\r\n      <!-- −10.0 -->\r\n      <defs>\r\n       <path d=\"M 10.59375 35.5 \r\nL 73.1875 35.5 \r\nL 73.1875 27.203125 \r\nL 10.59375 27.203125 \r\nz\r\n\" id=\"DejaVuSans-2212\"/>\r\n       <path d=\"M 12.40625 8.296875 \r\nL 28.515625 8.296875 \r\nL 28.515625 63.921875 \r\nL 10.984375 60.40625 \r\nL 10.984375 69.390625 \r\nL 28.421875 72.90625 \r\nL 38.28125 72.90625 \r\nL 38.28125 8.296875 \r\nL 54.390625 8.296875 \r\nL 54.390625 0 \r\nL 12.40625 0 \r\nz\r\n\" id=\"DejaVuSans-31\"/>\r\n       <path d=\"M 31.78125 66.40625 \r\nQ 24.171875 66.40625 20.328125 58.90625 \r\nQ 16.5 51.421875 16.5 36.375 \r\nQ 16.5 21.390625 20.328125 13.890625 \r\nQ 24.171875 6.390625 31.78125 6.390625 \r\nQ 39.453125 6.390625 43.28125 13.890625 \r\nQ 47.125 21.390625 47.125 36.375 \r\nQ 47.125 51.421875 43.28125 58.90625 \r\nQ 39.453125 66.40625 31.78125 66.40625 \r\nz\r\nM 31.78125 74.21875 \r\nQ 44.046875 74.21875 50.515625 64.515625 \r\nQ 56.984375 54.828125 56.984375 36.375 \r\nQ 56.984375 17.96875 50.515625 8.265625 \r\nQ 44.046875 -1.421875 31.78125 -1.421875 \r\nQ 19.53125 -1.421875 13.0625 8.265625 \r\nQ 6.59375 17.96875 6.59375 36.375 \r\nQ 6.59375 54.828125 13.0625 64.515625 \r\nQ 19.53125 74.21875 31.78125 74.21875 \r\nz\r\n\" id=\"DejaVuSans-30\"/>\r\n       <path d=\"M 10.6875 12.40625 \r\nL 21 12.40625 \r\nL 21 0 \r\nL 10.6875 0 \r\nz\r\n\" id=\"DejaVuSans-2e\"/>\r\n      </defs>\r\n      <g transform=\"translate(44.740838 242.738437)scale(0.1 -0.1)\">\r\n       <use xlink:href=\"#DejaVuSans-2212\"/>\r\n       <use x=\"83.789062\" xlink:href=\"#DejaVuSans-31\"/>\r\n       <use x=\"147.412109\" xlink:href=\"#DejaVuSans-30\"/>\r\n       <use x=\"211.035156\" xlink:href=\"#DejaVuSans-2e\"/>\r\n       <use x=\"242.822266\" xlink:href=\"#DejaVuSans-30\"/>\r\n      </g>\r\n     </g>\r\n    </g>\r\n    <g id=\"xtick_2\">\r\n     <g id=\"line2d_2\">\r\n      <g>\r\n       <use style=\"stroke:#000000;stroke-width:0.8;\" x=\"98.108949\" xlink:href=\"#mafb77926b5\" y=\"228.14\"/>\r\n      </g>\r\n     </g>\r\n     <g id=\"text_2\">\r\n      <!-- −7.5 -->\r\n      <defs>\r\n       <path d=\"M 8.203125 72.90625 \r\nL 55.078125 72.90625 \r\nL 55.078125 68.703125 \r\nL 28.609375 0 \r\nL 18.3125 0 \r\nL 43.21875 64.59375 \r\nL 8.203125 64.59375 \r\nz\r\n\" id=\"DejaVuSans-37\"/>\r\n       <path d=\"M 10.796875 72.90625 \r\nL 49.515625 72.90625 \r\nL 49.515625 64.59375 \r\nL 19.828125 64.59375 \r\nL 19.828125 46.734375 \r\nQ 21.96875 47.46875 24.109375 47.828125 \r\nQ 26.265625 48.1875 28.421875 48.1875 \r\nQ 40.625 48.1875 47.75 41.5 \r\nQ 54.890625 34.8125 54.890625 23.390625 \r\nQ 54.890625 11.625 47.5625 5.09375 \r\nQ 40.234375 -1.421875 26.90625 -1.421875 \r\nQ 22.3125 -1.421875 17.546875 -0.640625 \r\nQ 12.796875 0.140625 7.71875 1.703125 \r\nL 7.71875 11.625 \r\nQ 12.109375 9.234375 16.796875 8.0625 \r\nQ 21.484375 6.890625 26.703125 6.890625 \r\nQ 35.15625 6.890625 40.078125 11.328125 \r\nQ 45.015625 15.765625 45.015625 23.390625 \r\nQ 45.015625 31 40.078125 35.4375 \r\nQ 35.15625 39.890625 26.703125 39.890625 \r\nQ 22.75 39.890625 18.8125 39.015625 \r\nQ 14.890625 38.140625 10.796875 36.28125 \r\nz\r\n\" id=\"DejaVuSans-35\"/>\r\n      </defs>\r\n      <g transform=\"translate(85.967543 242.738437)scale(0.1 -0.1)\">\r\n       <use xlink:href=\"#DejaVuSans-2212\"/>\r\n       <use x=\"83.789062\" xlink:href=\"#DejaVuSans-37\"/>\r\n       <use x=\"147.412109\" xlink:href=\"#DejaVuSans-2e\"/>\r\n       <use x=\"179.199219\" xlink:href=\"#DejaVuSans-35\"/>\r\n      </g>\r\n     </g>\r\n    </g>\r\n    <g id=\"xtick_3\">\r\n     <g id=\"line2d_3\">\r\n      <g>\r\n       <use style=\"stroke:#000000;stroke-width:0.8;\" x=\"136.154403\" xlink:href=\"#mafb77926b5\" y=\"228.14\"/>\r\n      </g>\r\n     </g>\r\n     <g id=\"text_3\">\r\n      <!-- −5.0 -->\r\n      <g transform=\"translate(124.012997 242.738437)scale(0.1 -0.1)\">\r\n       <use xlink:href=\"#DejaVuSans-2212\"/>\r\n       <use x=\"83.789062\" xlink:href=\"#DejaVuSans-35\"/>\r\n       <use x=\"147.412109\" xlink:href=\"#DejaVuSans-2e\"/>\r\n       <use x=\"179.199219\" xlink:href=\"#DejaVuSans-30\"/>\r\n      </g>\r\n     </g>\r\n    </g>\r\n    <g id=\"xtick_4\">\r\n     <g id=\"line2d_4\">\r\n      <g>\r\n       <use style=\"stroke:#000000;stroke-width:0.8;\" x=\"174.199858\" xlink:href=\"#mafb77926b5\" y=\"228.14\"/>\r\n      </g>\r\n     </g>\r\n     <g id=\"text_4\">\r\n      <!-- −2.5 -->\r\n      <defs>\r\n       <path d=\"M 19.1875 8.296875 \r\nL 53.609375 8.296875 \r\nL 53.609375 0 \r\nL 7.328125 0 \r\nL 7.328125 8.296875 \r\nQ 12.9375 14.109375 22.625 23.890625 \r\nQ 32.328125 33.6875 34.8125 36.53125 \r\nQ 39.546875 41.84375 41.421875 45.53125 \r\nQ 43.3125 49.21875 43.3125 52.78125 \r\nQ 43.3125 58.59375 39.234375 62.25 \r\nQ 35.15625 65.921875 28.609375 65.921875 \r\nQ 23.96875 65.921875 18.8125 64.3125 \r\nQ 13.671875 62.703125 7.8125 59.421875 \r\nL 7.8125 69.390625 \r\nQ 13.765625 71.78125 18.9375 73 \r\nQ 24.125 74.21875 28.421875 74.21875 \r\nQ 39.75 74.21875 46.484375 68.546875 \r\nQ 53.21875 62.890625 53.21875 53.421875 \r\nQ 53.21875 48.921875 51.53125 44.890625 \r\nQ 49.859375 40.875 45.40625 35.40625 \r\nQ 44.1875 33.984375 37.640625 27.21875 \r\nQ 31.109375 20.453125 19.1875 8.296875 \r\nz\r\n\" id=\"DejaVuSans-32\"/>\r\n      </defs>\r\n      <g transform=\"translate(162.058452 242.738437)scale(0.1 -0.1)\">\r\n       <use xlink:href=\"#DejaVuSans-2212\"/>\r\n       <use x=\"83.789062\" xlink:href=\"#DejaVuSans-32\"/>\r\n       <use x=\"147.412109\" xlink:href=\"#DejaVuSans-2e\"/>\r\n       <use x=\"179.199219\" xlink:href=\"#DejaVuSans-35\"/>\r\n      </g>\r\n     </g>\r\n    </g>\r\n    <g id=\"xtick_5\">\r\n     <g id=\"line2d_5\">\r\n      <g>\r\n       <use style=\"stroke:#000000;stroke-width:0.8;\" x=\"212.245313\" xlink:href=\"#mafb77926b5\" y=\"228.14\"/>\r\n      </g>\r\n     </g>\r\n     <g id=\"text_5\">\r\n      <!-- 0.0 -->\r\n      <g transform=\"translate(204.29375 242.738437)scale(0.1 -0.1)\">\r\n       <use xlink:href=\"#DejaVuSans-30\"/>\r\n       <use x=\"63.623047\" xlink:href=\"#DejaVuSans-2e\"/>\r\n       <use x=\"95.410156\" xlink:href=\"#DejaVuSans-30\"/>\r\n      </g>\r\n     </g>\r\n    </g>\r\n    <g id=\"xtick_6\">\r\n     <g id=\"line2d_6\">\r\n      <g>\r\n       <use style=\"stroke:#000000;stroke-width:0.8;\" x=\"250.290767\" xlink:href=\"#mafb77926b5\" y=\"228.14\"/>\r\n      </g>\r\n     </g>\r\n     <g id=\"text_6\">\r\n      <!-- 2.5 -->\r\n      <g transform=\"translate(242.339205 242.738437)scale(0.1 -0.1)\">\r\n       <use xlink:href=\"#DejaVuSans-32\"/>\r\n       <use x=\"63.623047\" xlink:href=\"#DejaVuSans-2e\"/>\r\n       <use x=\"95.410156\" xlink:href=\"#DejaVuSans-35\"/>\r\n      </g>\r\n     </g>\r\n    </g>\r\n    <g id=\"xtick_7\">\r\n     <g id=\"line2d_7\">\r\n      <g>\r\n       <use style=\"stroke:#000000;stroke-width:0.8;\" x=\"288.336222\" xlink:href=\"#mafb77926b5\" y=\"228.14\"/>\r\n      </g>\r\n     </g>\r\n     <g id=\"text_7\">\r\n      <!-- 5.0 -->\r\n      <g transform=\"translate(280.384659 242.738437)scale(0.1 -0.1)\">\r\n       <use xlink:href=\"#DejaVuSans-35\"/>\r\n       <use x=\"63.623047\" xlink:href=\"#DejaVuSans-2e\"/>\r\n       <use x=\"95.410156\" xlink:href=\"#DejaVuSans-30\"/>\r\n      </g>\r\n     </g>\r\n    </g>\r\n    <g id=\"xtick_8\">\r\n     <g id=\"line2d_8\">\r\n      <g>\r\n       <use style=\"stroke:#000000;stroke-width:0.8;\" x=\"326.381676\" xlink:href=\"#mafb77926b5\" y=\"228.14\"/>\r\n      </g>\r\n     </g>\r\n     <g id=\"text_8\">\r\n      <!-- 7.5 -->\r\n      <g transform=\"translate(318.430114 242.738437)scale(0.1 -0.1)\">\r\n       <use xlink:href=\"#DejaVuSans-37\"/>\r\n       <use x=\"63.623047\" xlink:href=\"#DejaVuSans-2e\"/>\r\n       <use x=\"95.410156\" xlink:href=\"#DejaVuSans-35\"/>\r\n      </g>\r\n     </g>\r\n    </g>\r\n    <g id=\"xtick_9\">\r\n     <g id=\"line2d_9\">\r\n      <g>\r\n       <use style=\"stroke:#000000;stroke-width:0.8;\" x=\"364.427131\" xlink:href=\"#mafb77926b5\" y=\"228.14\"/>\r\n      </g>\r\n     </g>\r\n     <g id=\"text_9\">\r\n      <!-- 10.0 -->\r\n      <g transform=\"translate(353.294318 242.738437)scale(0.1 -0.1)\">\r\n       <use xlink:href=\"#DejaVuSans-31\"/>\r\n       <use x=\"63.623047\" xlink:href=\"#DejaVuSans-30\"/>\r\n       <use x=\"127.246094\" xlink:href=\"#DejaVuSans-2e\"/>\r\n       <use x=\"159.033203\" xlink:href=\"#DejaVuSans-30\"/>\r\n      </g>\r\n     </g>\r\n    </g>\r\n   </g>\r\n   <g id=\"matplotlib.axis_2\">\r\n    <g id=\"ytick_1\">\r\n     <g id=\"line2d_10\">\r\n      <defs>\r\n       <path d=\"M 0 0 \r\nL -3.5 0 \r\n\" id=\"m4469e2aa5b\" style=\"stroke:#000000;stroke-width:0.8;\"/>\r\n      </defs>\r\n      <g>\r\n       <use style=\"stroke:#000000;stroke-width:0.8;\" x=\"44.845313\" xlink:href=\"#m4469e2aa5b\" y=\"218.256364\"/>\r\n      </g>\r\n     </g>\r\n     <g id=\"text_10\">\r\n      <!-- −10.0 -->\r\n      <g transform=\"translate(7.2 222.055582)scale(0.1 -0.1)\">\r\n       <use xlink:href=\"#DejaVuSans-2212\"/>\r\n       <use x=\"83.789062\" xlink:href=\"#DejaVuSans-31\"/>\r\n       <use x=\"147.412109\" xlink:href=\"#DejaVuSans-30\"/>\r\n       <use x=\"211.035156\" xlink:href=\"#DejaVuSans-2e\"/>\r\n       <use x=\"242.822266\" xlink:href=\"#DejaVuSans-30\"/>\r\n      </g>\r\n     </g>\r\n    </g>\r\n    <g id=\"ytick_2\">\r\n     <g id=\"line2d_11\">\r\n      <g>\r\n       <use style=\"stroke:#000000;stroke-width:0.8;\" x=\"44.845313\" xlink:href=\"#m4469e2aa5b\" y=\"193.547273\"/>\r\n      </g>\r\n     </g>\r\n     <g id=\"text_11\">\r\n      <!-- −7.5 -->\r\n      <g transform=\"translate(13.5625 197.346491)scale(0.1 -0.1)\">\r\n       <use xlink:href=\"#DejaVuSans-2212\"/>\r\n       <use x=\"83.789062\" xlink:href=\"#DejaVuSans-37\"/>\r\n       <use x=\"147.412109\" xlink:href=\"#DejaVuSans-2e\"/>\r\n       <use x=\"179.199219\" xlink:href=\"#DejaVuSans-35\"/>\r\n      </g>\r\n     </g>\r\n    </g>\r\n    <g id=\"ytick_3\">\r\n     <g id=\"line2d_12\">\r\n      <g>\r\n       <use style=\"stroke:#000000;stroke-width:0.8;\" x=\"44.845313\" xlink:href=\"#m4469e2aa5b\" y=\"168.838182\"/>\r\n      </g>\r\n     </g>\r\n     <g id=\"text_12\">\r\n      <!-- −5.0 -->\r\n      <g transform=\"translate(13.5625 172.637401)scale(0.1 -0.1)\">\r\n       <use xlink:href=\"#DejaVuSans-2212\"/>\r\n       <use x=\"83.789062\" xlink:href=\"#DejaVuSans-35\"/>\r\n       <use x=\"147.412109\" xlink:href=\"#DejaVuSans-2e\"/>\r\n       <use x=\"179.199219\" xlink:href=\"#DejaVuSans-30\"/>\r\n      </g>\r\n     </g>\r\n    </g>\r\n    <g id=\"ytick_4\">\r\n     <g id=\"line2d_13\">\r\n      <g>\r\n       <use style=\"stroke:#000000;stroke-width:0.8;\" x=\"44.845313\" xlink:href=\"#m4469e2aa5b\" y=\"144.129091\"/>\r\n      </g>\r\n     </g>\r\n     <g id=\"text_13\">\r\n      <!-- −2.5 -->\r\n      <g transform=\"translate(13.5625 147.92831)scale(0.1 -0.1)\">\r\n       <use xlink:href=\"#DejaVuSans-2212\"/>\r\n       <use x=\"83.789062\" xlink:href=\"#DejaVuSans-32\"/>\r\n       <use x=\"147.412109\" xlink:href=\"#DejaVuSans-2e\"/>\r\n       <use x=\"179.199219\" xlink:href=\"#DejaVuSans-35\"/>\r\n      </g>\r\n     </g>\r\n    </g>\r\n    <g id=\"ytick_5\">\r\n     <g id=\"line2d_14\">\r\n      <g>\r\n       <use style=\"stroke:#000000;stroke-width:0.8;\" x=\"44.845313\" xlink:href=\"#m4469e2aa5b\" y=\"119.42\"/>\r\n      </g>\r\n     </g>\r\n     <g id=\"text_14\">\r\n      <!-- 0.0 -->\r\n      <g transform=\"translate(21.942188 123.219219)scale(0.1 -0.1)\">\r\n       <use xlink:href=\"#DejaVuSans-30\"/>\r\n       <use x=\"63.623047\" xlink:href=\"#DejaVuSans-2e\"/>\r\n       <use x=\"95.410156\" xlink:href=\"#DejaVuSans-30\"/>\r\n      </g>\r\n     </g>\r\n    </g>\r\n    <g id=\"ytick_6\">\r\n     <g id=\"line2d_15\">\r\n      <g>\r\n       <use style=\"stroke:#000000;stroke-width:0.8;\" x=\"44.845313\" xlink:href=\"#m4469e2aa5b\" y=\"94.710909\"/>\r\n      </g>\r\n     </g>\r\n     <g id=\"text_15\">\r\n      <!-- 2.5 -->\r\n      <g transform=\"translate(21.942188 98.510128)scale(0.1 -0.1)\">\r\n       <use xlink:href=\"#DejaVuSans-32\"/>\r\n       <use x=\"63.623047\" xlink:href=\"#DejaVuSans-2e\"/>\r\n       <use x=\"95.410156\" xlink:href=\"#DejaVuSans-35\"/>\r\n      </g>\r\n     </g>\r\n    </g>\r\n    <g id=\"ytick_7\">\r\n     <g id=\"line2d_16\">\r\n      <g>\r\n       <use style=\"stroke:#000000;stroke-width:0.8;\" x=\"44.845313\" xlink:href=\"#m4469e2aa5b\" y=\"70.001818\"/>\r\n      </g>\r\n     </g>\r\n     <g id=\"text_16\">\r\n      <!-- 5.0 -->\r\n      <g transform=\"translate(21.942188 73.801037)scale(0.1 -0.1)\">\r\n       <use xlink:href=\"#DejaVuSans-35\"/>\r\n       <use x=\"63.623047\" xlink:href=\"#DejaVuSans-2e\"/>\r\n       <use x=\"95.410156\" xlink:href=\"#DejaVuSans-30\"/>\r\n      </g>\r\n     </g>\r\n    </g>\r\n    <g id=\"ytick_8\">\r\n     <g id=\"line2d_17\">\r\n      <g>\r\n       <use style=\"stroke:#000000;stroke-width:0.8;\" x=\"44.845313\" xlink:href=\"#m4469e2aa5b\" y=\"45.292727\"/>\r\n      </g>\r\n     </g>\r\n     <g id=\"text_17\">\r\n      <!-- 7.5 -->\r\n      <g transform=\"translate(21.942188 49.091946)scale(0.1 -0.1)\">\r\n       <use xlink:href=\"#DejaVuSans-37\"/>\r\n       <use x=\"63.623047\" xlink:href=\"#DejaVuSans-2e\"/>\r\n       <use x=\"95.410156\" xlink:href=\"#DejaVuSans-35\"/>\r\n      </g>\r\n     </g>\r\n    </g>\r\n    <g id=\"ytick_9\">\r\n     <g id=\"line2d_18\">\r\n      <g>\r\n       <use style=\"stroke:#000000;stroke-width:0.8;\" x=\"44.845313\" xlink:href=\"#m4469e2aa5b\" y=\"20.583636\"/>\r\n      </g>\r\n     </g>\r\n     <g id=\"text_18\">\r\n      <!-- 10.0 -->\r\n      <g transform=\"translate(15.579688 24.382855)scale(0.1 -0.1)\">\r\n       <use xlink:href=\"#DejaVuSans-31\"/>\r\n       <use x=\"63.623047\" xlink:href=\"#DejaVuSans-30\"/>\r\n       <use x=\"127.246094\" xlink:href=\"#DejaVuSans-2e\"/>\r\n       <use x=\"159.033203\" xlink:href=\"#DejaVuSans-30\"/>\r\n      </g>\r\n     </g>\r\n    </g>\r\n   </g>\r\n   <g id=\"patch_9\">\r\n    <path d=\"M 44.845313 228.14 \r\nL 44.845313 10.7 \r\n\" style=\"fill:none;stroke:#000000;stroke-linecap:square;stroke-linejoin:miter;stroke-width:0.8;\"/>\r\n   </g>\r\n   <g id=\"patch_10\">\r\n    <path d=\"M 379.645313 228.14 \r\nL 379.645313 10.7 \r\n\" style=\"fill:none;stroke:#000000;stroke-linecap:square;stroke-linejoin:miter;stroke-width:0.8;\"/>\r\n   </g>\r\n   <g id=\"patch_11\">\r\n    <path d=\"M 44.845313 228.14 \r\nL 379.645313 228.14 \r\n\" style=\"fill:none;stroke:#000000;stroke-linecap:square;stroke-linejoin:miter;stroke-width:0.8;\"/>\r\n   </g>\r\n   <g id=\"patch_12\">\r\n    <path d=\"M 44.845313 10.7 \r\nL 379.645313 10.7 \r\n\" style=\"fill:none;stroke:#000000;stroke-linecap:square;stroke-linejoin:miter;stroke-width:0.8;\"/>\r\n   </g>\r\n   <g id=\"legend_1\">\r\n    <g id=\"patch_13\">\r\n     <path d=\"M 327.725 106.76875 \r\nL 372.645313 106.76875 \r\nQ 374.645313 106.76875 374.645313 104.76875 \r\nL 374.645313 17.7 \r\nQ 374.645313 15.7 372.645313 15.7 \r\nL 327.725 15.7 \r\nQ 325.725 15.7 325.725 17.7 \r\nL 325.725 104.76875 \r\nQ 325.725 106.76875 327.725 106.76875 \r\nz\r\n\" style=\"fill:#ffffff;opacity:0.8;stroke:#cccccc;stroke-linejoin:miter;\"/>\r\n    </g>\r\n    <g id=\"patch_14\">\r\n     <path d=\"M 329.725 27.298437 \r\nL 349.725 27.298437 \r\nL 349.725 20.298437 \r\nL 329.725 20.298437 \r\nz\r\n\" style=\"fill:#bf00bf;opacity:0.1;stroke:#000000;stroke-linejoin:miter;\"/>\r\n    </g>\r\n    <g id=\"text_19\">\r\n     <!-- K0 -->\r\n     <defs>\r\n      <path d=\"M 9.8125 72.90625 \r\nL 19.671875 72.90625 \r\nL 19.671875 42.09375 \r\nL 52.390625 72.90625 \r\nL 65.09375 72.90625 \r\nL 28.90625 38.921875 \r\nL 67.671875 0 \r\nL 54.6875 0 \r\nL 19.671875 35.109375 \r\nL 19.671875 0 \r\nL 9.8125 0 \r\nz\r\n\" id=\"DejaVuSans-4b\"/>\r\n     </defs>\r\n     <g transform=\"translate(357.725 27.298437)scale(0.1 -0.1)\">\r\n      <use xlink:href=\"#DejaVuSans-4b\"/>\r\n      <use x=\"65.576172\" xlink:href=\"#DejaVuSans-30\"/>\r\n     </g>\r\n    </g>\r\n    <g id=\"patch_15\">\r\n     <path d=\"M 329.725 41.976562 \r\nL 349.725 41.976562 \r\nL 349.725 34.976562 \r\nL 329.725 34.976562 \r\nz\r\n\" style=\"fill:#bf00bf;opacity:0.2;stroke:#000000;stroke-linejoin:miter;\"/>\r\n    </g>\r\n    <g id=\"text_20\">\r\n     <!-- K1 -->\r\n     <g transform=\"translate(357.725 41.976562)scale(0.1 -0.1)\">\r\n      <use xlink:href=\"#DejaVuSans-4b\"/>\r\n      <use x=\"65.576172\" xlink:href=\"#DejaVuSans-31\"/>\r\n     </g>\r\n    </g>\r\n    <g id=\"patch_16\">\r\n     <path d=\"M 329.725 56.654687 \r\nL 349.725 56.654687 \r\nL 349.725 49.654687 \r\nL 329.725 49.654687 \r\nz\r\n\" style=\"fill:#bf00bf;opacity:0.3;stroke:#000000;stroke-linejoin:miter;\"/>\r\n    </g>\r\n    <g id=\"text_21\">\r\n     <!-- K2 -->\r\n     <g transform=\"translate(357.725 56.654687)scale(0.1 -0.1)\">\r\n      <use xlink:href=\"#DejaVuSans-4b\"/>\r\n      <use x=\"65.576172\" xlink:href=\"#DejaVuSans-32\"/>\r\n     </g>\r\n    </g>\r\n    <g id=\"patch_17\">\r\n     <path d=\"M 329.725 71.332812 \r\nL 349.725 71.332812 \r\nL 349.725 64.332812 \r\nL 329.725 64.332812 \r\nz\r\n\" style=\"fill:#bf00bf;opacity:0.4;stroke:#000000;stroke-linejoin:miter;\"/>\r\n    </g>\r\n    <g id=\"text_22\">\r\n     <!-- K3 -->\r\n     <defs>\r\n      <path d=\"M 40.578125 39.3125 \r\nQ 47.65625 37.796875 51.625 33 \r\nQ 55.609375 28.21875 55.609375 21.1875 \r\nQ 55.609375 10.40625 48.1875 4.484375 \r\nQ 40.765625 -1.421875 27.09375 -1.421875 \r\nQ 22.515625 -1.421875 17.65625 -0.515625 \r\nQ 12.796875 0.390625 7.625 2.203125 \r\nL 7.625 11.71875 \r\nQ 11.71875 9.328125 16.59375 8.109375 \r\nQ 21.484375 6.890625 26.8125 6.890625 \r\nQ 36.078125 6.890625 40.9375 10.546875 \r\nQ 45.796875 14.203125 45.796875 21.1875 \r\nQ 45.796875 27.640625 41.28125 31.265625 \r\nQ 36.765625 34.90625 28.71875 34.90625 \r\nL 20.21875 34.90625 \r\nL 20.21875 43.015625 \r\nL 29.109375 43.015625 \r\nQ 36.375 43.015625 40.234375 45.921875 \r\nQ 44.09375 48.828125 44.09375 54.296875 \r\nQ 44.09375 59.90625 40.109375 62.90625 \r\nQ 36.140625 65.921875 28.71875 65.921875 \r\nQ 24.65625 65.921875 20.015625 65.03125 \r\nQ 15.375 64.15625 9.8125 62.3125 \r\nL 9.8125 71.09375 \r\nQ 15.4375 72.65625 20.34375 73.4375 \r\nQ 25.25 74.21875 29.59375 74.21875 \r\nQ 40.828125 74.21875 47.359375 69.109375 \r\nQ 53.90625 64.015625 53.90625 55.328125 \r\nQ 53.90625 49.265625 50.4375 45.09375 \r\nQ 46.96875 40.921875 40.578125 39.3125 \r\nz\r\n\" id=\"DejaVuSans-33\"/>\r\n     </defs>\r\n     <g transform=\"translate(357.725 71.332812)scale(0.1 -0.1)\">\r\n      <use xlink:href=\"#DejaVuSans-4b\"/>\r\n      <use x=\"65.576172\" xlink:href=\"#DejaVuSans-33\"/>\r\n     </g>\r\n    </g>\r\n    <g id=\"patch_18\">\r\n     <path d=\"M 329.725 86.010937 \r\nL 349.725 86.010937 \r\nL 349.725 79.010937 \r\nL 329.725 79.010937 \r\nz\r\n\" style=\"fill:#bf00bf;opacity:0.5;stroke:#000000;stroke-linejoin:miter;\"/>\r\n    </g>\r\n    <g id=\"text_23\">\r\n     <!-- K4 -->\r\n     <defs>\r\n      <path d=\"M 37.796875 64.3125 \r\nL 12.890625 25.390625 \r\nL 37.796875 25.390625 \r\nz\r\nM 35.203125 72.90625 \r\nL 47.609375 72.90625 \r\nL 47.609375 25.390625 \r\nL 58.015625 25.390625 \r\nL 58.015625 17.1875 \r\nL 47.609375 17.1875 \r\nL 47.609375 0 \r\nL 37.796875 0 \r\nL 37.796875 17.1875 \r\nL 4.890625 17.1875 \r\nL 4.890625 26.703125 \r\nz\r\n\" id=\"DejaVuSans-34\"/>\r\n     </defs>\r\n     <g transform=\"translate(357.725 86.010937)scale(0.1 -0.1)\">\r\n      <use xlink:href=\"#DejaVuSans-4b\"/>\r\n      <use x=\"65.576172\" xlink:href=\"#DejaVuSans-34\"/>\r\n     </g>\r\n    </g>\r\n    <g id=\"patch_19\">\r\n     <path d=\"M 329.725 100.689062 \r\nL 349.725 100.689062 \r\nL 349.725 93.689062 \r\nL 329.725 93.689062 \r\nz\r\n\" style=\"fill:#bf00bf;opacity:0.6;stroke:#000000;stroke-linejoin:miter;\"/>\r\n    </g>\r\n    <g id=\"text_24\">\r\n     <!-- K5 -->\r\n     <g transform=\"translate(357.725 100.689062)scale(0.1 -0.1)\">\r\n      <use xlink:href=\"#DejaVuSans-4b\"/>\r\n      <use x=\"65.576172\" xlink:href=\"#DejaVuSans-35\"/>\r\n     </g>\r\n    </g>\r\n   </g>\r\n  </g>\r\n </g>\r\n <defs>\r\n  <clipPath id=\"p49dfac96fa\">\r\n   <rect height=\"217.44\" width=\"334.8\" x=\"44.845313\" y=\"10.7\"/>\r\n  </clipPath>\r\n </defs>\r\n</svg>\r\n",
      "image/png": "[encoded data removed]"
     },
     "metadata": {
      "needs_background": "light"
     }
    }
   ],
   "source": [
    "# target set\n",
    "\n",
    "# eps = 0.001\n",
    "# S = pt.box2poly([[-eps, eps], [-eps, eps]])\n",
    "\n",
    "S = X\n",
    "\n",
    "N = 6  # number of steps\n",
    "K = {}\n",
    "PreS = precursor(S, A, U, B)\n",
    "for j in range(N):\n",
    "    K[j]= PreS.intersect(X)\n",
    "    PreS = precursor(K[j], A, U, B)\n",
    "    \n",
    "# Plotting \n",
    "plt.clf()\n",
    "plt.cla()\n",
    "plt.close('all')\n",
    "\n",
    "fig = plt.figure()\n",
    "ax = fig.add_subplot(1, 1, 1)\n",
    "\n",
    "K[0].plot(ax, color='m', alpha=0.1, linestyle='solid', linewidth=1, edgecolor=None)      # K_0 is equivalent to the target set S\n",
    "K[1].plot(ax, color='m', alpha=0.2, linestyle='solid', linewidth=1)                      # K_1 one step controllable set \n",
    "K[2].plot(ax, color='m', alpha=0.3, linestyle='solid', linewidth=1)                      # K_2 two step controllable set \n",
    "K[3].plot(ax, color='m', alpha=0.4, linestyle='solid', linewidth=1)                      # K_3 \n",
    "K[4].plot(ax, color='m', alpha=0.5, linestyle='solid', linewidth=1)                      # K_4 \n",
    "K[5].plot(ax, color='m', alpha=0.6, linestyle='solid', linewidth=1)                      # K_5  \n",
    "ax.legend(['K0', 'K1', 'K2', 'K3', 'K4', 'K5'])\n",
    "\n",
    "ax.autoscale_view()\n",
    "# ax.axis('equal')\n",
    "plt.show()\n"
   ]
  },
  {
   "cell_type": "markdown",
   "metadata": {},
   "source": [
    "***"
   ]
  },
  {
   "cell_type": "markdown",
   "metadata": {},
   "source": [
    "## 1.2 Evolution of $N$-step controllable sets\n",
    "Execute the previous code for two different target sets.\n",
    "First use $\\mathcal{S}$ equal to the origin"
   ]
  },
  {
   "cell_type": "code",
   "execution_count": 7,
   "metadata": {},
   "outputs": [],
   "source": [
    "# Since the Polytope package cannot handle non full-dimensional\n",
    "# polytopes, we need to define an epsilon box around zero in\n",
    "# order to run the code:\n",
    "\n",
    "eps = 0.001\n",
    "S = pt.box2poly([[-eps, eps], [-eps, eps]])"
   ]
  },
  {
   "cell_type": "markdown",
   "metadata": {},
   "source": [
    "Then, consider\n",
    "$\\mathcal{S}$ equal to the state constraints set $\\mathcal{X}$"
   ]
  },
  {
   "cell_type": "code",
   "execution_count": 8,
   "metadata": {},
   "outputs": [],
   "source": [
    "S = X"
   ]
  },
  {
   "cell_type": "markdown",
   "metadata": {},
   "source": [
    "Observe how $\\mathcal{K}_j$ evolve in both cases and try to explain the observed behaviour."
   ]
  },
  {
   "cell_type": "markdown",
   "metadata": {},
   "source": [
    "***"
   ]
  },
  {
   "cell_type": "markdown",
   "metadata": {},
   "source": [
    "## 1.3 $N$-step controllable sets and MPC initial feasible set\n",
    "In the past lectures we studied Constrained Finite Time Optimal Control problem (CFTOC) of the form\n",
    "\\begin{equation}\n",
    " \\begin{aligned}\n",
    "     J^*_0(x(0))= & \\displaystyle{\\min_{{U_0}}} &\n",
    "\\displaystyle{J_0(x(0),{U_0})} \\\\\n",
    "     &\\text{subject to}  &  x_{k+1}=Ax_k+Bu_k,\\ k=0,\\ldots,N-1\\\\\n",
    "     &                &x_k\\in\\mathcal{X},~u_k\\in\\mathcal{U},\\ k=0,\\ldots,N-1\\\\\n",
    "     &                & x_N\\in \\mathcal{X}_f \\\\\n",
    "     &                & x_0=x(0)  &&(7)\\\\\n",
    " \\end{aligned}\n",
    "\\end{equation}\n",
    "\n",
    "and denoted with $\\mathcal{X}_0$ the set of initial states $x(0)$ for which the optimal control problem (7) is feasible:\n",
    "\n",
    "\\begin{equation}\n",
    "\\begin{aligned} \n",
    "\\mathcal{X}_0=&\\{ x_0\\in \\mathbb{R}^n |~\\exists (u_0,\\ldots,u_{N-1})~\\textrm{such that}~\n",
    "x_k\\in\\mathcal{X},~u_k\\in\\mathcal{U},\\\\\n",
    "&~k=0,\\ldots,N-1,~x_N\\in \\mathcal{X}_f,~\\textrm{where}~x_{k+1}=Ax_k+Bu_k\\} \\quad \\quad \\quad(8)\n",
    "\\end{aligned}\n",
    "\\end{equation}\n",
    "\n",
    "The set $\\mathcal{X}_0$ is nothing but the $N$-step controllable set to $\\mathcal{X}_f$ for system\n",
    "$x_{k+1}=Ax_k+Bu_k$ subject to constraints\n",
    "$x_k\\in\\mathcal{X},~u_k\\in\\mathcal{U}$.\n",
    "The definition (8) is the \"BATCH\" version of  the the recursive definition of the $N$-step controllable set $\\mathcal{K}_N(\\mathcal{X}_f)$.\n",
    "\n",
    "You now know two approaches for computing $\\mathcal{X}_0$.\n",
    "\n",
    "1. One approach is to transform the CFTOC problem into the QP\n",
    "\\begin{equation}\n",
    "\\begin{aligned}\n",
    "     J^*_0(x(0)) &=& \\displaystyle{\\min_{U_0}} &  [U_0'~x(0)'] \\begin{bmatrix} H & F'\\\\F &Y \\end{bmatrix} [{U_0}'~x(0)']' \\quad (9)\\\\\n",
    "                 & & \\text{subject to}         ~              & G_0 U_0 \\leq w_0 + E_0x(0) \\quad \\quad \\quad \\quad \\quad (10)\n",
    "\\end{aligned}\n",
    "\\end{equation}\n",
    "\n",
    "\n",
    "and obtain $\\mathcal{X}_0$ as the projection of the polyhedron $[G_0~~E_0]\\begin{bmatrix}U_0 \\\\ x(0)\\end{bmatrix}\\leq w_0$\n",
    "on the $x(0)$ space.\n",
    "\n",
    "2. The other option is to compute the $\\mathcal{X}_0$\n",
    "as the $N$-step controllable set, $\\mathcal{X}_0=\\mathcal{K}_N(\\mathcal{X}_f)$."
   ]
  },
  {
   "cell_type": "markdown",
   "metadata": {},
   "source": [
    "***"
   ]
  },
  {
   "cell_type": "markdown",
   "metadata": {},
   "source": [
    "# <font color=blue> 2 Invariant Sets </font>\n",
    "\n",
    "## 2.1 How to compute positive invariant sets\n",
    "\n",
    "A set $\\mathcal{O}\\subseteq\\mathcal{S}$ is said to be a positive invariant set for the autonomous system $x(t+1)=Ax(t)$ subject to the\n",
    "constraints $x(t) \\in \\mathcal{S}$, if\n",
    "\\begin{align}\n",
    "x(0)\\in\\mathcal{O} \\quad \\Rightarrow \\quad x(t)\\in\n",
    "    \\mathcal{O},\\quad \\forall t\\in\\mathbb{N}^+\n",
    "\\end{align}\n",
    "We introduced a simple algorithm for computing the\n",
    "Maximal Positive Invariant Set $\\mathcal{O}_\\infty$ (the largest positive invariant set in $\\mathcal{S}$):\n",
    "\n",
    "1. LET $\\Omega_{0}=\\mathcal{S}$\n",
    "2. LET $\\Omega_{k+1}= \\textbf{Pre}(A,\\Omega_k)\\cap\\Omega_k$\n",
    "3. IF $\\Omega_{k+1}=\\Omega_k$ THEN $\\mathcal{O}_\\infty\\leftarrow\\Omega_{k+1}$\n",
    "4. ELSE GOTO 2\n",
    "\n",
    "Below you find the implementation. Notice that the $\\textbf{Pre}$ operator refers to the definition for autonomous systems. "
   ]
  },
  {
   "cell_type": "code",
   "execution_count": 9,
   "metadata": {},
   "outputs": [
    {
     "output_type": "display_data",
     "data": {
      "text/plain": "<Figure size 432x288 with 1 Axes>",
      "image/svg+xml": "<?xml version=\"1.0\" encoding=\"utf-8\" standalone=\"no\"?>\r\n<!DOCTYPE svg PUBLIC \"-//W3C//DTD SVG 1.1//EN\"\r\n  \"http://www.w3.org/Graphics/SVG/1.1/DTD/svg11.dtd\">\r\n<!-- Created with matplotlib (http://matplotlib.org/) -->\r\n<svg height=\"252.018125pt\" version=\"1.1\" viewBox=\"0 0 374.442187 252.018125\" width=\"374.442187pt\" xmlns=\"http://www.w3.org/2000/svg\" xmlns:xlink=\"http://www.w3.org/1999/xlink\">\r\n <defs>\r\n  <style type=\"text/css\">\r\n*{stroke-linecap:butt;stroke-linejoin:round;}\r\n  </style>\r\n </defs>\r\n <g id=\"figure_1\">\r\n  <g id=\"patch_1\">\r\n   <path d=\"M 0 252.018125 \r\nL 374.442187 252.018125 \r\nL 374.442187 0 \r\nL 0 0 \r\nz\r\n\" style=\"fill:none;\"/>\r\n  </g>\r\n  <g id=\"axes_1\">\r\n   <g id=\"patch_2\">\r\n    <path d=\"M 28.942188 228.14 \r\nL 363.742188 228.14 \r\nL 363.742188 10.7 \r\nL 28.942188 10.7 \r\nz\r\n\" style=\"fill:#ffffff;\"/>\r\n   </g>\r\n   <g id=\"patch_3\">\r\n    <path clip-path=\"url(#p77e2d11159)\" d=\"M 182.507477 167.231133 \r\nL 44.160369 182.490005 \r\nL 210.176898 71.608867 \r\nL 348.524006 56.349995 \r\nz\r\n\" style=\"fill:#008000;opacity:0.5;stroke:#000000;stroke-linejoin:miter;\"/>\r\n   </g>\r\n   <g id=\"matplotlib.axis_1\">\r\n    <g id=\"xtick_1\">\r\n     <g id=\"line2d_1\">\r\n      <defs>\r\n       <path d=\"M 0 0 \r\nL 0 3.5 \r\n\" id=\"m25d2d99935\" style=\"stroke:#000000;stroke-width:0.8;\"/>\r\n      </defs>\r\n      <g>\r\n       <use style=\"stroke:#000000;stroke-width:0.8;\" x=\"45.267146\" xlink:href=\"#m25d2d99935\" y=\"228.14\"/>\r\n      </g>\r\n     </g>\r\n     <g id=\"text_1\">\r\n      <!-- −6 -->\r\n      <defs>\r\n       <path d=\"M 10.59375 35.5 \r\nL 73.1875 35.5 \r\nL 73.1875 27.203125 \r\nL 10.59375 27.203125 \r\nz\r\n\" id=\"DejaVuSans-2212\"/>\r\n       <path d=\"M 33.015625 40.375 \r\nQ 26.375 40.375 22.484375 35.828125 \r\nQ 18.609375 31.296875 18.609375 23.390625 \r\nQ 18.609375 15.53125 22.484375 10.953125 \r\nQ 26.375 6.390625 33.015625 6.390625 \r\nQ 39.65625 6.390625 43.53125 10.953125 \r\nQ 47.40625 15.53125 47.40625 23.390625 \r\nQ 47.40625 31.296875 43.53125 35.828125 \r\nQ 39.65625 40.375 33.015625 40.375 \r\nz\r\nM 52.59375 71.296875 \r\nL 52.59375 62.3125 \r\nQ 48.875 64.0625 45.09375 64.984375 \r\nQ 41.3125 65.921875 37.59375 65.921875 \r\nQ 27.828125 65.921875 22.671875 59.328125 \r\nQ 17.53125 52.734375 16.796875 39.40625 \r\nQ 19.671875 43.65625 24.015625 45.921875 \r\nQ 28.375 48.1875 33.59375 48.1875 \r\nQ 44.578125 48.1875 50.953125 41.515625 \r\nQ 57.328125 34.859375 57.328125 23.390625 \r\nQ 57.328125 12.15625 50.6875 5.359375 \r\nQ 44.046875 -1.421875 33.015625 -1.421875 \r\nQ 20.359375 -1.421875 13.671875 8.265625 \r\nQ 6.984375 17.96875 6.984375 36.375 \r\nQ 6.984375 53.65625 15.1875 63.9375 \r\nQ 23.390625 74.21875 37.203125 74.21875 \r\nQ 40.921875 74.21875 44.703125 73.484375 \r\nQ 48.484375 72.75 52.59375 71.296875 \r\nz\r\n\" id=\"DejaVuSans-36\"/>\r\n      </defs>\r\n      <g transform=\"translate(37.896052 242.738437)scale(0.1 -0.1)\">\r\n       <use xlink:href=\"#DejaVuSans-2212\"/>\r\n       <use x=\"83.789062\" xlink:href=\"#DejaVuSans-36\"/>\r\n      </g>\r\n     </g>\r\n    </g>\r\n    <g id=\"xtick_2\">\r\n     <g id=\"line2d_2\">\r\n      <g>\r\n       <use style=\"stroke:#000000;stroke-width:0.8;\" x=\"95.625493\" xlink:href=\"#m25d2d99935\" y=\"228.14\"/>\r\n      </g>\r\n     </g>\r\n     <g id=\"text_2\">\r\n      <!-- −4 -->\r\n      <defs>\r\n       <path d=\"M 37.796875 64.3125 \r\nL 12.890625 25.390625 \r\nL 37.796875 25.390625 \r\nz\r\nM 35.203125 72.90625 \r\nL 47.609375 72.90625 \r\nL 47.609375 25.390625 \r\nL 58.015625 25.390625 \r\nL 58.015625 17.1875 \r\nL 47.609375 17.1875 \r\nL 47.609375 0 \r\nL 37.796875 0 \r\nL 37.796875 17.1875 \r\nL 4.890625 17.1875 \r\nL 4.890625 26.703125 \r\nz\r\n\" id=\"DejaVuSans-34\"/>\r\n      </defs>\r\n      <g transform=\"translate(88.2544 242.738437)scale(0.1 -0.1)\">\r\n       <use xlink:href=\"#DejaVuSans-2212\"/>\r\n       <use x=\"83.789062\" xlink:href=\"#DejaVuSans-34\"/>\r\n      </g>\r\n     </g>\r\n    </g>\r\n    <g id=\"xtick_3\">\r\n     <g id=\"line2d_3\">\r\n      <g>\r\n       <use style=\"stroke:#000000;stroke-width:0.8;\" x=\"145.98384\" xlink:href=\"#m25d2d99935\" y=\"228.14\"/>\r\n      </g>\r\n     </g>\r\n     <g id=\"text_3\">\r\n      <!-- −2 -->\r\n      <defs>\r\n       <path d=\"M 19.1875 8.296875 \r\nL 53.609375 8.296875 \r\nL 53.609375 0 \r\nL 7.328125 0 \r\nL 7.328125 8.296875 \r\nQ 12.9375 14.109375 22.625 23.890625 \r\nQ 32.328125 33.6875 34.8125 36.53125 \r\nQ 39.546875 41.84375 41.421875 45.53125 \r\nQ 43.3125 49.21875 43.3125 52.78125 \r\nQ 43.3125 58.59375 39.234375 62.25 \r\nQ 35.15625 65.921875 28.609375 65.921875 \r\nQ 23.96875 65.921875 18.8125 64.3125 \r\nQ 13.671875 62.703125 7.8125 59.421875 \r\nL 7.8125 69.390625 \r\nQ 13.765625 71.78125 18.9375 73 \r\nQ 24.125 74.21875 28.421875 74.21875 \r\nQ 39.75 74.21875 46.484375 68.546875 \r\nQ 53.21875 62.890625 53.21875 53.421875 \r\nQ 53.21875 48.921875 51.53125 44.890625 \r\nQ 49.859375 40.875 45.40625 35.40625 \r\nQ 44.1875 33.984375 37.640625 27.21875 \r\nQ 31.109375 20.453125 19.1875 8.296875 \r\nz\r\n\" id=\"DejaVuSans-32\"/>\r\n      </defs>\r\n      <g transform=\"translate(138.612747 242.738437)scale(0.1 -0.1)\">\r\n       <use xlink:href=\"#DejaVuSans-2212\"/>\r\n       <use x=\"83.789062\" xlink:href=\"#DejaVuSans-32\"/>\r\n      </g>\r\n     </g>\r\n    </g>\r\n    <g id=\"xtick_4\">\r\n     <g id=\"line2d_4\">\r\n      <g>\r\n       <use style=\"stroke:#000000;stroke-width:0.8;\" x=\"196.342188\" xlink:href=\"#m25d2d99935\" y=\"228.14\"/>\r\n      </g>\r\n     </g>\r\n     <g id=\"text_4\">\r\n      <!-- 0 -->\r\n      <defs>\r\n       <path d=\"M 31.78125 66.40625 \r\nQ 24.171875 66.40625 20.328125 58.90625 \r\nQ 16.5 51.421875 16.5 36.375 \r\nQ 16.5 21.390625 20.328125 13.890625 \r\nQ 24.171875 6.390625 31.78125 6.390625 \r\nQ 39.453125 6.390625 43.28125 13.890625 \r\nQ 47.125 21.390625 47.125 36.375 \r\nQ 47.125 51.421875 43.28125 58.90625 \r\nQ 39.453125 66.40625 31.78125 66.40625 \r\nz\r\nM 31.78125 74.21875 \r\nQ 44.046875 74.21875 50.515625 64.515625 \r\nQ 56.984375 54.828125 56.984375 36.375 \r\nQ 56.984375 17.96875 50.515625 8.265625 \r\nQ 44.046875 -1.421875 31.78125 -1.421875 \r\nQ 19.53125 -1.421875 13.0625 8.265625 \r\nQ 6.59375 17.96875 6.59375 36.375 \r\nQ 6.59375 54.828125 13.0625 64.515625 \r\nQ 19.53125 74.21875 31.78125 74.21875 \r\nz\r\n\" id=\"DejaVuSans-30\"/>\r\n      </defs>\r\n      <g transform=\"translate(193.160938 242.738437)scale(0.1 -0.1)\">\r\n       <use xlink:href=\"#DejaVuSans-30\"/>\r\n      </g>\r\n     </g>\r\n    </g>\r\n    <g id=\"xtick_5\">\r\n     <g id=\"line2d_5\">\r\n      <g>\r\n       <use style=\"stroke:#000000;stroke-width:0.8;\" x=\"246.700535\" xlink:href=\"#m25d2d99935\" y=\"228.14\"/>\r\n      </g>\r\n     </g>\r\n     <g id=\"text_5\">\r\n      <!-- 2 -->\r\n      <g transform=\"translate(243.519285 242.738437)scale(0.1 -0.1)\">\r\n       <use xlink:href=\"#DejaVuSans-32\"/>\r\n      </g>\r\n     </g>\r\n    </g>\r\n    <g id=\"xtick_6\">\r\n     <g id=\"line2d_6\">\r\n      <g>\r\n       <use style=\"stroke:#000000;stroke-width:0.8;\" x=\"297.058882\" xlink:href=\"#m25d2d99935\" y=\"228.14\"/>\r\n      </g>\r\n     </g>\r\n     <g id=\"text_6\">\r\n      <!-- 4 -->\r\n      <g transform=\"translate(293.877632 242.738437)scale(0.1 -0.1)\">\r\n       <use xlink:href=\"#DejaVuSans-34\"/>\r\n      </g>\r\n     </g>\r\n    </g>\r\n    <g id=\"xtick_7\">\r\n     <g id=\"line2d_7\">\r\n      <g>\r\n       <use style=\"stroke:#000000;stroke-width:0.8;\" x=\"347.417229\" xlink:href=\"#m25d2d99935\" y=\"228.14\"/>\r\n      </g>\r\n     </g>\r\n     <g id=\"text_7\">\r\n      <!-- 6 -->\r\n      <g transform=\"translate(344.235979 242.738437)scale(0.1 -0.1)\">\r\n       <use xlink:href=\"#DejaVuSans-36\"/>\r\n      </g>\r\n     </g>\r\n    </g>\r\n   </g>\r\n   <g id=\"matplotlib.axis_2\">\r\n    <g id=\"ytick_1\">\r\n     <g id=\"line2d_8\">\r\n      <defs>\r\n       <path d=\"M 0 0 \r\nL -3.5 0 \r\n\" id=\"m04c4709da6\" style=\"stroke:#000000;stroke-width:0.8;\"/>\r\n      </defs>\r\n      <g>\r\n       <use style=\"stroke:#000000;stroke-width:0.8;\" x=\"28.942188\" xlink:href=\"#m04c4709da6\" y=\"220.136694\"/>\r\n      </g>\r\n     </g>\r\n     <g id=\"text_8\">\r\n      <!-- −4 -->\r\n      <g transform=\"translate(7.2 223.935913)scale(0.1 -0.1)\">\r\n       <use xlink:href=\"#DejaVuSans-2212\"/>\r\n       <use x=\"83.789062\" xlink:href=\"#DejaVuSans-34\"/>\r\n      </g>\r\n     </g>\r\n    </g>\r\n    <g id=\"ytick_2\">\r\n     <g id=\"line2d_9\">\r\n      <g>\r\n       <use style=\"stroke:#000000;stroke-width:0.8;\" x=\"28.942188\" xlink:href=\"#m04c4709da6\" y=\"194.957521\"/>\r\n      </g>\r\n     </g>\r\n     <g id=\"text_9\">\r\n      <!-- −3 -->\r\n      <defs>\r\n       <path d=\"M 40.578125 39.3125 \r\nQ 47.65625 37.796875 51.625 33 \r\nQ 55.609375 28.21875 55.609375 21.1875 \r\nQ 55.609375 10.40625 48.1875 4.484375 \r\nQ 40.765625 -1.421875 27.09375 -1.421875 \r\nQ 22.515625 -1.421875 17.65625 -0.515625 \r\nQ 12.796875 0.390625 7.625 2.203125 \r\nL 7.625 11.71875 \r\nQ 11.71875 9.328125 16.59375 8.109375 \r\nQ 21.484375 6.890625 26.8125 6.890625 \r\nQ 36.078125 6.890625 40.9375 10.546875 \r\nQ 45.796875 14.203125 45.796875 21.1875 \r\nQ 45.796875 27.640625 41.28125 31.265625 \r\nQ 36.765625 34.90625 28.71875 34.90625 \r\nL 20.21875 34.90625 \r\nL 20.21875 43.015625 \r\nL 29.109375 43.015625 \r\nQ 36.375 43.015625 40.234375 45.921875 \r\nQ 44.09375 48.828125 44.09375 54.296875 \r\nQ 44.09375 59.90625 40.109375 62.90625 \r\nQ 36.140625 65.921875 28.71875 65.921875 \r\nQ 24.65625 65.921875 20.015625 65.03125 \r\nQ 15.375 64.15625 9.8125 62.3125 \r\nL 9.8125 71.09375 \r\nQ 15.4375 72.65625 20.34375 73.4375 \r\nQ 25.25 74.21875 29.59375 74.21875 \r\nQ 40.828125 74.21875 47.359375 69.109375 \r\nQ 53.90625 64.015625 53.90625 55.328125 \r\nQ 53.90625 49.265625 50.4375 45.09375 \r\nQ 46.96875 40.921875 40.578125 39.3125 \r\nz\r\n\" id=\"DejaVuSans-33\"/>\r\n      </defs>\r\n      <g transform=\"translate(7.2 198.756739)scale(0.1 -0.1)\">\r\n       <use xlink:href=\"#DejaVuSans-2212\"/>\r\n       <use x=\"83.789062\" xlink:href=\"#DejaVuSans-33\"/>\r\n      </g>\r\n     </g>\r\n    </g>\r\n    <g id=\"ytick_3\">\r\n     <g id=\"line2d_10\">\r\n      <g>\r\n       <use style=\"stroke:#000000;stroke-width:0.8;\" x=\"28.942188\" xlink:href=\"#m04c4709da6\" y=\"169.778347\"/>\r\n      </g>\r\n     </g>\r\n     <g id=\"text_10\">\r\n      <!-- −2 -->\r\n      <g transform=\"translate(7.2 173.577566)scale(0.1 -0.1)\">\r\n       <use xlink:href=\"#DejaVuSans-2212\"/>\r\n       <use x=\"83.789062\" xlink:href=\"#DejaVuSans-32\"/>\r\n      </g>\r\n     </g>\r\n    </g>\r\n    <g id=\"ytick_4\">\r\n     <g id=\"line2d_11\">\r\n      <g>\r\n       <use style=\"stroke:#000000;stroke-width:0.8;\" x=\"28.942188\" xlink:href=\"#m04c4709da6\" y=\"144.599174\"/>\r\n      </g>\r\n     </g>\r\n     <g id=\"text_11\">\r\n      <!-- −1 -->\r\n      <defs>\r\n       <path d=\"M 12.40625 8.296875 \r\nL 28.515625 8.296875 \r\nL 28.515625 63.921875 \r\nL 10.984375 60.40625 \r\nL 10.984375 69.390625 \r\nL 28.421875 72.90625 \r\nL 38.28125 72.90625 \r\nL 38.28125 8.296875 \r\nL 54.390625 8.296875 \r\nL 54.390625 0 \r\nL 12.40625 0 \r\nz\r\n\" id=\"DejaVuSans-31\"/>\r\n      </defs>\r\n      <g transform=\"translate(7.2 148.398392)scale(0.1 -0.1)\">\r\n       <use xlink:href=\"#DejaVuSans-2212\"/>\r\n       <use x=\"83.789062\" xlink:href=\"#DejaVuSans-31\"/>\r\n      </g>\r\n     </g>\r\n    </g>\r\n    <g id=\"ytick_5\">\r\n     <g id=\"line2d_12\">\r\n      <g>\r\n       <use style=\"stroke:#000000;stroke-width:0.8;\" x=\"28.942188\" xlink:href=\"#m04c4709da6\" y=\"119.42\"/>\r\n      </g>\r\n     </g>\r\n     <g id=\"text_12\">\r\n      <!-- 0 -->\r\n      <g transform=\"translate(15.579688 123.219219)scale(0.1 -0.1)\">\r\n       <use xlink:href=\"#DejaVuSans-30\"/>\r\n      </g>\r\n     </g>\r\n    </g>\r\n    <g id=\"ytick_6\">\r\n     <g id=\"line2d_13\">\r\n      <g>\r\n       <use style=\"stroke:#000000;stroke-width:0.8;\" x=\"28.942188\" xlink:href=\"#m04c4709da6\" y=\"94.240826\"/>\r\n      </g>\r\n     </g>\r\n     <g id=\"text_13\">\r\n      <!-- 1 -->\r\n      <g transform=\"translate(15.579688 98.040045)scale(0.1 -0.1)\">\r\n       <use xlink:href=\"#DejaVuSans-31\"/>\r\n      </g>\r\n     </g>\r\n    </g>\r\n    <g id=\"ytick_7\">\r\n     <g id=\"line2d_14\">\r\n      <g>\r\n       <use style=\"stroke:#000000;stroke-width:0.8;\" x=\"28.942188\" xlink:href=\"#m04c4709da6\" y=\"69.061653\"/>\r\n      </g>\r\n     </g>\r\n     <g id=\"text_14\">\r\n      <!-- 2 -->\r\n      <g transform=\"translate(15.579688 72.860872)scale(0.1 -0.1)\">\r\n       <use xlink:href=\"#DejaVuSans-32\"/>\r\n      </g>\r\n     </g>\r\n    </g>\r\n    <g id=\"ytick_8\">\r\n     <g id=\"line2d_15\">\r\n      <g>\r\n       <use style=\"stroke:#000000;stroke-width:0.8;\" x=\"28.942188\" xlink:href=\"#m04c4709da6\" y=\"43.882479\"/>\r\n      </g>\r\n     </g>\r\n     <g id=\"text_15\">\r\n      <!-- 3 -->\r\n      <g transform=\"translate(15.579688 47.681698)scale(0.1 -0.1)\">\r\n       <use xlink:href=\"#DejaVuSans-33\"/>\r\n      </g>\r\n     </g>\r\n    </g>\r\n    <g id=\"ytick_9\">\r\n     <g id=\"line2d_16\">\r\n      <g>\r\n       <use style=\"stroke:#000000;stroke-width:0.8;\" x=\"28.942188\" xlink:href=\"#m04c4709da6\" y=\"18.703306\"/>\r\n      </g>\r\n     </g>\r\n     <g id=\"text_16\">\r\n      <!-- 4 -->\r\n      <g transform=\"translate(15.579688 22.502525)scale(0.1 -0.1)\">\r\n       <use xlink:href=\"#DejaVuSans-34\"/>\r\n      </g>\r\n     </g>\r\n    </g>\r\n   </g>\r\n   <g id=\"patch_4\">\r\n    <path d=\"M 28.942188 228.14 \r\nL 28.942188 10.7 \r\n\" style=\"fill:none;stroke:#000000;stroke-linecap:square;stroke-linejoin:miter;stroke-width:0.8;\"/>\r\n   </g>\r\n   <g id=\"patch_5\">\r\n    <path d=\"M 363.742188 228.14 \r\nL 363.742188 10.7 \r\n\" style=\"fill:none;stroke:#000000;stroke-linecap:square;stroke-linejoin:miter;stroke-width:0.8;\"/>\r\n   </g>\r\n   <g id=\"patch_6\">\r\n    <path d=\"M 28.942188 228.14 \r\nL 363.742188 228.14 \r\n\" style=\"fill:none;stroke:#000000;stroke-linecap:square;stroke-linejoin:miter;stroke-width:0.8;\"/>\r\n   </g>\r\n   <g id=\"patch_7\">\r\n    <path d=\"M 28.942188 10.7 \r\nL 363.742188 10.7 \r\n\" style=\"fill:none;stroke:#000000;stroke-linecap:square;stroke-linejoin:miter;stroke-width:0.8;\"/>\r\n   </g>\r\n  </g>\r\n </g>\r\n <defs>\r\n  <clipPath id=\"p77e2d11159\">\r\n   <rect height=\"217.44\" width=\"334.8\" x=\"28.942188\" y=\"10.7\"/>\r\n  </clipPath>\r\n </defs>\r\n</svg>\r\n",
      "image/png": "[encoded data removed]"
     },
     "metadata": {
      "needs_background": "light"
     }
    }
   ],
   "source": [
    "def max_pos_inv(A, S):\n",
    "    maxIterations = 500\n",
    "    # initialization\n",
    "    Omega_i = S \n",
    "    for i in range(maxIterations):\n",
    "        # compute backward reachable set\n",
    "        P = precursor(Omega_i, A)\n",
    "        # intersect with the state constraints\n",
    "        P = pt.reduce(P).intersect(Omega_i)\n",
    "        if P == Omega_i:\n",
    "            Oinf = Omega_i\n",
    "            break\n",
    "        else:\n",
    "            Omega_i = P\n",
    "    if i == maxIterations:\n",
    "        converged = 0\n",
    "    else:\n",
    "        converged = 1\n",
    "    return Oinf, converged\n",
    " \n",
    "# Maximal Invariant Set Computation\n",
    "# first design a stabilizing control law:\n",
    "Poles = np.array([0.1, 0.2])\n",
    "# Poles = np.array([0.7, 0.8])\n",
    "full_state_feedback = scipy.signal.place_poles(A, B, Poles)\n",
    "K = full_state_feedback.gain_matrix\n",
    "# closed loop system\n",
    "Acl = A - B@K\n",
    "# remember to convert input constraints in state constraints\n",
    "S = X.intersect(pt.Polytope(U.A@ -K, U.b))\n",
    "Oinf, converged = max_pos_inv(Acl,S)\n",
    "\n",
    "fig, ax = plt.subplots()\n",
    "Oinf.plot(ax, color='g', alpha=0.5, linestyle='solid', linewidth=1, edgecolor=None)\n",
    "ax.autoscale_view()\n",
    "ax.axis('equal')\n",
    "plt.show()\n"
   ]
  },
  {
   "cell_type": "markdown",
   "metadata": {},
   "source": [
    "Notice that the above code computes\n",
    "the set $\\mathcal{O}_\\infty$ for system (1)\n",
    "when it is controlled by $u=-Kx$, subject to the constraints (2).\n",
    "\n",
    "Clearly the maximal positive invariant set $\\mathcal{O}_\\infty$ will be function of the feedback control law $K$.\n",
    "As commented in the code, DO NOT forget\n",
    "to convert input constraints in state constraints.\n",
    "\n",
    "\n",
    "Try to change the control law $K$ in the algorithm above and interpret the results.\n",
    "Try the controllers $\\texttt{K=scipy.signal.place_poles(A,B,[0.7 0.8])}$ and $\\texttt{K=scipy.signal.place_poles(A,B,[0.1 0.2])}$."
   ]
  },
  {
   "cell_type": "markdown",
   "metadata": {},
   "source": [
    "***"
   ]
  },
  {
   "cell_type": "markdown",
   "metadata": {},
   "source": [
    "## 2.2 How to compute control invariant sets\n",
    "A set $\\mathcal{C}\\subseteq \\mathcal{X}$ is said to be a control invariant set if\n",
    "\\begin{align}\n",
    "x(t)\\in\\mathcal{C} \\quad \\Rightarrow \\quad\n",
    "\\exists u(t)\\in\\mathcal{U}~\\textrm{such that}~  f(x(t),u(t))\\in\n",
    "    \\mathcal{C},\\quad \\forall t\\in\\mathbb{N}^+\n",
    "\\end{align}"
   ]
  },
  {
   "cell_type": "markdown",
   "metadata": {},
   "source": [
    "In class we introduced a simple algorithm for computing the\n",
    "Maximal Control Invariant Set $\\mathcal{C}_\\infty$ (the largest control invariant):\n",
    "\n",
    "1. LET $\\Omega_{0}=\\mathcal{X}$\n",
    "2. LET $\\Omega_{k+1}= \\textbf{Pre}(A,B,\\Omega_k)\\cap\\Omega_k$\n",
    "3. IF $\\Omega_{k+1}=\\Omega_k$ THEN $\\mathcal{C}_\\infty\\leftarrow\\Omega_{k+1}$\n",
    "4. ELSE GOTO 2\n",
    "\n",
    "\n",
    "Below you find the implementation."
   ]
  },
  {
   "cell_type": "code",
   "execution_count": 10,
   "metadata": {},
   "outputs": [],
   "source": [
    "def max_cntr_inv(A,B,X,U):\n",
    "    maxIterations = 500\n",
    "    # initialization\n",
    "    Omega0 = X \n",
    "    for i in range(maxIterations):\n",
    "        # compute backward reachable set\n",
    "        P = precursor(Omega0, A, U, B)\n",
    "        # intersect with the state constraints\n",
    "        P = pt.reduce(P).intersect(Omega0)\n",
    "        if P == Omega0:\n",
    "            Cinf = Omega0\n",
    "            break\n",
    "        else:\n",
    "            Omega0 = P\n",
    "    if i == maxIterations:\n",
    "        converged = 0\n",
    "    else:\n",
    "        converged = 1\n",
    "    return Cinf, converged\n",
    "\n",
    "# Maximal Control Invariant Set Computation\n",
    "Cinf, converged = max_cntr_inv(A, B, X, U)"
   ]
  },
  {
   "cell_type": "markdown",
   "metadata": {},
   "source": [
    "The maximal control invariant set $\\mathcal{C}_\\infty$ does not depend on a specific feedback control law.\n",
    "Try to compare $\\mathcal{C}_\\infty$ with the $\\mathcal{O}_\\infty$ sets compute before. Interpret the results."
   ]
  },
  {
   "cell_type": "code",
   "execution_count": 11,
   "metadata": {},
   "outputs": [
    {
     "output_type": "display_data",
     "data": {
      "text/plain": "<Figure size 432x288 with 1 Axes>",
      "image/svg+xml": "<?xml version=\"1.0\" encoding=\"utf-8\" standalone=\"no\"?>\r\n<!DOCTYPE svg PUBLIC \"-//W3C//DTD SVG 1.1//EN\"\r\n  \"http://www.w3.org/Graphics/SVG/1.1/DTD/svg11.dtd\">\r\n<!-- Created with matplotlib (http://matplotlib.org/) -->\r\n<svg height=\"252.018125pt\" version=\"1.1\" viewBox=\"0 0 374.442187 252.018125\" width=\"374.442187pt\" xmlns=\"http://www.w3.org/2000/svg\" xmlns:xlink=\"http://www.w3.org/1999/xlink\">\r\n <defs>\r\n  <style type=\"text/css\">\r\n*{stroke-linecap:butt;stroke-linejoin:round;}\r\n  </style>\r\n </defs>\r\n <g id=\"figure_1\">\r\n  <g id=\"patch_1\">\r\n   <path d=\"M 0 252.018125 \r\nL 374.442187 252.018125 \r\nL 374.442187 0 \r\nL 0 0 \r\nz\r\n\" style=\"fill:none;\"/>\r\n  </g>\r\n  <g id=\"axes_1\">\r\n   <g id=\"patch_2\">\r\n    <path d=\"M 28.942188 228.14 \r\nL 363.742188 228.14 \r\nL 363.742188 10.7 \r\nL 28.942188 10.7 \r\nz\r\n\" style=\"fill:#ffffff;\"/>\r\n   </g>\r\n   <g id=\"patch_3\">\r\n    <path clip-path=\"url(#pe0f6a772e7)\" d=\"M 187.980549 148.316838 \r\nL 104.364166 157.539234 \r\nL 204.703826 90.523162 \r\nL 288.320209 81.300766 \r\nz\r\n\" style=\"fill:#bf00bf;opacity:0.5;stroke:#000000;stroke-linejoin:miter;\"/>\r\n   </g>\r\n   <g id=\"patch_4\">\r\n    <path clip-path=\"url(#pe0f6a772e7)\" d=\"M 166.010083 180.43174 \r\nL 44.160369 180.43174 \r\nL 44.160369 180.084209 \r\nL 226.674292 58.40826 \r\nL 348.524006 58.40826 \r\nL 348.524006 58.755791 \r\nz\r\n\" style=\"fill:#008000;opacity:0.2;stroke:#000000;stroke-linejoin:miter;\"/>\r\n   </g>\r\n   <g id=\"matplotlib.axis_1\">\r\n    <g id=\"xtick_1\">\r\n     <g id=\"line2d_1\">\r\n      <defs>\r\n       <path d=\"M 0 0 \r\nL 0 3.5 \r\n\" id=\"mb8ef1e329c\" style=\"stroke:#000000;stroke-width:0.8;\"/>\r\n      </defs>\r\n      <g>\r\n       <use style=\"stroke:#000000;stroke-width:0.8;\" x=\"44.160369\" xlink:href=\"#mb8ef1e329c\" y=\"228.14\"/>\r\n      </g>\r\n     </g>\r\n     <g id=\"text_1\">\r\n      <!-- −10.0 -->\r\n      <defs>\r\n       <path d=\"M 10.59375 35.5 \r\nL 73.1875 35.5 \r\nL 73.1875 27.203125 \r\nL 10.59375 27.203125 \r\nz\r\n\" id=\"DejaVuSans-2212\"/>\r\n       <path d=\"M 12.40625 8.296875 \r\nL 28.515625 8.296875 \r\nL 28.515625 63.921875 \r\nL 10.984375 60.40625 \r\nL 10.984375 69.390625 \r\nL 28.421875 72.90625 \r\nL 38.28125 72.90625 \r\nL 38.28125 8.296875 \r\nL 54.390625 8.296875 \r\nL 54.390625 0 \r\nL 12.40625 0 \r\nz\r\n\" id=\"DejaVuSans-31\"/>\r\n       <path d=\"M 31.78125 66.40625 \r\nQ 24.171875 66.40625 20.328125 58.90625 \r\nQ 16.5 51.421875 16.5 36.375 \r\nQ 16.5 21.390625 20.328125 13.890625 \r\nQ 24.171875 6.390625 31.78125 6.390625 \r\nQ 39.453125 6.390625 43.28125 13.890625 \r\nQ 47.125 21.390625 47.125 36.375 \r\nQ 47.125 51.421875 43.28125 58.90625 \r\nQ 39.453125 66.40625 31.78125 66.40625 \r\nz\r\nM 31.78125 74.21875 \r\nQ 44.046875 74.21875 50.515625 64.515625 \r\nQ 56.984375 54.828125 56.984375 36.375 \r\nQ 56.984375 17.96875 50.515625 8.265625 \r\nQ 44.046875 -1.421875 31.78125 -1.421875 \r\nQ 19.53125 -1.421875 13.0625 8.265625 \r\nQ 6.59375 17.96875 6.59375 36.375 \r\nQ 6.59375 54.828125 13.0625 64.515625 \r\nQ 19.53125 74.21875 31.78125 74.21875 \r\nz\r\n\" id=\"DejaVuSans-30\"/>\r\n       <path d=\"M 10.6875 12.40625 \r\nL 21 12.40625 \r\nL 21 0 \r\nL 10.6875 0 \r\nz\r\n\" id=\"DejaVuSans-2e\"/>\r\n      </defs>\r\n      <g transform=\"translate(28.837713 242.738437)scale(0.1 -0.1)\">\r\n       <use xlink:href=\"#DejaVuSans-2212\"/>\r\n       <use x=\"83.789062\" xlink:href=\"#DejaVuSans-31\"/>\r\n       <use x=\"147.412109\" xlink:href=\"#DejaVuSans-30\"/>\r\n       <use x=\"211.035156\" xlink:href=\"#DejaVuSans-2e\"/>\r\n       <use x=\"242.822266\" xlink:href=\"#DejaVuSans-30\"/>\r\n      </g>\r\n     </g>\r\n    </g>\r\n    <g id=\"xtick_2\">\r\n     <g id=\"line2d_2\">\r\n      <g>\r\n       <use style=\"stroke:#000000;stroke-width:0.8;\" x=\"82.205824\" xlink:href=\"#mb8ef1e329c\" y=\"228.14\"/>\r\n      </g>\r\n     </g>\r\n     <g id=\"text_2\">\r\n      <!-- −7.5 -->\r\n      <defs>\r\n       <path d=\"M 8.203125 72.90625 \r\nL 55.078125 72.90625 \r\nL 55.078125 68.703125 \r\nL 28.609375 0 \r\nL 18.3125 0 \r\nL 43.21875 64.59375 \r\nL 8.203125 64.59375 \r\nz\r\n\" id=\"DejaVuSans-37\"/>\r\n       <path d=\"M 10.796875 72.90625 \r\nL 49.515625 72.90625 \r\nL 49.515625 64.59375 \r\nL 19.828125 64.59375 \r\nL 19.828125 46.734375 \r\nQ 21.96875 47.46875 24.109375 47.828125 \r\nQ 26.265625 48.1875 28.421875 48.1875 \r\nQ 40.625 48.1875 47.75 41.5 \r\nQ 54.890625 34.8125 54.890625 23.390625 \r\nQ 54.890625 11.625 47.5625 5.09375 \r\nQ 40.234375 -1.421875 26.90625 -1.421875 \r\nQ 22.3125 -1.421875 17.546875 -0.640625 \r\nQ 12.796875 0.140625 7.71875 1.703125 \r\nL 7.71875 11.625 \r\nQ 12.109375 9.234375 16.796875 8.0625 \r\nQ 21.484375 6.890625 26.703125 6.890625 \r\nQ 35.15625 6.890625 40.078125 11.328125 \r\nQ 45.015625 15.765625 45.015625 23.390625 \r\nQ 45.015625 31 40.078125 35.4375 \r\nQ 35.15625 39.890625 26.703125 39.890625 \r\nQ 22.75 39.890625 18.8125 39.015625 \r\nQ 14.890625 38.140625 10.796875 36.28125 \r\nz\r\n\" id=\"DejaVuSans-35\"/>\r\n      </defs>\r\n      <g transform=\"translate(70.064418 242.738437)scale(0.1 -0.1)\">\r\n       <use xlink:href=\"#DejaVuSans-2212\"/>\r\n       <use x=\"83.789062\" xlink:href=\"#DejaVuSans-37\"/>\r\n       <use x=\"147.412109\" xlink:href=\"#DejaVuSans-2e\"/>\r\n       <use x=\"179.199219\" xlink:href=\"#DejaVuSans-35\"/>\r\n      </g>\r\n     </g>\r\n    </g>\r\n    <g id=\"xtick_3\">\r\n     <g id=\"line2d_3\">\r\n      <g>\r\n       <use style=\"stroke:#000000;stroke-width:0.8;\" x=\"120.251278\" xlink:href=\"#mb8ef1e329c\" y=\"228.14\"/>\r\n      </g>\r\n     </g>\r\n     <g id=\"text_3\">\r\n      <!-- −5.0 -->\r\n      <g transform=\"translate(108.109872 242.738437)scale(0.1 -0.1)\">\r\n       <use xlink:href=\"#DejaVuSans-2212\"/>\r\n       <use x=\"83.789062\" xlink:href=\"#DejaVuSans-35\"/>\r\n       <use x=\"147.412109\" xlink:href=\"#DejaVuSans-2e\"/>\r\n       <use x=\"179.199219\" xlink:href=\"#DejaVuSans-30\"/>\r\n      </g>\r\n     </g>\r\n    </g>\r\n    <g id=\"xtick_4\">\r\n     <g id=\"line2d_4\">\r\n      <g>\r\n       <use style=\"stroke:#000000;stroke-width:0.8;\" x=\"158.296733\" xlink:href=\"#mb8ef1e329c\" y=\"228.14\"/>\r\n      </g>\r\n     </g>\r\n     <g id=\"text_4\">\r\n      <!-- −2.5 -->\r\n      <defs>\r\n       <path d=\"M 19.1875 8.296875 \r\nL 53.609375 8.296875 \r\nL 53.609375 0 \r\nL 7.328125 0 \r\nL 7.328125 8.296875 \r\nQ 12.9375 14.109375 22.625 23.890625 \r\nQ 32.328125 33.6875 34.8125 36.53125 \r\nQ 39.546875 41.84375 41.421875 45.53125 \r\nQ 43.3125 49.21875 43.3125 52.78125 \r\nQ 43.3125 58.59375 39.234375 62.25 \r\nQ 35.15625 65.921875 28.609375 65.921875 \r\nQ 23.96875 65.921875 18.8125 64.3125 \r\nQ 13.671875 62.703125 7.8125 59.421875 \r\nL 7.8125 69.390625 \r\nQ 13.765625 71.78125 18.9375 73 \r\nQ 24.125 74.21875 28.421875 74.21875 \r\nQ 39.75 74.21875 46.484375 68.546875 \r\nQ 53.21875 62.890625 53.21875 53.421875 \r\nQ 53.21875 48.921875 51.53125 44.890625 \r\nQ 49.859375 40.875 45.40625 35.40625 \r\nQ 44.1875 33.984375 37.640625 27.21875 \r\nQ 31.109375 20.453125 19.1875 8.296875 \r\nz\r\n\" id=\"DejaVuSans-32\"/>\r\n      </defs>\r\n      <g transform=\"translate(146.155327 242.738437)scale(0.1 -0.1)\">\r\n       <use xlink:href=\"#DejaVuSans-2212\"/>\r\n       <use x=\"83.789062\" xlink:href=\"#DejaVuSans-32\"/>\r\n       <use x=\"147.412109\" xlink:href=\"#DejaVuSans-2e\"/>\r\n       <use x=\"179.199219\" xlink:href=\"#DejaVuSans-35\"/>\r\n      </g>\r\n     </g>\r\n    </g>\r\n    <g id=\"xtick_5\">\r\n     <g id=\"line2d_5\">\r\n      <g>\r\n       <use style=\"stroke:#000000;stroke-width:0.8;\" x=\"196.342188\" xlink:href=\"#mb8ef1e329c\" y=\"228.14\"/>\r\n      </g>\r\n     </g>\r\n     <g id=\"text_5\">\r\n      <!-- 0.0 -->\r\n      <g transform=\"translate(188.390625 242.738437)scale(0.1 -0.1)\">\r\n       <use xlink:href=\"#DejaVuSans-30\"/>\r\n       <use x=\"63.623047\" xlink:href=\"#DejaVuSans-2e\"/>\r\n       <use x=\"95.410156\" xlink:href=\"#DejaVuSans-30\"/>\r\n      </g>\r\n     </g>\r\n    </g>\r\n    <g id=\"xtick_6\">\r\n     <g id=\"line2d_6\">\r\n      <g>\r\n       <use style=\"stroke:#000000;stroke-width:0.8;\" x=\"234.387642\" xlink:href=\"#mb8ef1e329c\" y=\"228.14\"/>\r\n      </g>\r\n     </g>\r\n     <g id=\"text_6\">\r\n      <!-- 2.5 -->\r\n      <g transform=\"translate(226.43608 242.738437)scale(0.1 -0.1)\">\r\n       <use xlink:href=\"#DejaVuSans-32\"/>\r\n       <use x=\"63.623047\" xlink:href=\"#DejaVuSans-2e\"/>\r\n       <use x=\"95.410156\" xlink:href=\"#DejaVuSans-35\"/>\r\n      </g>\r\n     </g>\r\n    </g>\r\n    <g id=\"xtick_7\">\r\n     <g id=\"line2d_7\">\r\n      <g>\r\n       <use style=\"stroke:#000000;stroke-width:0.8;\" x=\"272.433097\" xlink:href=\"#mb8ef1e329c\" y=\"228.14\"/>\r\n      </g>\r\n     </g>\r\n     <g id=\"text_7\">\r\n      <!-- 5.0 -->\r\n      <g transform=\"translate(264.481534 242.738437)scale(0.1 -0.1)\">\r\n       <use xlink:href=\"#DejaVuSans-35\"/>\r\n       <use x=\"63.623047\" xlink:href=\"#DejaVuSans-2e\"/>\r\n       <use x=\"95.410156\" xlink:href=\"#DejaVuSans-30\"/>\r\n      </g>\r\n     </g>\r\n    </g>\r\n    <g id=\"xtick_8\">\r\n     <g id=\"line2d_8\">\r\n      <g>\r\n       <use style=\"stroke:#000000;stroke-width:0.8;\" x=\"310.478551\" xlink:href=\"#mb8ef1e329c\" y=\"228.14\"/>\r\n      </g>\r\n     </g>\r\n     <g id=\"text_8\">\r\n      <!-- 7.5 -->\r\n      <g transform=\"translate(302.526989 242.738437)scale(0.1 -0.1)\">\r\n       <use xlink:href=\"#DejaVuSans-37\"/>\r\n       <use x=\"63.623047\" xlink:href=\"#DejaVuSans-2e\"/>\r\n       <use x=\"95.410156\" xlink:href=\"#DejaVuSans-35\"/>\r\n      </g>\r\n     </g>\r\n    </g>\r\n    <g id=\"xtick_9\">\r\n     <g id=\"line2d_9\">\r\n      <g>\r\n       <use style=\"stroke:#000000;stroke-width:0.8;\" x=\"348.524006\" xlink:href=\"#mb8ef1e329c\" y=\"228.14\"/>\r\n      </g>\r\n     </g>\r\n     <g id=\"text_9\">\r\n      <!-- 10.0 -->\r\n      <g transform=\"translate(337.391193 242.738437)scale(0.1 -0.1)\">\r\n       <use xlink:href=\"#DejaVuSans-31\"/>\r\n       <use x=\"63.623047\" xlink:href=\"#DejaVuSans-30\"/>\r\n       <use x=\"127.246094\" xlink:href=\"#DejaVuSans-2e\"/>\r\n       <use x=\"159.033203\" xlink:href=\"#DejaVuSans-30\"/>\r\n      </g>\r\n     </g>\r\n    </g>\r\n   </g>\r\n   <g id=\"matplotlib.axis_2\">\r\n    <g id=\"ytick_1\">\r\n     <g id=\"line2d_10\">\r\n      <defs>\r\n       <path d=\"M 0 0 \r\nL -3.5 0 \r\n\" id=\"mac16c001bf\" style=\"stroke:#000000;stroke-width:0.8;\"/>\r\n      </defs>\r\n      <g>\r\n       <use style=\"stroke:#000000;stroke-width:0.8;\" x=\"28.942188\" xlink:href=\"#mac16c001bf\" y=\"210.729091\"/>\r\n      </g>\r\n     </g>\r\n     <g id=\"text_10\">\r\n      <!-- −6 -->\r\n      <defs>\r\n       <path d=\"M 33.015625 40.375 \r\nQ 26.375 40.375 22.484375 35.828125 \r\nQ 18.609375 31.296875 18.609375 23.390625 \r\nQ 18.609375 15.53125 22.484375 10.953125 \r\nQ 26.375 6.390625 33.015625 6.390625 \r\nQ 39.65625 6.390625 43.53125 10.953125 \r\nQ 47.40625 15.53125 47.40625 23.390625 \r\nQ 47.40625 31.296875 43.53125 35.828125 \r\nQ 39.65625 40.375 33.015625 40.375 \r\nz\r\nM 52.59375 71.296875 \r\nL 52.59375 62.3125 \r\nQ 48.875 64.0625 45.09375 64.984375 \r\nQ 41.3125 65.921875 37.59375 65.921875 \r\nQ 27.828125 65.921875 22.671875 59.328125 \r\nQ 17.53125 52.734375 16.796875 39.40625 \r\nQ 19.671875 43.65625 24.015625 45.921875 \r\nQ 28.375 48.1875 33.59375 48.1875 \r\nQ 44.578125 48.1875 50.953125 41.515625 \r\nQ 57.328125 34.859375 57.328125 23.390625 \r\nQ 57.328125 12.15625 50.6875 5.359375 \r\nQ 44.046875 -1.421875 33.015625 -1.421875 \r\nQ 20.359375 -1.421875 13.671875 8.265625 \r\nQ 6.984375 17.96875 6.984375 36.375 \r\nQ 6.984375 53.65625 15.1875 63.9375 \r\nQ 23.390625 74.21875 37.203125 74.21875 \r\nQ 40.921875 74.21875 44.703125 73.484375 \r\nQ 48.484375 72.75 52.59375 71.296875 \r\nz\r\n\" id=\"DejaVuSans-36\"/>\r\n      </defs>\r\n      <g transform=\"translate(7.2 214.52831)scale(0.1 -0.1)\">\r\n       <use xlink:href=\"#DejaVuSans-2212\"/>\r\n       <use x=\"83.789062\" xlink:href=\"#DejaVuSans-36\"/>\r\n      </g>\r\n     </g>\r\n    </g>\r\n    <g id=\"ytick_2\">\r\n     <g id=\"line2d_11\">\r\n      <g>\r\n       <use style=\"stroke:#000000;stroke-width:0.8;\" x=\"28.942188\" xlink:href=\"#mac16c001bf\" y=\"180.292727\"/>\r\n      </g>\r\n     </g>\r\n     <g id=\"text_11\">\r\n      <!-- −4 -->\r\n      <defs>\r\n       <path d=\"M 37.796875 64.3125 \r\nL 12.890625 25.390625 \r\nL 37.796875 25.390625 \r\nz\r\nM 35.203125 72.90625 \r\nL 47.609375 72.90625 \r\nL 47.609375 25.390625 \r\nL 58.015625 25.390625 \r\nL 58.015625 17.1875 \r\nL 47.609375 17.1875 \r\nL 47.609375 0 \r\nL 37.796875 0 \r\nL 37.796875 17.1875 \r\nL 4.890625 17.1875 \r\nL 4.890625 26.703125 \r\nz\r\n\" id=\"DejaVuSans-34\"/>\r\n      </defs>\r\n      <g transform=\"translate(7.2 184.091946)scale(0.1 -0.1)\">\r\n       <use xlink:href=\"#DejaVuSans-2212\"/>\r\n       <use x=\"83.789062\" xlink:href=\"#DejaVuSans-34\"/>\r\n      </g>\r\n     </g>\r\n    </g>\r\n    <g id=\"ytick_3\">\r\n     <g id=\"line2d_12\">\r\n      <g>\r\n       <use style=\"stroke:#000000;stroke-width:0.8;\" x=\"28.942188\" xlink:href=\"#mac16c001bf\" y=\"149.856364\"/>\r\n      </g>\r\n     </g>\r\n     <g id=\"text_12\">\r\n      <!-- −2 -->\r\n      <g transform=\"translate(7.2 153.655582)scale(0.1 -0.1)\">\r\n       <use xlink:href=\"#DejaVuSans-2212\"/>\r\n       <use x=\"83.789062\" xlink:href=\"#DejaVuSans-32\"/>\r\n      </g>\r\n     </g>\r\n    </g>\r\n    <g id=\"ytick_4\">\r\n     <g id=\"line2d_13\">\r\n      <g>\r\n       <use style=\"stroke:#000000;stroke-width:0.8;\" x=\"28.942188\" xlink:href=\"#mac16c001bf\" y=\"119.42\"/>\r\n      </g>\r\n     </g>\r\n     <g id=\"text_13\">\r\n      <!-- 0 -->\r\n      <g transform=\"translate(15.579688 123.219219)scale(0.1 -0.1)\">\r\n       <use xlink:href=\"#DejaVuSans-30\"/>\r\n      </g>\r\n     </g>\r\n    </g>\r\n    <g id=\"ytick_5\">\r\n     <g id=\"line2d_14\">\r\n      <g>\r\n       <use style=\"stroke:#000000;stroke-width:0.8;\" x=\"28.942188\" xlink:href=\"#mac16c001bf\" y=\"88.983636\"/>\r\n      </g>\r\n     </g>\r\n     <g id=\"text_14\">\r\n      <!-- 2 -->\r\n      <g transform=\"translate(15.579688 92.782855)scale(0.1 -0.1)\">\r\n       <use xlink:href=\"#DejaVuSans-32\"/>\r\n      </g>\r\n     </g>\r\n    </g>\r\n    <g id=\"ytick_6\">\r\n     <g id=\"line2d_15\">\r\n      <g>\r\n       <use style=\"stroke:#000000;stroke-width:0.8;\" x=\"28.942188\" xlink:href=\"#mac16c001bf\" y=\"58.547273\"/>\r\n      </g>\r\n     </g>\r\n     <g id=\"text_15\">\r\n      <!-- 4 -->\r\n      <g transform=\"translate(15.579688 62.346491)scale(0.1 -0.1)\">\r\n       <use xlink:href=\"#DejaVuSans-34\"/>\r\n      </g>\r\n     </g>\r\n    </g>\r\n    <g id=\"ytick_7\">\r\n     <g id=\"line2d_16\">\r\n      <g>\r\n       <use style=\"stroke:#000000;stroke-width:0.8;\" x=\"28.942188\" xlink:href=\"#mac16c001bf\" y=\"28.110909\"/>\r\n      </g>\r\n     </g>\r\n     <g id=\"text_16\">\r\n      <!-- 6 -->\r\n      <g transform=\"translate(15.579688 31.910128)scale(0.1 -0.1)\">\r\n       <use xlink:href=\"#DejaVuSans-36\"/>\r\n      </g>\r\n     </g>\r\n    </g>\r\n   </g>\r\n   <g id=\"patch_5\">\r\n    <path d=\"M 28.942188 228.14 \r\nL 28.942188 10.7 \r\n\" style=\"fill:none;stroke:#000000;stroke-linecap:square;stroke-linejoin:miter;stroke-width:0.8;\"/>\r\n   </g>\r\n   <g id=\"patch_6\">\r\n    <path d=\"M 363.742188 228.14 \r\nL 363.742188 10.7 \r\n\" style=\"fill:none;stroke:#000000;stroke-linecap:square;stroke-linejoin:miter;stroke-width:0.8;\"/>\r\n   </g>\r\n   <g id=\"patch_7\">\r\n    <path d=\"M 28.942188 228.14 \r\nL 363.742188 228.14 \r\n\" style=\"fill:none;stroke:#000000;stroke-linecap:square;stroke-linejoin:miter;stroke-width:0.8;\"/>\r\n   </g>\r\n   <g id=\"patch_8\">\r\n    <path d=\"M 28.942188 10.7 \r\nL 363.742188 10.7 \r\n\" style=\"fill:none;stroke:#000000;stroke-linecap:square;stroke-linejoin:miter;stroke-width:0.8;\"/>\r\n   </g>\r\n   <g id=\"legend_1\">\r\n    <g id=\"patch_9\">\r\n     <path d=\"M 304.234375 48.05625 \r\nL 356.742188 48.05625 \r\nQ 358.742188 48.05625 358.742188 46.05625 \r\nL 358.742188 17.7 \r\nQ 358.742188 15.7 356.742188 15.7 \r\nL 304.234375 15.7 \r\nQ 302.234375 15.7 302.234375 17.7 \r\nL 302.234375 46.05625 \r\nQ 302.234375 48.05625 304.234375 48.05625 \r\nz\r\n\" style=\"fill:#ffffff;opacity:0.8;stroke:#cccccc;stroke-linejoin:miter;\"/>\r\n    </g>\r\n    <g id=\"patch_10\">\r\n     <path d=\"M 306.234375 27.298437 \r\nL 326.234375 27.298437 \r\nL 326.234375 20.298437 \r\nL 306.234375 20.298437 \r\nz\r\n\" style=\"fill:#bf00bf;opacity:0.5;stroke:#000000;stroke-linejoin:miter;\"/>\r\n    </g>\r\n    <g id=\"text_17\">\r\n     <!-- Oinf -->\r\n     <defs>\r\n      <path d=\"M 39.40625 66.21875 \r\nQ 28.65625 66.21875 22.328125 58.203125 \r\nQ 16.015625 50.203125 16.015625 36.375 \r\nQ 16.015625 22.609375 22.328125 14.59375 \r\nQ 28.65625 6.59375 39.40625 6.59375 \r\nQ 50.140625 6.59375 56.421875 14.59375 \r\nQ 62.703125 22.609375 62.703125 36.375 \r\nQ 62.703125 50.203125 56.421875 58.203125 \r\nQ 50.140625 66.21875 39.40625 66.21875 \r\nz\r\nM 39.40625 74.21875 \r\nQ 54.734375 74.21875 63.90625 63.9375 \r\nQ 73.09375 53.65625 73.09375 36.375 \r\nQ 73.09375 19.140625 63.90625 8.859375 \r\nQ 54.734375 -1.421875 39.40625 -1.421875 \r\nQ 24.03125 -1.421875 14.8125 8.828125 \r\nQ 5.609375 19.09375 5.609375 36.375 \r\nQ 5.609375 53.65625 14.8125 63.9375 \r\nQ 24.03125 74.21875 39.40625 74.21875 \r\nz\r\n\" id=\"DejaVuSans-4f\"/>\r\n      <path d=\"M 9.421875 54.6875 \r\nL 18.40625 54.6875 \r\nL 18.40625 0 \r\nL 9.421875 0 \r\nz\r\nM 9.421875 75.984375 \r\nL 18.40625 75.984375 \r\nL 18.40625 64.59375 \r\nL 9.421875 64.59375 \r\nz\r\n\" id=\"DejaVuSans-69\"/>\r\n      <path d=\"M 54.890625 33.015625 \r\nL 54.890625 0 \r\nL 45.90625 0 \r\nL 45.90625 32.71875 \r\nQ 45.90625 40.484375 42.875 44.328125 \r\nQ 39.84375 48.1875 33.796875 48.1875 \r\nQ 26.515625 48.1875 22.3125 43.546875 \r\nQ 18.109375 38.921875 18.109375 30.90625 \r\nL 18.109375 0 \r\nL 9.078125 0 \r\nL 9.078125 54.6875 \r\nL 18.109375 54.6875 \r\nL 18.109375 46.1875 \r\nQ 21.34375 51.125 25.703125 53.5625 \r\nQ 30.078125 56 35.796875 56 \r\nQ 45.21875 56 50.046875 50.171875 \r\nQ 54.890625 44.34375 54.890625 33.015625 \r\nz\r\n\" id=\"DejaVuSans-6e\"/>\r\n      <path d=\"M 37.109375 75.984375 \r\nL 37.109375 68.5 \r\nL 28.515625 68.5 \r\nQ 23.6875 68.5 21.796875 66.546875 \r\nQ 19.921875 64.59375 19.921875 59.515625 \r\nL 19.921875 54.6875 \r\nL 34.71875 54.6875 \r\nL 34.71875 47.703125 \r\nL 19.921875 47.703125 \r\nL 19.921875 0 \r\nL 10.890625 0 \r\nL 10.890625 47.703125 \r\nL 2.296875 47.703125 \r\nL 2.296875 54.6875 \r\nL 10.890625 54.6875 \r\nL 10.890625 58.5 \r\nQ 10.890625 67.625 15.140625 71.796875 \r\nQ 19.390625 75.984375 28.609375 75.984375 \r\nz\r\n\" id=\"DejaVuSans-66\"/>\r\n     </defs>\r\n     <g transform=\"translate(334.234375 27.298437)scale(0.1 -0.1)\">\r\n      <use xlink:href=\"#DejaVuSans-4f\"/>\r\n      <use x=\"78.710938\" xlink:href=\"#DejaVuSans-69\"/>\r\n      <use x=\"106.494141\" xlink:href=\"#DejaVuSans-6e\"/>\r\n      <use x=\"169.873047\" xlink:href=\"#DejaVuSans-66\"/>\r\n     </g>\r\n    </g>\r\n    <g id=\"patch_11\">\r\n     <path d=\"M 306.234375 41.976562 \r\nL 326.234375 41.976562 \r\nL 326.234375 34.976562 \r\nL 306.234375 34.976562 \r\nz\r\n\" style=\"fill:#008000;opacity:0.2;stroke:#000000;stroke-linejoin:miter;\"/>\r\n    </g>\r\n    <g id=\"text_18\">\r\n     <!-- Cinf -->\r\n     <defs>\r\n      <path d=\"M 64.40625 67.28125 \r\nL 64.40625 56.890625 \r\nQ 59.421875 61.53125 53.78125 63.8125 \r\nQ 48.140625 66.109375 41.796875 66.109375 \r\nQ 29.296875 66.109375 22.65625 58.46875 \r\nQ 16.015625 50.828125 16.015625 36.375 \r\nQ 16.015625 21.96875 22.65625 14.328125 \r\nQ 29.296875 6.6875 41.796875 6.6875 \r\nQ 48.140625 6.6875 53.78125 8.984375 \r\nQ 59.421875 11.28125 64.40625 15.921875 \r\nL 64.40625 5.609375 \r\nQ 59.234375 2.09375 53.4375 0.328125 \r\nQ 47.65625 -1.421875 41.21875 -1.421875 \r\nQ 24.65625 -1.421875 15.125 8.703125 \r\nQ 5.609375 18.84375 5.609375 36.375 \r\nQ 5.609375 53.953125 15.125 64.078125 \r\nQ 24.65625 74.21875 41.21875 74.21875 \r\nQ 47.75 74.21875 53.53125 72.484375 \r\nQ 59.328125 70.75 64.40625 67.28125 \r\nz\r\n\" id=\"DejaVuSans-43\"/>\r\n     </defs>\r\n     <g transform=\"translate(334.234375 41.976562)scale(0.1 -0.1)\">\r\n      <use xlink:href=\"#DejaVuSans-43\"/>\r\n      <use x=\"69.824219\" xlink:href=\"#DejaVuSans-69\"/>\r\n      <use x=\"97.607422\" xlink:href=\"#DejaVuSans-6e\"/>\r\n      <use x=\"160.986328\" xlink:href=\"#DejaVuSans-66\"/>\r\n     </g>\r\n    </g>\r\n   </g>\r\n  </g>\r\n </g>\r\n <defs>\r\n  <clipPath id=\"pe0f6a772e7\">\r\n   <rect height=\"217.44\" width=\"334.8\" x=\"28.942188\" y=\"10.7\"/>\r\n  </clipPath>\r\n </defs>\r\n</svg>\r\n",
      "image/png": "[encoded data removed]"
     },
     "metadata": {
      "needs_background": "light"
     }
    }
   ],
   "source": [
    "fig, ax = plt.subplots()\n",
    "Oinf.plot(ax, color='m', alpha=0.5, linestyle='solid', linewidth=1, edgecolor=None)\n",
    "Cinf.plot(ax, color='g', alpha=0.2, linestyle='solid', linewidth=1, edgecolor=None)\n",
    "ax.autoscale_view()\n",
    "ax.axis('equal')\n",
    "ax.legend(['Oinf', 'Cinf'])\n",
    "plt.show()"
   ]
  },
  {
   "cell_type": "markdown",
   "metadata": {},
   "source": [
    "***"
   ]
  },
  {
   "cell_type": "markdown",
   "metadata": {},
   "source": [
    "# <font color=blue> 3 Persistently Feasible and Stable MPC </font>\n",
    "\n",
    "Consider the problem of regulating to the\n",
    "origin the discrete-time linear time-invariant system\n",
    "\\begin{equation}\n",
    "    x(t+1)=Ax(t)+Bu(t), \\quad \\quad \\quad (11)\n",
    "\\end{equation}\n",
    "where $x(t) \\in \\mathbb{R}^n$, $u(t)\\in\\mathbb{R}^{m}$ are the state and input\n",
    "vectors, respectively, subject to the constraints\n",
    "\\begin{equation}\n",
    "    x(t)\\in\\mathcal{X},~u(t)\\in\\mathcal{U},~\\forall t\\geq0,  \\quad \\quad (12)\n",
    "\\end{equation}\n",
    "where the sets $\\mathcal{X}\\subseteq\\mathbb{R}^n$ and $\\mathcal{U}\\subseteq\\mathbb{R}^m$\n",
    "are polyhedra.\n",
    "MPC approaches such a constrained\n",
    "regulation problem in the following way. Assume that a full measurement\n",
    "or estimate of the state\n",
    "$x(t)$ is available at the current time $t$. Then the finite time\n",
    "optimal control problem\n",
    "\n",
    "\\begin{equation}\n",
    "{ \\begin{aligned}\n",
    "     J_t^*(x(t))= & \\min_{{U_{t->t+N|t}}} &\\displaystyle{p(x_{t+N|t}) + \\sum_{k=0}^{N-1}\n",
    "q(x_{t+k|t},u_{t+k|t})} \\\\\n",
    "     &\\text{subject to} &  x_{t+k+1|t}=Ax_{t+k|t}+Bu_{t+k|t},\\ k=0,\\ldots,N-1\\\\\n",
    "     &                &x_{t+k|t}\\in\\mathcal{X},~u_{t+k|t}\\in\\mathcal{U},\\ k=0,\\ldots,N-1\\\\\n",
    "     &                & x_{t+N|t}\\in {\\mathcal{X}_f} \\\\\n",
    "     &                & x_{t|t}=x(t)\\\\\n",
    "     &                & &\\quad \\quad \\quad  \\quad(13)\\\\\n",
    "  \\end{aligned}\n",
    "}\n",
    "\\end{equation}\n",
    "is solved at time $t$, where\n",
    "$U_{t->t+N|t}=\\{u_{t|t},\\ldots,u_{t+N-1|t}\\}$ and\n",
    "where $x_{t+k|t}$ denotes the state vector at time $t+k$ predicted at time $t$\n",
    "obtained by starting from the current state $x_{t|t}=x(t)$ and applying to the system model\n",
    "\n",
    "\\begin{equation}\n",
    "    x_{t+k+1|t}=Ax_{t+k|t}+Bu_{t+k|t}    \n",
    "\\end{equation}\n",
    "\n",
    "the input sequence $u_{t|t},\\ldots,u_{t+k-1|t}$.\n",
    "Often the symbol $x_{t+k|t}$ is read as `the state $x$ at time $t+k$ predicted at time $t$`.\n",
    "Similarly, $u_{t+k|t}$ is read as `the input $u$ at time $t+k$ computed at time $t$`.\n",
    "\n",
    "\n",
    "Let $U_{t->t+N|t}^*=\\{u^*_{t|t},\\ldots,u^*_{t+N-1|t}\\}$ be the optimal solution\n",
    "of (13) at time $t$ and $J_t^*(x(t))$ the\n",
    "corresponding value function. Then, the first element of $U_{t->t+N|t}^*$ is\n",
    "applied to system (11)\n",
    "\\begin{equation}\n",
    "    u(t)=u^*_{t|t}(x(t)).  \\quad \\quad (14)\n",
    "\\end{equation}\n",
    "The optimization problem (13) is repeated at time $t+1$,\n",
    "based on the new state $x_{t+1|t+1}=x(t+1)$, yielding a *moving* or\n",
    "*receding horizon* control strategy.\n",
    "\n",
    "Let $f_t:\\mathbb{R}^n\\rightarrow\\mathbb{R}^m$ denote the *receding horizon* control law\n",
    "that associates the optimal input $u^*_{t|t}$ to the current state $x(t)$,\n",
    "$f_t(x(t))=u^*_{t|t}(x(t))$. Then the closed-loop system obtained by\n",
    "controlling (11)\n",
    "with the RHC (13)-(14) is\n",
    "\\begin{equation}\n",
    "x(k+1)=Ax(k)+Bf_{k}(x(k)) \\triangleq f_{cl}(x(k),k),\\ k\\geq0. \\quad \\quad (15)\n",
    "\\end{equation}\n",
    "\n",
    "\n",
    "We also noticed that for linear time-invariant systems and time invariant cost and constraints, the control law (14)\n",
    "\\begin{equation}\n",
    "    u(t)=f_0(x(t))=u^*_{0}(x(t)) \\quad \\quad (16)\n",
    "\\end{equation}\n",
    "and closed-loop system (15)\n",
    "\\begin{equation}\n",
    "x(k+1)=Ax(k)+Bf_{0}(x(k)) = f_{cl}(x(k)),\\ k\\geq0 \\quad \\quad \\quad (17)\n",
    "\\end{equation}\n",
    "are time-invariant."
   ]
  },
  {
   "cell_type": "markdown",
   "metadata": {},
   "source": [
    "***"
   ]
  },
  {
   "cell_type": "markdown",
   "metadata": {},
   "source": [
    "## 3.1 MPC Main Theorem\n",
    "\n",
    "\n",
    "In class we introduced the two concepts of\n",
    "\n",
    "1. Persistent feasibility.\n",
    "2. Asymptotic stability of the origin in a region called `domain of attraction`.\n",
    "\n",
    "\n",
    "We also proved the following fundamental theorem:\n",
    "\n",
    "Assume that\n",
    "\n",
    "(A0) The stage cost $q(x,u)$ and terminal cost $p(x)$ are continuous and positive definite functions.\n",
    "\n",
    "(A1) The sets $\\mathcal{X}$, $\\mathcal{X}_f$ and $\\mathcal{U}$ contain  the origin in their interior and are closed.\n",
    "\n",
    "(A2) $\\mathcal{X}_f$ is control invariant, $\\mathcal{X}_f\\subseteq \\mathcal{X}$.\n",
    "\n",
    "(A3) $\\displaystyle{\\min_{v\\in\\mathcal{U},~Ax+Bv\\in\\mathcal{X}_f}} (-p(x)+q(x,v)+p(Ax+Bv)) \\leq 0,~\\forall x\\in\\mathcal{X}_f$.\n",
    "\n",
    "Then,\n",
    "\n",
    "1. the closed-loop system (17)\n",
    "is persistently feasible in $\\mathcal{X}_0$,\n",
    "2. the origin of the closed-loop system (17)\n",
    "is asymptotically stable with domain of attraction $\\mathcal{X}_0$.\n",
    "\n",
    "\n",
    "Assumptions A0 and A1 are standard.\n",
    "We have shown that the simplest way to satisfy Assumptions\n",
    "A2 and A3 is to pick $\\mathcal{X}_f=0$ and any positive semi-definite terminal cost $p(x)=x'Px$. Next we are going to discuss other two options for selecting $\\mathcal{X}_f$ and $p(x)$."
   ]
  },
  {
   "cell_type": "markdown",
   "metadata": {},
   "source": [
    "***"
   ]
  },
  {
   "cell_type": "markdown",
   "metadata": {},
   "source": [
    "## 3.2 Using LQR\n",
    "In this approach we design a stabilizing feedback controller for system (1) by using the infinite time, unconstrained linear quadratic regulator (LQR) $F_\\infty$ with the same weights $Q$ and $R$ of the desired MPC tuning ($\\texttt{Q=eye(2)}$ and $\\texttt{R=1}$)."
   ]
  },
  {
   "cell_type": "code",
   "execution_count": 12,
   "metadata": {},
   "outputs": [],
   "source": [
    "nx = np.size(A,0)  # number of states\n",
    "nu = np.size(B,1)  # number of inputs\n",
    "\n",
    "Q = np.eye(2)\n",
    "R = np.array([1])\n",
    "\n",
    "def dlqr(A, B, Q, R):\n",
    "    # solve Discrete Algebraic Riccatti equation  \n",
    "    P = scipy.linalg.solve_discrete_are(A, B, Q, R)\n",
    "\n",
    "    # compute the LQR gain\n",
    "    K = scipy.linalg.inv(B.T @ P @ B + R) @ (B.T @ P @ A)\n",
    "\n",
    "    # stability check \n",
    "    eigVals, eigVecs = scipy.linalg.eig(A - B @ K)\n",
    "    return K, P\n",
    "\n",
    "Finf, Pinf = dlqr(A, B, Q, R)\n"
   ]
  },
  {
   "cell_type": "markdown",
   "metadata": {},
   "source": [
    "Then we follow the approach of Section 2.1 to compute the maximal positive invariant set $\\mathcal{O}_\\infty$ for system (1) when controlled by the LQR controller $u=-F_\\infty x$, subject to the constraints (2)."
   ]
  },
  {
   "cell_type": "code",
   "execution_count": 13,
   "metadata": {},
   "outputs": [],
   "source": [
    "# closed loop system\n",
    "Acl = A - B@Finf\n",
    "\n",
    "# remeber to convet input constraits in state constraints\n",
    "S = X.intersect(pt.Polytope(U.A@ -Finf, U.b))\n",
    "Oinf, converged = max_pos_inv(Acl,S)"
   ]
  },
  {
   "cell_type": "markdown",
   "metadata": {},
   "source": [
    "Finally, in the CFTOC problem (13) solved by the MPC at each step we use  $\\mathcal{X}_f=\\mathcal{O}_\\infty$ and $p(x)=x'P_\\infty x$ where $P_\\infty$ is LQR the infinite time cost. With this choice we satisfy assumption $A2$ (immediate to prove) and assumption $A3$  (proof next)."
   ]
  },
  {
   "cell_type": "code",
   "execution_count": 14,
   "metadata": {},
   "outputs": [],
   "source": [
    "# Compute the set of initial feasible states form MPC\n",
    "N = 3\n",
    "\n",
    "Kc = {}\n",
    "PreS = precursor(Oinf, A, U, B)   # Note that \n",
    "for j in range(N):\n",
    "    Kc[j]= PreS.intersect(X)\n",
    "    PreS = precursor(Kc[j], A, U, B)\n",
    "    \n",
    "X0 = Kc[N-1]  # The initial feasible set X0 is equivalent to the N-step controllable set. "
   ]
  },
  {
   "cell_type": "markdown",
   "metadata": {},
   "source": [
    "***"
   ]
  },
  {
   "cell_type": "markdown",
   "metadata": {},
   "source": [
    "## Simulation with MPC"
   ]
  },
  {
   "cell_type": "code",
   "execution_count": 15,
   "metadata": {},
   "outputs": [],
   "source": [
    "# Setup the CFTOC\n",
    "\n",
    "import pyomo.environ as pyo\n",
    "\n",
    "Xf = Oinf\n",
    "Af = Xf.A\n",
    "bf = Xf.b\n",
    "\n",
    "Q = np.eye(2)\n",
    "R = np.array([1]).reshape(1,1)\n",
    "P = Pinf\n",
    "N = 3\n",
    "x0 = np.array([-6, -3])\n",
    "\n",
    "\n",
    "def solve_cftoc(A, B, P, Q, R, N, x0, x1U, x2U, uL, uU, bf, Af):\n",
    "    \n",
    "    model = pyo.ConcreteModel()\n",
    "    model.N = N\n",
    "    model.nx = np.size(A, 0)\n",
    "    model.nu = np.size(B, 1)\n",
    "    model.nf = np.size(Af, 0)\n",
    "    \n",
    "    # length of finite optimization problem:\n",
    "    model.tIDX = pyo.Set( initialize= range(model.N+1), ordered=True )  \n",
    "    model.xIDX = pyo.Set( initialize= range(model.nx), ordered=True )\n",
    "    model.uIDX = pyo.Set( initialize= range(model.nu), ordered=True )\n",
    "    \n",
    "    model.nfIDX = pyo.Set( initialize= range(model.nf), ordered=True )\n",
    "    \n",
    "    # these are 2d arrays:\n",
    "    model.A = A\n",
    "    model.B = B\n",
    "    model.Q = Q\n",
    "    model.P = P\n",
    "    model.R = R\n",
    "    model.Af = Af\n",
    "    model.bf = bf\n",
    "    \n",
    "    # Create state and input variables trajectory:\n",
    "    model.x = pyo.Var(model.xIDX, model.tIDX)\n",
    "    model.u = pyo.Var(model.uIDX, model.tIDX, bounds=(uL,uU))\n",
    "    \n",
    "    #Objective:\n",
    "    def objective_rule(model):\n",
    "        costX = 0.0\n",
    "        costU = 0.0\n",
    "        costTerminal = 0.0\n",
    "        for t in model.tIDX:\n",
    "            for i in model.xIDX:\n",
    "                for j in model.xIDX:\n",
    "                    if t < model.N:\n",
    "                        costX += model.x[i, t] * model.Q[i, j] * model.x[j, t] \n",
    "        for t in model.tIDX:\n",
    "            for i in model.uIDX:\n",
    "                for j in model.uIDX:\n",
    "                    if t < model.N:\n",
    "                        costU += model.u[i, t] * model.R[i, j] * model.u[j, t]\n",
    "        for i in model.xIDX:\n",
    "            for j in model.xIDX:               \n",
    "                costTerminal += model.x[i, model.N] * model.P[i, j] * model.x[j, model.N]\n",
    "        return costX + costU + costTerminal\n",
    "    \n",
    "    model.cost = pyo.Objective(rule = objective_rule, sense = pyo.minimize)\n",
    "    \n",
    "    # Constraints:\n",
    "    def equality_const_rule(model, i, t):\n",
    "        return model.x[i, t+1] - (sum(model.A[i, j] * model.x[j, t] for j in model.xIDX)\n",
    "                               +  sum(model.B[i, j] * model.u[j, t] for j in model.uIDX) ) == 0.0 if t < model.N else pyo.Constraint.Skip\n",
    "    \n",
    "\n",
    "    model.equality_constraints = pyo.Constraint(model.xIDX, model.tIDX, rule=equality_const_rule)\n",
    "    model.init_const1 = pyo.Constraint(expr = model.x[0, 0] == x0[0])\n",
    "    model.init_const2 = pyo.Constraint(expr = model.x[1, 0] == x0[1])\n",
    "    model.state_limit1 = pyo.Constraint(model.tIDX, rule=lambda model, t: model.x[0, t] <= x1U\n",
    "                                   if t < N else pyo.Constraint.Skip)\n",
    "    model.state_limit2 = pyo.Constraint(model.tIDX, rule=lambda model, t: -x1U <= model.x[0, t]\n",
    "                                    if t < N else pyo.Constraint.Skip)\n",
    "    model.state_limit3 = pyo.Constraint(model.tIDX, rule=lambda model, t: model.x[1, t] <= x2U\n",
    "                                   if t < N else pyo.Constraint.Skip)\n",
    "    model.state_limit4 = pyo.Constraint(model.tIDX, rule=lambda model, t: -x2U <= model.x[1, t]\n",
    "                                    if t < N else pyo.Constraint.Skip)\n",
    "    \n",
    "    def final_const_rule(model, i):\n",
    "        return sum(model.Af[i, j] * model.x[j, model.N] for j in model.xIDX) <= model.bf[i] \n",
    "    \n",
    "    model.final_const = pyo.Constraint(model.nfIDX, rule=final_const_rule)\n",
    "    \n",
    "    solver = pyo.SolverFactory('ipopt')\n",
    "    results = solver.solve(model)\n",
    "    \n",
    "    if str(results.solver.termination_condition) == \"optimal\":\n",
    "        feas = True\n",
    "    else:\n",
    "        feas = False\n",
    "            \n",
    "    xOpt = np.asarray([[model.x[i,t]() for i in model.xIDX] for t in model.tIDX]).T\n",
    "    uOpt = np.asarray([model.u[:,t]() for t in model.tIDX]).T\n",
    "    \n",
    "    JOpt = model.cost()\n",
    "      \n",
    "    return [model, feas, xOpt, uOpt, JOpt]\n",
    "\n",
    "[model, feas, xOpt, uOpt, JOpt] = solve_cftoc(A, B, P, Q, R, N, x0, x1U, x2U, -uU, uU, bf, Af)"
   ]
  },
  {
   "cell_type": "code",
   "execution_count": 16,
   "metadata": {},
   "outputs": [
    {
     "output_type": "execute_result",
     "data": {
      "text/plain": [
       "(-6.301607190581559,\n",
       " 0.3337510022127465,\n",
       " -3.154567753510574,\n",
       " 0.24592282372205504)"
      ]
     },
     "metadata": {},
     "execution_count": 16
    },
    {
     "output_type": "display_data",
     "data": {
      "text/plain": "<Figure size 648x432 with 1 Axes>",
      "image/svg+xml": "<?xml version=\"1.0\" encoding=\"utf-8\" standalone=\"no\"?>\r\n<!DOCTYPE svg PUBLIC \"-//W3C//DTD SVG 1.1//EN\"\r\n  \"http://www.w3.org/Graphics/SVG/1.1/DTD/svg11.dtd\">\r\n<!-- Created with matplotlib (http://matplotlib.org/) -->\r\n<svg height=\"374.41625pt\" version=\"1.1\" viewBox=\"0 0 565.060938 374.41625\" width=\"565.060938pt\" xmlns=\"http://www.w3.org/2000/svg\" xmlns:xlink=\"http://www.w3.org/1999/xlink\">\r\n <defs>\r\n  <style type=\"text/css\">\r\n*{stroke-linecap:butt;stroke-linejoin:round;}\r\n  </style>\r\n </defs>\r\n <g id=\"figure_1\">\r\n  <g id=\"patch_1\">\r\n   <path d=\"M -0 374.41625 \r\nL 565.060938 374.41625 \r\nL 565.060938 0 \r\nL -0 0 \r\nz\r\n\" style=\"fill:none;\"/>\r\n  </g>\r\n  <g id=\"axes_1\">\r\n   <g id=\"patch_2\">\r\n    <path d=\"M 52.160938 336.86 \r\nL 554.360938 336.86 \r\nL 554.360938 10.7 \r\nL 52.160938 10.7 \r\nz\r\n\" style=\"fill:#ffffff;\"/>\r\n   </g>\r\n   <g id=\"matplotlib.axis_1\">\r\n    <g id=\"xtick_1\">\r\n     <g id=\"line2d_1\">\r\n      <defs>\r\n       <path d=\"M 0 0 \r\nL 0 3.5 \r\n\" id=\"m7cee8b5e6d\" style=\"stroke:#000000;stroke-width:0.8;\"/>\r\n      </defs>\r\n      <g>\r\n       <use style=\"stroke:#000000;stroke-width:0.8;\" x=\"74.98821\" xlink:href=\"#m7cee8b5e6d\" y=\"336.86\"/>\r\n      </g>\r\n     </g>\r\n     <g id=\"text_1\">\r\n      <!-- −6 -->\r\n      <defs>\r\n       <path d=\"M 10.59375 35.5 \r\nL 73.1875 35.5 \r\nL 73.1875 27.203125 \r\nL 10.59375 27.203125 \r\nz\r\n\" id=\"DejaVuSans-2212\"/>\r\n       <path d=\"M 33.015625 40.375 \r\nQ 26.375 40.375 22.484375 35.828125 \r\nQ 18.609375 31.296875 18.609375 23.390625 \r\nQ 18.609375 15.53125 22.484375 10.953125 \r\nQ 26.375 6.390625 33.015625 6.390625 \r\nQ 39.65625 6.390625 43.53125 10.953125 \r\nQ 47.40625 15.53125 47.40625 23.390625 \r\nQ 47.40625 31.296875 43.53125 35.828125 \r\nQ 39.65625 40.375 33.015625 40.375 \r\nz\r\nM 52.59375 71.296875 \r\nL 52.59375 62.3125 \r\nQ 48.875 64.0625 45.09375 64.984375 \r\nQ 41.3125 65.921875 37.59375 65.921875 \r\nQ 27.828125 65.921875 22.671875 59.328125 \r\nQ 17.53125 52.734375 16.796875 39.40625 \r\nQ 19.671875 43.65625 24.015625 45.921875 \r\nQ 28.375 48.1875 33.59375 48.1875 \r\nQ 44.578125 48.1875 50.953125 41.515625 \r\nQ 57.328125 34.859375 57.328125 23.390625 \r\nQ 57.328125 12.15625 50.6875 5.359375 \r\nQ 44.046875 -1.421875 33.015625 -1.421875 \r\nQ 20.359375 -1.421875 13.671875 8.265625 \r\nQ 6.984375 17.96875 6.984375 36.375 \r\nQ 6.984375 53.65625 15.1875 63.9375 \r\nQ 23.390625 74.21875 37.203125 74.21875 \r\nQ 40.921875 74.21875 44.703125 73.484375 \r\nQ 48.484375 72.75 52.59375 71.296875 \r\nz\r\n\" id=\"DejaVuSans-36\"/>\r\n      </defs>\r\n      <g transform=\"translate(67.617116 351.458437)scale(0.1 -0.1)\">\r\n       <use xlink:href=\"#DejaVuSans-2212\"/>\r\n       <use x=\"83.789062\" xlink:href=\"#DejaVuSans-36\"/>\r\n      </g>\r\n     </g>\r\n    </g>\r\n    <g id=\"xtick_2\">\r\n     <g id=\"line2d_2\">\r\n      <g>\r\n       <use style=\"stroke:#000000;stroke-width:0.8;\" x=\"150.67365\" xlink:href=\"#m7cee8b5e6d\" y=\"336.86\"/>\r\n      </g>\r\n     </g>\r\n     <g id=\"text_2\">\r\n      <!-- −5 -->\r\n      <defs>\r\n       <path d=\"M 10.796875 72.90625 \r\nL 49.515625 72.90625 \r\nL 49.515625 64.59375 \r\nL 19.828125 64.59375 \r\nL 19.828125 46.734375 \r\nQ 21.96875 47.46875 24.109375 47.828125 \r\nQ 26.265625 48.1875 28.421875 48.1875 \r\nQ 40.625 48.1875 47.75 41.5 \r\nQ 54.890625 34.8125 54.890625 23.390625 \r\nQ 54.890625 11.625 47.5625 5.09375 \r\nQ 40.234375 -1.421875 26.90625 -1.421875 \r\nQ 22.3125 -1.421875 17.546875 -0.640625 \r\nQ 12.796875 0.140625 7.71875 1.703125 \r\nL 7.71875 11.625 \r\nQ 12.109375 9.234375 16.796875 8.0625 \r\nQ 21.484375 6.890625 26.703125 6.890625 \r\nQ 35.15625 6.890625 40.078125 11.328125 \r\nQ 45.015625 15.765625 45.015625 23.390625 \r\nQ 45.015625 31 40.078125 35.4375 \r\nQ 35.15625 39.890625 26.703125 39.890625 \r\nQ 22.75 39.890625 18.8125 39.015625 \r\nQ 14.890625 38.140625 10.796875 36.28125 \r\nz\r\n\" id=\"DejaVuSans-35\"/>\r\n      </defs>\r\n      <g transform=\"translate(143.302556 351.458437)scale(0.1 -0.1)\">\r\n       <use xlink:href=\"#DejaVuSans-2212\"/>\r\n       <use x=\"83.789062\" xlink:href=\"#DejaVuSans-35\"/>\r\n      </g>\r\n     </g>\r\n    </g>\r\n    <g id=\"xtick_3\">\r\n     <g id=\"line2d_3\">\r\n      <g>\r\n       <use style=\"stroke:#000000;stroke-width:0.8;\" x=\"226.359089\" xlink:href=\"#m7cee8b5e6d\" y=\"336.86\"/>\r\n      </g>\r\n     </g>\r\n     <g id=\"text_3\">\r\n      <!-- −4 -->\r\n      <defs>\r\n       <path d=\"M 37.796875 64.3125 \r\nL 12.890625 25.390625 \r\nL 37.796875 25.390625 \r\nz\r\nM 35.203125 72.90625 \r\nL 47.609375 72.90625 \r\nL 47.609375 25.390625 \r\nL 58.015625 25.390625 \r\nL 58.015625 17.1875 \r\nL 47.609375 17.1875 \r\nL 47.609375 0 \r\nL 37.796875 0 \r\nL 37.796875 17.1875 \r\nL 4.890625 17.1875 \r\nL 4.890625 26.703125 \r\nz\r\n\" id=\"DejaVuSans-34\"/>\r\n      </defs>\r\n      <g transform=\"translate(218.987995 351.458437)scale(0.1 -0.1)\">\r\n       <use xlink:href=\"#DejaVuSans-2212\"/>\r\n       <use x=\"83.789062\" xlink:href=\"#DejaVuSans-34\"/>\r\n      </g>\r\n     </g>\r\n    </g>\r\n    <g id=\"xtick_4\">\r\n     <g id=\"line2d_4\">\r\n      <g>\r\n       <use style=\"stroke:#000000;stroke-width:0.8;\" x=\"302.044528\" xlink:href=\"#m7cee8b5e6d\" y=\"336.86\"/>\r\n      </g>\r\n     </g>\r\n     <g id=\"text_4\">\r\n      <!-- −3 -->\r\n      <defs>\r\n       <path d=\"M 40.578125 39.3125 \r\nQ 47.65625 37.796875 51.625 33 \r\nQ 55.609375 28.21875 55.609375 21.1875 \r\nQ 55.609375 10.40625 48.1875 4.484375 \r\nQ 40.765625 -1.421875 27.09375 -1.421875 \r\nQ 22.515625 -1.421875 17.65625 -0.515625 \r\nQ 12.796875 0.390625 7.625 2.203125 \r\nL 7.625 11.71875 \r\nQ 11.71875 9.328125 16.59375 8.109375 \r\nQ 21.484375 6.890625 26.8125 6.890625 \r\nQ 36.078125 6.890625 40.9375 10.546875 \r\nQ 45.796875 14.203125 45.796875 21.1875 \r\nQ 45.796875 27.640625 41.28125 31.265625 \r\nQ 36.765625 34.90625 28.71875 34.90625 \r\nL 20.21875 34.90625 \r\nL 20.21875 43.015625 \r\nL 29.109375 43.015625 \r\nQ 36.375 43.015625 40.234375 45.921875 \r\nQ 44.09375 48.828125 44.09375 54.296875 \r\nQ 44.09375 59.90625 40.109375 62.90625 \r\nQ 36.140625 65.921875 28.71875 65.921875 \r\nQ 24.65625 65.921875 20.015625 65.03125 \r\nQ 15.375 64.15625 9.8125 62.3125 \r\nL 9.8125 71.09375 \r\nQ 15.4375 72.65625 20.34375 73.4375 \r\nQ 25.25 74.21875 29.59375 74.21875 \r\nQ 40.828125 74.21875 47.359375 69.109375 \r\nQ 53.90625 64.015625 53.90625 55.328125 \r\nQ 53.90625 49.265625 50.4375 45.09375 \r\nQ 46.96875 40.921875 40.578125 39.3125 \r\nz\r\n\" id=\"DejaVuSans-33\"/>\r\n      </defs>\r\n      <g transform=\"translate(294.673434 351.458437)scale(0.1 -0.1)\">\r\n       <use xlink:href=\"#DejaVuSans-2212\"/>\r\n       <use x=\"83.789062\" xlink:href=\"#DejaVuSans-33\"/>\r\n      </g>\r\n     </g>\r\n    </g>\r\n    <g id=\"xtick_5\">\r\n     <g id=\"line2d_5\">\r\n      <g>\r\n       <use style=\"stroke:#000000;stroke-width:0.8;\" x=\"377.729968\" xlink:href=\"#m7cee8b5e6d\" y=\"336.86\"/>\r\n      </g>\r\n     </g>\r\n     <g id=\"text_5\">\r\n      <!-- −2 -->\r\n      <defs>\r\n       <path d=\"M 19.1875 8.296875 \r\nL 53.609375 8.296875 \r\nL 53.609375 0 \r\nL 7.328125 0 \r\nL 7.328125 8.296875 \r\nQ 12.9375 14.109375 22.625 23.890625 \r\nQ 32.328125 33.6875 34.8125 36.53125 \r\nQ 39.546875 41.84375 41.421875 45.53125 \r\nQ 43.3125 49.21875 43.3125 52.78125 \r\nQ 43.3125 58.59375 39.234375 62.25 \r\nQ 35.15625 65.921875 28.609375 65.921875 \r\nQ 23.96875 65.921875 18.8125 64.3125 \r\nQ 13.671875 62.703125 7.8125 59.421875 \r\nL 7.8125 69.390625 \r\nQ 13.765625 71.78125 18.9375 73 \r\nQ 24.125 74.21875 28.421875 74.21875 \r\nQ 39.75 74.21875 46.484375 68.546875 \r\nQ 53.21875 62.890625 53.21875 53.421875 \r\nQ 53.21875 48.921875 51.53125 44.890625 \r\nQ 49.859375 40.875 45.40625 35.40625 \r\nQ 44.1875 33.984375 37.640625 27.21875 \r\nQ 31.109375 20.453125 19.1875 8.296875 \r\nz\r\n\" id=\"DejaVuSans-32\"/>\r\n      </defs>\r\n      <g transform=\"translate(370.358874 351.458437)scale(0.1 -0.1)\">\r\n       <use xlink:href=\"#DejaVuSans-2212\"/>\r\n       <use x=\"83.789062\" xlink:href=\"#DejaVuSans-32\"/>\r\n      </g>\r\n     </g>\r\n    </g>\r\n    <g id=\"xtick_6\">\r\n     <g id=\"line2d_6\">\r\n      <g>\r\n       <use style=\"stroke:#000000;stroke-width:0.8;\" x=\"453.415407\" xlink:href=\"#m7cee8b5e6d\" y=\"336.86\"/>\r\n      </g>\r\n     </g>\r\n     <g id=\"text_6\">\r\n      <!-- −1 -->\r\n      <defs>\r\n       <path d=\"M 12.40625 8.296875 \r\nL 28.515625 8.296875 \r\nL 28.515625 63.921875 \r\nL 10.984375 60.40625 \r\nL 10.984375 69.390625 \r\nL 28.421875 72.90625 \r\nL 38.28125 72.90625 \r\nL 38.28125 8.296875 \r\nL 54.390625 8.296875 \r\nL 54.390625 0 \r\nL 12.40625 0 \r\nz\r\n\" id=\"DejaVuSans-31\"/>\r\n      </defs>\r\n      <g transform=\"translate(446.044313 351.458437)scale(0.1 -0.1)\">\r\n       <use xlink:href=\"#DejaVuSans-2212\"/>\r\n       <use x=\"83.789062\" xlink:href=\"#DejaVuSans-31\"/>\r\n      </g>\r\n     </g>\r\n    </g>\r\n    <g id=\"xtick_7\">\r\n     <g id=\"line2d_7\">\r\n      <g>\r\n       <use style=\"stroke:#000000;stroke-width:0.8;\" x=\"529.100846\" xlink:href=\"#m7cee8b5e6d\" y=\"336.86\"/>\r\n      </g>\r\n     </g>\r\n     <g id=\"text_7\">\r\n      <!-- 0 -->\r\n      <defs>\r\n       <path d=\"M 31.78125 66.40625 \r\nQ 24.171875 66.40625 20.328125 58.90625 \r\nQ 16.5 51.421875 16.5 36.375 \r\nQ 16.5 21.390625 20.328125 13.890625 \r\nQ 24.171875 6.390625 31.78125 6.390625 \r\nQ 39.453125 6.390625 43.28125 13.890625 \r\nQ 47.125 21.390625 47.125 36.375 \r\nQ 47.125 51.421875 43.28125 58.90625 \r\nQ 39.453125 66.40625 31.78125 66.40625 \r\nz\r\nM 31.78125 74.21875 \r\nQ 44.046875 74.21875 50.515625 64.515625 \r\nQ 56.984375 54.828125 56.984375 36.375 \r\nQ 56.984375 17.96875 50.515625 8.265625 \r\nQ 44.046875 -1.421875 31.78125 -1.421875 \r\nQ 19.53125 -1.421875 13.0625 8.265625 \r\nQ 6.59375 17.96875 6.59375 36.375 \r\nQ 6.59375 54.828125 13.0625 64.515625 \r\nQ 19.53125 74.21875 31.78125 74.21875 \r\nz\r\n\" id=\"DejaVuSans-30\"/>\r\n      </defs>\r\n      <g transform=\"translate(525.919596 351.458437)scale(0.1 -0.1)\">\r\n       <use xlink:href=\"#DejaVuSans-30\"/>\r\n      </g>\r\n     </g>\r\n    </g>\r\n    <g id=\"text_8\">\r\n     <!-- x1 -->\r\n     <defs>\r\n      <path d=\"M 54.890625 54.6875 \r\nL 35.109375 28.078125 \r\nL 55.90625 0 \r\nL 45.3125 0 \r\nL 29.390625 21.484375 \r\nL 13.484375 0 \r\nL 2.875 0 \r\nL 24.125 28.609375 \r\nL 4.6875 54.6875 \r\nL 15.28125 54.6875 \r\nL 29.78125 35.203125 \r\nL 44.28125 54.6875 \r\nz\r\n\" id=\"DejaVuSans-78\"/>\r\n     </defs>\r\n     <g transform=\"translate(297.120313 365.136562)scale(0.1 -0.1)\">\r\n      <use xlink:href=\"#DejaVuSans-78\"/>\r\n      <use x=\"59.179688\" xlink:href=\"#DejaVuSans-31\"/>\r\n     </g>\r\n    </g>\r\n   </g>\r\n   <g id=\"matplotlib.axis_2\">\r\n    <g id=\"ytick_1\">\r\n     <g id=\"line2d_8\">\r\n      <defs>\r\n       <path d=\"M 0 0 \r\nL -3.5 0 \r\n\" id=\"mb20e480634\" style=\"stroke:#000000;stroke-width:0.8;\"/>\r\n      </defs>\r\n      <g>\r\n       <use style=\"stroke:#000000;stroke-width:0.8;\" x=\"52.160938\" xlink:href=\"#mb20e480634\" y=\"328.608003\"/>\r\n      </g>\r\n     </g>\r\n     <g id=\"text_9\">\r\n      <!-- −3.5 -->\r\n      <defs>\r\n       <path d=\"M 10.6875 12.40625 \r\nL 21 12.40625 \r\nL 21 0 \r\nL 10.6875 0 \r\nz\r\n\" id=\"DejaVuSans-2e\"/>\r\n      </defs>\r\n      <g transform=\"translate(20.878125 332.407222)scale(0.1 -0.1)\">\r\n       <use xlink:href=\"#DejaVuSans-2212\"/>\r\n       <use x=\"83.789062\" xlink:href=\"#DejaVuSans-33\"/>\r\n       <use x=\"147.412109\" xlink:href=\"#DejaVuSans-2e\"/>\r\n       <use x=\"179.199219\" xlink:href=\"#DejaVuSans-35\"/>\r\n      </g>\r\n     </g>\r\n    </g>\r\n    <g id=\"ytick_2\">\r\n     <g id=\"line2d_9\">\r\n      <g>\r\n       <use style=\"stroke:#000000;stroke-width:0.8;\" x=\"52.160938\" xlink:href=\"#mb20e480634\" y=\"290.765283\"/>\r\n      </g>\r\n     </g>\r\n     <g id=\"text_10\">\r\n      <!-- −3.0 -->\r\n      <g transform=\"translate(20.878125 294.564502)scale(0.1 -0.1)\">\r\n       <use xlink:href=\"#DejaVuSans-2212\"/>\r\n       <use x=\"83.789062\" xlink:href=\"#DejaVuSans-33\"/>\r\n       <use x=\"147.412109\" xlink:href=\"#DejaVuSans-2e\"/>\r\n       <use x=\"179.199219\" xlink:href=\"#DejaVuSans-30\"/>\r\n      </g>\r\n     </g>\r\n    </g>\r\n    <g id=\"ytick_3\">\r\n     <g id=\"line2d_10\">\r\n      <g>\r\n       <use style=\"stroke:#000000;stroke-width:0.8;\" x=\"52.160938\" xlink:href=\"#mb20e480634\" y=\"252.922564\"/>\r\n      </g>\r\n     </g>\r\n     <g id=\"text_11\">\r\n      <!-- −2.5 -->\r\n      <g transform=\"translate(20.878125 256.721782)scale(0.1 -0.1)\">\r\n       <use xlink:href=\"#DejaVuSans-2212\"/>\r\n       <use x=\"83.789062\" xlink:href=\"#DejaVuSans-32\"/>\r\n       <use x=\"147.412109\" xlink:href=\"#DejaVuSans-2e\"/>\r\n       <use x=\"179.199219\" xlink:href=\"#DejaVuSans-35\"/>\r\n      </g>\r\n     </g>\r\n    </g>\r\n    <g id=\"ytick_4\">\r\n     <g id=\"line2d_11\">\r\n      <g>\r\n       <use style=\"stroke:#000000;stroke-width:0.8;\" x=\"52.160938\" xlink:href=\"#mb20e480634\" y=\"215.079844\"/>\r\n      </g>\r\n     </g>\r\n     <g id=\"text_12\">\r\n      <!-- −2.0 -->\r\n      <g transform=\"translate(20.878125 218.879063)scale(0.1 -0.1)\">\r\n       <use xlink:href=\"#DejaVuSans-2212\"/>\r\n       <use x=\"83.789062\" xlink:href=\"#DejaVuSans-32\"/>\r\n       <use x=\"147.412109\" xlink:href=\"#DejaVuSans-2e\"/>\r\n       <use x=\"179.199219\" xlink:href=\"#DejaVuSans-30\"/>\r\n      </g>\r\n     </g>\r\n    </g>\r\n    <g id=\"ytick_5\">\r\n     <g id=\"line2d_12\">\r\n      <g>\r\n       <use style=\"stroke:#000000;stroke-width:0.8;\" x=\"52.160938\" xlink:href=\"#mb20e480634\" y=\"177.237124\"/>\r\n      </g>\r\n     </g>\r\n     <g id=\"text_13\">\r\n      <!-- −1.5 -->\r\n      <g transform=\"translate(20.878125 181.036343)scale(0.1 -0.1)\">\r\n       <use xlink:href=\"#DejaVuSans-2212\"/>\r\n       <use x=\"83.789062\" xlink:href=\"#DejaVuSans-31\"/>\r\n       <use x=\"147.412109\" xlink:href=\"#DejaVuSans-2e\"/>\r\n       <use x=\"179.199219\" xlink:href=\"#DejaVuSans-35\"/>\r\n      </g>\r\n     </g>\r\n    </g>\r\n    <g id=\"ytick_6\">\r\n     <g id=\"line2d_13\">\r\n      <g>\r\n       <use style=\"stroke:#000000;stroke-width:0.8;\" x=\"52.160938\" xlink:href=\"#mb20e480634\" y=\"139.394405\"/>\r\n      </g>\r\n     </g>\r\n     <g id=\"text_14\">\r\n      <!-- −1.0 -->\r\n      <g transform=\"translate(20.878125 143.193623)scale(0.1 -0.1)\">\r\n       <use xlink:href=\"#DejaVuSans-2212\"/>\r\n       <use x=\"83.789062\" xlink:href=\"#DejaVuSans-31\"/>\r\n       <use x=\"147.412109\" xlink:href=\"#DejaVuSans-2e\"/>\r\n       <use x=\"179.199219\" xlink:href=\"#DejaVuSans-30\"/>\r\n      </g>\r\n     </g>\r\n    </g>\r\n    <g id=\"ytick_7\">\r\n     <g id=\"line2d_14\">\r\n      <g>\r\n       <use style=\"stroke:#000000;stroke-width:0.8;\" x=\"52.160938\" xlink:href=\"#mb20e480634\" y=\"101.551685\"/>\r\n      </g>\r\n     </g>\r\n     <g id=\"text_15\">\r\n      <!-- −0.5 -->\r\n      <g transform=\"translate(20.878125 105.350904)scale(0.1 -0.1)\">\r\n       <use xlink:href=\"#DejaVuSans-2212\"/>\r\n       <use x=\"83.789062\" xlink:href=\"#DejaVuSans-30\"/>\r\n       <use x=\"147.412109\" xlink:href=\"#DejaVuSans-2e\"/>\r\n       <use x=\"179.199219\" xlink:href=\"#DejaVuSans-35\"/>\r\n      </g>\r\n     </g>\r\n    </g>\r\n    <g id=\"ytick_8\">\r\n     <g id=\"line2d_15\">\r\n      <g>\r\n       <use style=\"stroke:#000000;stroke-width:0.8;\" x=\"52.160938\" xlink:href=\"#mb20e480634\" y=\"63.708965\"/>\r\n      </g>\r\n     </g>\r\n     <g id=\"text_16\">\r\n      <!-- 0.0 -->\r\n      <g transform=\"translate(29.257812 67.508184)scale(0.1 -0.1)\">\r\n       <use xlink:href=\"#DejaVuSans-30\"/>\r\n       <use x=\"63.623047\" xlink:href=\"#DejaVuSans-2e\"/>\r\n       <use x=\"95.410156\" xlink:href=\"#DejaVuSans-30\"/>\r\n      </g>\r\n     </g>\r\n    </g>\r\n    <g id=\"ytick_9\">\r\n     <g id=\"line2d_16\">\r\n      <g>\r\n       <use style=\"stroke:#000000;stroke-width:0.8;\" x=\"52.160938\" xlink:href=\"#mb20e480634\" y=\"25.866246\"/>\r\n      </g>\r\n     </g>\r\n     <g id=\"text_17\">\r\n      <!-- 0.5 -->\r\n      <g transform=\"translate(29.257812 29.665464)scale(0.1 -0.1)\">\r\n       <use xlink:href=\"#DejaVuSans-30\"/>\r\n       <use x=\"63.623047\" xlink:href=\"#DejaVuSans-2e\"/>\r\n       <use x=\"95.410156\" xlink:href=\"#DejaVuSans-35\"/>\r\n      </g>\r\n     </g>\r\n    </g>\r\n    <g id=\"text_18\">\r\n     <!-- x2 -->\r\n     <g transform=\"translate(14.798438 179.920625)rotate(-90)scale(0.1 -0.1)\">\r\n      <use xlink:href=\"#DejaVuSans-78\"/>\r\n      <use x=\"59.179688\" xlink:href=\"#DejaVuSans-32\"/>\r\n     </g>\r\n    </g>\r\n   </g>\r\n   <g id=\"line2d_17\">\r\n    <path clip-path=\"url(#pddbdeb3584)\" d=\"M 74.98821 290.765283 \r\nL 226.359093 177.237124 \r\nL 331.084888 196.15848 \r\nL 498.091057 63.050651 \r\n\" style=\"fill:none;stroke:#ff0000;stroke-dasharray:5.55,2.4;stroke-dashoffset:0;stroke-width:1.5;\"/>\r\n   </g>\r\n   <g id=\"line2d_18\">\r\n    <path clip-path=\"url(#pddbdeb3584)\" d=\"M 226.359093 177.237124 \r\nL 331.084888 196.15848 \r\nL 498.091057 63.050651 \r\nL 488.019204 95.706226 \r\n\" style=\"fill:none;stroke:#ff0000;stroke-dasharray:5.55,2.4;stroke-dashoffset:0;stroke-width:1.5;\"/>\r\n   </g>\r\n   <g id=\"line2d_19\">\r\n    <path clip-path=\"url(#pddbdeb3584)\" d=\"M 331.084888 196.15848 \r\nL 498.091057 63.050651 \r\nL 488.019204 95.706226 \r\nL 530.315999 56.794717 \r\n\" style=\"fill:none;stroke:#ff0000;stroke-dasharray:5.55,2.4;stroke-dashoffset:0;stroke-width:1.5;\"/>\r\n   </g>\r\n   <g id=\"line2d_20\">\r\n    <path clip-path=\"url(#pddbdeb3584)\" d=\"M 498.091057 63.050651 \r\nL 488.019204 95.706226 \r\nL 530.315999 56.794717 \r\nL 518.962855 72.865185 \r\n\" style=\"fill:none;stroke:#ff0000;stroke-dasharray:5.55,2.4;stroke-dashoffset:0;stroke-width:1.5;\"/>\r\n   </g>\r\n   <g id=\"line2d_21\">\r\n    <path clip-path=\"url(#pddbdeb3584)\" d=\"M 488.019204 95.706226 \r\nL 530.315999 56.794717 \r\nL 518.962855 72.865185 \r\nL 531.533665 60.112627 \r\n\" style=\"fill:none;stroke:#ff0000;stroke-dasharray:5.55,2.4;stroke-dashoffset:0;stroke-width:1.5;\"/>\r\n   </g>\r\n   <g id=\"line2d_22\">\r\n    <path clip-path=\"url(#pddbdeb3584)\" d=\"M 530.315999 56.794717 \r\nL 518.962855 72.865185 \r\nL 531.533665 60.112627 \r\nL 526.148676 66.670655 \r\n\" style=\"fill:none;stroke:#ff0000;stroke-dasharray:5.55,2.4;stroke-dashoffset:0;stroke-width:1.5;\"/>\r\n   </g>\r\n   <g id=\"line2d_23\">\r\n    <path clip-path=\"url(#pddbdeb3584)\" d=\"M 518.962855 72.865185 \r\nL 531.533665 60.112627 \r\nL 526.148676 66.670655 \r\nL 530.309337 62.218602 \r\n\" style=\"fill:none;stroke:#ff0000;stroke-dasharray:5.55,2.4;stroke-dashoffset:0;stroke-width:1.5;\"/>\r\n   </g>\r\n   <g id=\"line2d_24\">\r\n    <path clip-path=\"url(#pddbdeb3584)\" d=\"M 531.533665 60.112627 \r\nL 526.148676 66.670655 \r\nL 530.309337 62.218602 \r\nL 528.135596 64.73602 \r\n\" style=\"fill:none;stroke:#ff0000;stroke-dasharray:5.55,2.4;stroke-dashoffset:0;stroke-width:1.5;\"/>\r\n   </g>\r\n   <g id=\"line2d_25\">\r\n    <path clip-path=\"url(#pddbdeb3584)\" d=\"M 526.148676 66.670655 \r\nL 530.309337 62.218602 \r\nL 528.135596 64.73602 \r\nL 529.595329 63.133634 \r\n\" style=\"fill:none;stroke:#ff0000;stroke-dasharray:5.55,2.4;stroke-dashoffset:0;stroke-width:1.5;\"/>\r\n   </g>\r\n   <g id=\"line2d_26\">\r\n    <path clip-path=\"url(#pddbdeb3584)\" d=\"M 530.309337 62.218602 \r\nL 528.135596 64.73602 \r\nL 529.595329 63.133634 \r\nL 528.764268 64.07748 \r\n\" style=\"fill:none;stroke:#ff0000;stroke-dasharray:5.55,2.4;stroke-dashoffset:0;stroke-width:1.5;\"/>\r\n   </g>\r\n   <g id=\"line2d_27\">\r\n    <path clip-path=\"url(#pddbdeb3584)\" d=\"M 528.135596 64.73602 \r\nL 529.595329 63.133634 \r\nL 528.764268 64.07748 \r\nL 529.29085 63.492772 \r\n\" style=\"fill:none;stroke:#ff0000;stroke-dasharray:5.55,2.4;stroke-dashoffset:0;stroke-width:1.5;\"/>\r\n   </g>\r\n   <g id=\"line2d_28\">\r\n    <path clip-path=\"url(#pddbdeb3584)\" d=\"M 529.595329 63.133634 \r\nL 528.764268 64.07748 \r\nL 529.29085 63.492772 \r\nL 528.979771 63.843252 \r\n\" style=\"fill:none;stroke:#ff0000;stroke-dasharray:5.55,2.4;stroke-dashoffset:0;stroke-width:1.5;\"/>\r\n   </g>\r\n   <g id=\"line2d_29\">\r\n    <path clip-path=\"url(#pddbdeb3584)\" d=\"M 528.764268 64.07748 \r\nL 529.29085 63.492772 \r\nL 528.979771 63.843252 \r\nL 529.172112 63.628611 \r\n\" style=\"fill:none;stroke:#ff0000;stroke-dasharray:5.55,2.4;stroke-dashoffset:0;stroke-width:1.5;\"/>\r\n   </g>\r\n   <g id=\"line2d_30\">\r\n    <path clip-path=\"url(#pddbdeb3584)\" d=\"M 529.29085 63.492772 \r\nL 528.979771 63.843252 \r\nL 529.172112 63.628611 \r\nL 529.056677 63.758231 \r\n\" style=\"fill:none;stroke:#ff0000;stroke-dasharray:5.55,2.4;stroke-dashoffset:0;stroke-width:1.5;\"/>\r\n   </g>\r\n   <g id=\"line2d_31\">\r\n    <path clip-path=\"url(#pddbdeb3584)\" d=\"M 528.979771 63.843252 \r\nL 529.172112 63.628611 \r\nL 529.056677 63.758231 \r\nL 529.127314 63.679235 \r\n\" style=\"fill:none;stroke:#ff0000;stroke-dasharray:5.55,2.4;stroke-dashoffset:0;stroke-width:1.5;\"/>\r\n   </g>\r\n   <g id=\"line2d_32\">\r\n    <path clip-path=\"url(#pddbdeb3584)\" d=\"M 529.172112 63.628611 \r\nL 529.056677 63.758231 \r\nL 529.127314 63.679235 \r\nL 529.084634 63.727093 \r\n\" style=\"fill:none;stroke:#ff0000;stroke-dasharray:5.55,2.4;stroke-dashoffset:0;stroke-width:1.5;\"/>\r\n   </g>\r\n   <g id=\"line2d_33\">\r\n    <path clip-path=\"url(#pddbdeb3584)\" d=\"M 529.056677 63.758231 \r\nL 529.127314 63.679235 \r\nL 529.084634 63.727093 \r\nL 529.110636 63.697987 \r\n\" style=\"fill:none;stroke:#ff0000;stroke-dasharray:5.55,2.4;stroke-dashoffset:0;stroke-width:1.5;\"/>\r\n   </g>\r\n   <g id=\"line2d_34\">\r\n    <path clip-path=\"url(#pddbdeb3584)\" d=\"M 529.127314 63.679235 \r\nL 529.084634 63.727093 \r\nL 529.110636 63.697987 \r\nL 529.09488 63.715643 \r\n\" style=\"fill:none;stroke:#ff0000;stroke-dasharray:5.55,2.4;stroke-dashoffset:0;stroke-width:1.5;\"/>\r\n   </g>\r\n   <g id=\"line2d_35\">\r\n    <path clip-path=\"url(#pddbdeb3584)\" d=\"M 529.084634 63.727093 \r\nL 529.110636 63.697987 \r\nL 529.09488 63.715643 \r\nL 529.104461 63.704915 \r\n\" style=\"fill:none;stroke:#ff0000;stroke-dasharray:5.55,2.4;stroke-dashoffset:0;stroke-width:1.5;\"/>\r\n   </g>\r\n   <g id=\"line2d_36\">\r\n    <path clip-path=\"url(#pddbdeb3584)\" d=\"M 529.110636 63.697987 \r\nL 529.09488 63.715643 \r\nL 529.104461 63.704915 \r\nL 529.098648 63.711427 \r\n\" style=\"fill:none;stroke:#ff0000;stroke-dasharray:5.55,2.4;stroke-dashoffset:0;stroke-width:1.5;\"/>\r\n   </g>\r\n   <g id=\"line2d_37\">\r\n    <path clip-path=\"url(#pddbdeb3584)\" d=\"M 529.09488 63.715643 \r\nL 529.104461 63.704915 \r\nL 529.098648 63.711427 \r\nL 529.10218 63.707471 \r\n\" style=\"fill:none;stroke:#ff0000;stroke-dasharray:5.55,2.4;stroke-dashoffset:0;stroke-width:1.5;\"/>\r\n   </g>\r\n   <g id=\"line2d_38\">\r\n    <path clip-path=\"url(#pddbdeb3584)\" d=\"M 529.104461 63.704915 \r\nL 529.098648 63.711427 \r\nL 529.10218 63.707471 \r\nL 529.100036 63.709873 \r\n\" style=\"fill:none;stroke:#ff0000;stroke-dasharray:5.55,2.4;stroke-dashoffset:0;stroke-width:1.5;\"/>\r\n   </g>\r\n   <g id=\"line2d_39\">\r\n    <path clip-path=\"url(#pddbdeb3584)\" d=\"M 529.098648 63.711427 \r\nL 529.10218 63.707471 \r\nL 529.100036 63.709873 \r\nL 529.101338 63.708414 \r\n\" style=\"fill:none;stroke:#ff0000;stroke-dasharray:5.55,2.4;stroke-dashoffset:0;stroke-width:1.5;\"/>\r\n   </g>\r\n   <g id=\"line2d_40\">\r\n    <path clip-path=\"url(#pddbdeb3584)\" d=\"M 529.10218 63.707471 \r\nL 529.100036 63.709873 \r\nL 529.101338 63.708414 \r\nL 529.100548 63.7093 \r\n\" style=\"fill:none;stroke:#ff0000;stroke-dasharray:5.55,2.4;stroke-dashoffset:0;stroke-width:1.5;\"/>\r\n   </g>\r\n   <g id=\"line2d_41\">\r\n    <path clip-path=\"url(#pddbdeb3584)\" d=\"M 529.100036 63.709873 \r\nL 529.101338 63.708414 \r\nL 529.100548 63.7093 \r\nL 529.101028 63.708762 \r\n\" style=\"fill:none;stroke:#ff0000;stroke-dasharray:5.55,2.4;stroke-dashoffset:0;stroke-width:1.5;\"/>\r\n   </g>\r\n   <g id=\"line2d_42\">\r\n    <path clip-path=\"url(#pddbdeb3584)\" d=\"M 74.98821 290.765283 \r\nL 226.359093 177.237124 \r\nL 331.084888 196.15848 \r\nL 498.091057 63.050651 \r\nL 488.019204 95.706226 \r\nL 530.315999 56.794717 \r\nL 518.962855 72.865185 \r\nL 531.533665 60.112627 \r\nL 526.148676 66.670655 \r\nL 530.309337 62.218602 \r\nL 528.135596 64.73602 \r\nL 529.595329 63.133634 \r\nL 528.764268 64.07748 \r\nL 529.29085 63.492772 \r\nL 528.979771 63.843252 \r\nL 529.172112 63.628611 \r\nL 529.056677 63.758231 \r\nL 529.127314 63.679235 \r\nL 529.084634 63.727093 \r\nL 529.110636 63.697987 \r\nL 529.09488 63.715643 \r\nL 529.104461 63.704915 \r\nL 529.098648 63.711427 \r\nL 529.10218 63.707471 \r\nL 529.100036 63.709873 \r\nL 529.101338 63.708414 \r\n\" style=\"fill:none;stroke:#0000ff;stroke-linecap:square;stroke-width:1.5;\"/>\r\n    <defs>\r\n     <path d=\"M 0 3 \r\nC 0.795609 3 1.55874 2.683901 2.12132 2.12132 \r\nC 2.683901 1.55874 3 0.795609 3 0 \r\nC 3 -0.795609 2.683901 -1.55874 2.12132 -2.12132 \r\nC 1.55874 -2.683901 0.795609 -3 0 -3 \r\nC -0.795609 -3 -1.55874 -2.683901 -2.12132 -2.12132 \r\nC -2.683901 -1.55874 -3 -0.795609 -3 0 \r\nC -3 0.795609 -2.683901 1.55874 -2.12132 2.12132 \r\nC -1.55874 2.683901 -0.795609 3 0 3 \r\nz\r\n\" id=\"m4a792011dd\" style=\"stroke:#0000ff;\"/>\r\n    </defs>\r\n    <g clip-path=\"url(#pddbdeb3584)\">\r\n     <use style=\"fill:#0000ff;stroke:#0000ff;\" x=\"74.98821\" xlink:href=\"#m4a792011dd\" y=\"290.765283\"/>\r\n     <use style=\"fill:#0000ff;stroke:#0000ff;\" x=\"226.359093\" xlink:href=\"#m4a792011dd\" y=\"177.237124\"/>\r\n     <use style=\"fill:#0000ff;stroke:#0000ff;\" x=\"331.084888\" xlink:href=\"#m4a792011dd\" y=\"196.15848\"/>\r\n     <use style=\"fill:#0000ff;stroke:#0000ff;\" x=\"498.091057\" xlink:href=\"#m4a792011dd\" y=\"63.050651\"/>\r\n     <use style=\"fill:#0000ff;stroke:#0000ff;\" x=\"488.019204\" xlink:href=\"#m4a792011dd\" y=\"95.706226\"/>\r\n     <use style=\"fill:#0000ff;stroke:#0000ff;\" x=\"530.315999\" xlink:href=\"#m4a792011dd\" y=\"56.794717\"/>\r\n     <use style=\"fill:#0000ff;stroke:#0000ff;\" x=\"518.962855\" xlink:href=\"#m4a792011dd\" y=\"72.865185\"/>\r\n     <use style=\"fill:#0000ff;stroke:#0000ff;\" x=\"531.533665\" xlink:href=\"#m4a792011dd\" y=\"60.112627\"/>\r\n     <use style=\"fill:#0000ff;stroke:#0000ff;\" x=\"526.148676\" xlink:href=\"#m4a792011dd\" y=\"66.670655\"/>\r\n     <use style=\"fill:#0000ff;stroke:#0000ff;\" x=\"530.309337\" xlink:href=\"#m4a792011dd\" y=\"62.218602\"/>\r\n     <use style=\"fill:#0000ff;stroke:#0000ff;\" x=\"528.135596\" xlink:href=\"#m4a792011dd\" y=\"64.73602\"/>\r\n     <use style=\"fill:#0000ff;stroke:#0000ff;\" x=\"529.595329\" xlink:href=\"#m4a792011dd\" y=\"63.133634\"/>\r\n     <use style=\"fill:#0000ff;stroke:#0000ff;\" x=\"528.764268\" xlink:href=\"#m4a792011dd\" y=\"64.07748\"/>\r\n     <use style=\"fill:#0000ff;stroke:#0000ff;\" x=\"529.29085\" xlink:href=\"#m4a792011dd\" y=\"63.492772\"/>\r\n     <use style=\"fill:#0000ff;stroke:#0000ff;\" x=\"528.979771\" xlink:href=\"#m4a792011dd\" y=\"63.843252\"/>\r\n     <use style=\"fill:#0000ff;stroke:#0000ff;\" x=\"529.172112\" xlink:href=\"#m4a792011dd\" y=\"63.628611\"/>\r\n     <use style=\"fill:#0000ff;stroke:#0000ff;\" x=\"529.056677\" xlink:href=\"#m4a792011dd\" y=\"63.758231\"/>\r\n     <use style=\"fill:#0000ff;stroke:#0000ff;\" x=\"529.127314\" xlink:href=\"#m4a792011dd\" y=\"63.679235\"/>\r\n     <use style=\"fill:#0000ff;stroke:#0000ff;\" x=\"529.084634\" xlink:href=\"#m4a792011dd\" y=\"63.727093\"/>\r\n     <use style=\"fill:#0000ff;stroke:#0000ff;\" x=\"529.110636\" xlink:href=\"#m4a792011dd\" y=\"63.697987\"/>\r\n     <use style=\"fill:#0000ff;stroke:#0000ff;\" x=\"529.09488\" xlink:href=\"#m4a792011dd\" y=\"63.715643\"/>\r\n     <use style=\"fill:#0000ff;stroke:#0000ff;\" x=\"529.104461\" xlink:href=\"#m4a792011dd\" y=\"63.704915\"/>\r\n     <use style=\"fill:#0000ff;stroke:#0000ff;\" x=\"529.098648\" xlink:href=\"#m4a792011dd\" y=\"63.711427\"/>\r\n     <use style=\"fill:#0000ff;stroke:#0000ff;\" x=\"529.10218\" xlink:href=\"#m4a792011dd\" y=\"63.707471\"/>\r\n     <use style=\"fill:#0000ff;stroke:#0000ff;\" x=\"529.100036\" xlink:href=\"#m4a792011dd\" y=\"63.709873\"/>\r\n     <use style=\"fill:#0000ff;stroke:#0000ff;\" x=\"529.101338\" xlink:href=\"#m4a792011dd\" y=\"63.708414\"/>\r\n    </g>\r\n   </g>\r\n   <g id=\"patch_3\">\r\n    <path d=\"M 52.160938 336.86 \r\nL 52.160938 10.7 \r\n\" style=\"fill:none;stroke:#000000;stroke-linecap:square;stroke-linejoin:miter;stroke-width:0.8;\"/>\r\n   </g>\r\n   <g id=\"patch_4\">\r\n    <path d=\"M 554.360938 336.86 \r\nL 554.360938 10.7 \r\n\" style=\"fill:none;stroke:#000000;stroke-linecap:square;stroke-linejoin:miter;stroke-width:0.8;\"/>\r\n   </g>\r\n   <g id=\"patch_5\">\r\n    <path d=\"M 52.160938 336.86 \r\nL 554.360938 336.86 \r\n\" style=\"fill:none;stroke:#000000;stroke-linecap:square;stroke-linejoin:miter;stroke-width:0.8;\"/>\r\n   </g>\r\n   <g id=\"patch_6\">\r\n    <path d=\"M 52.160938 10.7 \r\nL 554.360938 10.7 \r\n\" style=\"fill:none;stroke:#000000;stroke-linecap:square;stroke-linejoin:miter;stroke-width:0.8;\"/>\r\n   </g>\r\n   <g id=\"legend_1\">\r\n    <g id=\"patch_7\">\r\n     <path d=\"M 456.798438 48.05625 \r\nL 547.360938 48.05625 \r\nQ 549.360938 48.05625 549.360938 46.05625 \r\nL 549.360938 17.7 \r\nQ 549.360938 15.7 547.360938 15.7 \r\nL 456.798438 15.7 \r\nQ 454.798438 15.7 454.798438 17.7 \r\nL 454.798438 46.05625 \r\nQ 454.798438 48.05625 456.798438 48.05625 \r\nz\r\n\" style=\"fill:#ffffff;opacity:0.8;stroke:#cccccc;stroke-linejoin:miter;\"/>\r\n    </g>\r\n    <g id=\"line2d_43\">\r\n     <path d=\"M 458.798438 23.798437 \r\nL 478.798438 23.798437 \r\n\" style=\"fill:none;stroke:#ff0000;stroke-dasharray:5.55,2.4;stroke-dashoffset:0;stroke-width:1.5;\"/>\r\n    </g>\r\n    <g id=\"line2d_44\"/>\r\n    <g id=\"text_19\">\r\n     <!-- Open-loop -->\r\n     <defs>\r\n      <path d=\"M 39.40625 66.21875 \r\nQ 28.65625 66.21875 22.328125 58.203125 \r\nQ 16.015625 50.203125 16.015625 36.375 \r\nQ 16.015625 22.609375 22.328125 14.59375 \r\nQ 28.65625 6.59375 39.40625 6.59375 \r\nQ 50.140625 6.59375 56.421875 14.59375 \r\nQ 62.703125 22.609375 62.703125 36.375 \r\nQ 62.703125 50.203125 56.421875 58.203125 \r\nQ 50.140625 66.21875 39.40625 66.21875 \r\nz\r\nM 39.40625 74.21875 \r\nQ 54.734375 74.21875 63.90625 63.9375 \r\nQ 73.09375 53.65625 73.09375 36.375 \r\nQ 73.09375 19.140625 63.90625 8.859375 \r\nQ 54.734375 -1.421875 39.40625 -1.421875 \r\nQ 24.03125 -1.421875 14.8125 8.828125 \r\nQ 5.609375 19.09375 5.609375 36.375 \r\nQ 5.609375 53.65625 14.8125 63.9375 \r\nQ 24.03125 74.21875 39.40625 74.21875 \r\nz\r\n\" id=\"DejaVuSans-4f\"/>\r\n      <path d=\"M 18.109375 8.203125 \r\nL 18.109375 -20.796875 \r\nL 9.078125 -20.796875 \r\nL 9.078125 54.6875 \r\nL 18.109375 54.6875 \r\nL 18.109375 46.390625 \r\nQ 20.953125 51.265625 25.265625 53.625 \r\nQ 29.59375 56 35.59375 56 \r\nQ 45.5625 56 51.78125 48.09375 \r\nQ 58.015625 40.1875 58.015625 27.296875 \r\nQ 58.015625 14.40625 51.78125 6.484375 \r\nQ 45.5625 -1.421875 35.59375 -1.421875 \r\nQ 29.59375 -1.421875 25.265625 0.953125 \r\nQ 20.953125 3.328125 18.109375 8.203125 \r\nz\r\nM 48.6875 27.296875 \r\nQ 48.6875 37.203125 44.609375 42.84375 \r\nQ 40.53125 48.484375 33.40625 48.484375 \r\nQ 26.265625 48.484375 22.1875 42.84375 \r\nQ 18.109375 37.203125 18.109375 27.296875 \r\nQ 18.109375 17.390625 22.1875 11.75 \r\nQ 26.265625 6.109375 33.40625 6.109375 \r\nQ 40.53125 6.109375 44.609375 11.75 \r\nQ 48.6875 17.390625 48.6875 27.296875 \r\nz\r\n\" id=\"DejaVuSans-70\"/>\r\n      <path d=\"M 56.203125 29.59375 \r\nL 56.203125 25.203125 \r\nL 14.890625 25.203125 \r\nQ 15.484375 15.921875 20.484375 11.0625 \r\nQ 25.484375 6.203125 34.421875 6.203125 \r\nQ 39.59375 6.203125 44.453125 7.46875 \r\nQ 49.3125 8.734375 54.109375 11.28125 \r\nL 54.109375 2.78125 \r\nQ 49.265625 0.734375 44.1875 -0.34375 \r\nQ 39.109375 -1.421875 33.890625 -1.421875 \r\nQ 20.796875 -1.421875 13.15625 6.1875 \r\nQ 5.515625 13.8125 5.515625 26.8125 \r\nQ 5.515625 40.234375 12.765625 48.109375 \r\nQ 20.015625 56 32.328125 56 \r\nQ 43.359375 56 49.78125 48.890625 \r\nQ 56.203125 41.796875 56.203125 29.59375 \r\nz\r\nM 47.21875 32.234375 \r\nQ 47.125 39.59375 43.09375 43.984375 \r\nQ 39.0625 48.390625 32.421875 48.390625 \r\nQ 24.90625 48.390625 20.390625 44.140625 \r\nQ 15.875 39.890625 15.1875 32.171875 \r\nz\r\n\" id=\"DejaVuSans-65\"/>\r\n      <path d=\"M 54.890625 33.015625 \r\nL 54.890625 0 \r\nL 45.90625 0 \r\nL 45.90625 32.71875 \r\nQ 45.90625 40.484375 42.875 44.328125 \r\nQ 39.84375 48.1875 33.796875 48.1875 \r\nQ 26.515625 48.1875 22.3125 43.546875 \r\nQ 18.109375 38.921875 18.109375 30.90625 \r\nL 18.109375 0 \r\nL 9.078125 0 \r\nL 9.078125 54.6875 \r\nL 18.109375 54.6875 \r\nL 18.109375 46.1875 \r\nQ 21.34375 51.125 25.703125 53.5625 \r\nQ 30.078125 56 35.796875 56 \r\nQ 45.21875 56 50.046875 50.171875 \r\nQ 54.890625 44.34375 54.890625 33.015625 \r\nz\r\n\" id=\"DejaVuSans-6e\"/>\r\n      <path d=\"M 4.890625 31.390625 \r\nL 31.203125 31.390625 \r\nL 31.203125 23.390625 \r\nL 4.890625 23.390625 \r\nz\r\n\" id=\"DejaVuSans-2d\"/>\r\n      <path d=\"M 9.421875 75.984375 \r\nL 18.40625 75.984375 \r\nL 18.40625 0 \r\nL 9.421875 0 \r\nz\r\n\" id=\"DejaVuSans-6c\"/>\r\n      <path d=\"M 30.609375 48.390625 \r\nQ 23.390625 48.390625 19.1875 42.75 \r\nQ 14.984375 37.109375 14.984375 27.296875 \r\nQ 14.984375 17.484375 19.15625 11.84375 \r\nQ 23.34375 6.203125 30.609375 6.203125 \r\nQ 37.796875 6.203125 41.984375 11.859375 \r\nQ 46.1875 17.53125 46.1875 27.296875 \r\nQ 46.1875 37.015625 41.984375 42.703125 \r\nQ 37.796875 48.390625 30.609375 48.390625 \r\nz\r\nM 30.609375 56 \r\nQ 42.328125 56 49.015625 48.375 \r\nQ 55.71875 40.765625 55.71875 27.296875 \r\nQ 55.71875 13.875 49.015625 6.21875 \r\nQ 42.328125 -1.421875 30.609375 -1.421875 \r\nQ 18.84375 -1.421875 12.171875 6.21875 \r\nQ 5.515625 13.875 5.515625 27.296875 \r\nQ 5.515625 40.765625 12.171875 48.375 \r\nQ 18.84375 56 30.609375 56 \r\nz\r\n\" id=\"DejaVuSans-6f\"/>\r\n     </defs>\r\n     <g transform=\"translate(486.798438 27.298437)scale(0.1 -0.1)\">\r\n      <use xlink:href=\"#DejaVuSans-4f\"/>\r\n      <use x=\"78.710938\" xlink:href=\"#DejaVuSans-70\"/>\r\n      <use x=\"142.1875\" xlink:href=\"#DejaVuSans-65\"/>\r\n      <use x=\"203.710938\" xlink:href=\"#DejaVuSans-6e\"/>\r\n      <use x=\"267.089844\" xlink:href=\"#DejaVuSans-2d\"/>\r\n      <use x=\"303.173828\" xlink:href=\"#DejaVuSans-6c\"/>\r\n      <use x=\"330.957031\" xlink:href=\"#DejaVuSans-6f\"/>\r\n      <use x=\"392.138672\" xlink:href=\"#DejaVuSans-6f\"/>\r\n      <use x=\"453.320312\" xlink:href=\"#DejaVuSans-70\"/>\r\n     </g>\r\n    </g>\r\n    <g id=\"line2d_45\">\r\n     <path d=\"M 458.798438 38.476562 \r\nL 478.798438 38.476562 \r\n\" style=\"fill:none;stroke:#0000ff;stroke-linecap:square;stroke-width:1.5;\"/>\r\n    </g>\r\n    <g id=\"line2d_46\">\r\n     <g>\r\n      <use style=\"fill:#0000ff;stroke:#0000ff;\" x=\"468.798438\" xlink:href=\"#m4a792011dd\" y=\"38.476562\"/>\r\n     </g>\r\n    </g>\r\n    <g id=\"text_20\">\r\n     <!-- Closed-loop -->\r\n     <defs>\r\n      <path d=\"M 64.40625 67.28125 \r\nL 64.40625 56.890625 \r\nQ 59.421875 61.53125 53.78125 63.8125 \r\nQ 48.140625 66.109375 41.796875 66.109375 \r\nQ 29.296875 66.109375 22.65625 58.46875 \r\nQ 16.015625 50.828125 16.015625 36.375 \r\nQ 16.015625 21.96875 22.65625 14.328125 \r\nQ 29.296875 6.6875 41.796875 6.6875 \r\nQ 48.140625 6.6875 53.78125 8.984375 \r\nQ 59.421875 11.28125 64.40625 15.921875 \r\nL 64.40625 5.609375 \r\nQ 59.234375 2.09375 53.4375 0.328125 \r\nQ 47.65625 -1.421875 41.21875 -1.421875 \r\nQ 24.65625 -1.421875 15.125 8.703125 \r\nQ 5.609375 18.84375 5.609375 36.375 \r\nQ 5.609375 53.953125 15.125 64.078125 \r\nQ 24.65625 74.21875 41.21875 74.21875 \r\nQ 47.75 74.21875 53.53125 72.484375 \r\nQ 59.328125 70.75 64.40625 67.28125 \r\nz\r\n\" id=\"DejaVuSans-43\"/>\r\n      <path d=\"M 44.28125 53.078125 \r\nL 44.28125 44.578125 \r\nQ 40.484375 46.53125 36.375 47.5 \r\nQ 32.28125 48.484375 27.875 48.484375 \r\nQ 21.1875 48.484375 17.84375 46.4375 \r\nQ 14.5 44.390625 14.5 40.28125 \r\nQ 14.5 37.15625 16.890625 35.375 \r\nQ 19.28125 33.59375 26.515625 31.984375 \r\nL 29.59375 31.296875 \r\nQ 39.15625 29.25 43.1875 25.515625 \r\nQ 47.21875 21.78125 47.21875 15.09375 \r\nQ 47.21875 7.46875 41.1875 3.015625 \r\nQ 35.15625 -1.421875 24.609375 -1.421875 \r\nQ 20.21875 -1.421875 15.453125 -0.5625 \r\nQ 10.6875 0.296875 5.421875 2 \r\nL 5.421875 11.28125 \r\nQ 10.40625 8.6875 15.234375 7.390625 \r\nQ 20.0625 6.109375 24.8125 6.109375 \r\nQ 31.15625 6.109375 34.5625 8.28125 \r\nQ 37.984375 10.453125 37.984375 14.40625 \r\nQ 37.984375 18.0625 35.515625 20.015625 \r\nQ 33.0625 21.96875 24.703125 23.78125 \r\nL 21.578125 24.515625 \r\nQ 13.234375 26.265625 9.515625 29.90625 \r\nQ 5.8125 33.546875 5.8125 39.890625 \r\nQ 5.8125 47.609375 11.28125 51.796875 \r\nQ 16.75 56 26.8125 56 \r\nQ 31.78125 56 36.171875 55.265625 \r\nQ 40.578125 54.546875 44.28125 53.078125 \r\nz\r\n\" id=\"DejaVuSans-73\"/>\r\n      <path d=\"M 45.40625 46.390625 \r\nL 45.40625 75.984375 \r\nL 54.390625 75.984375 \r\nL 54.390625 0 \r\nL 45.40625 0 \r\nL 45.40625 8.203125 \r\nQ 42.578125 3.328125 38.25 0.953125 \r\nQ 33.9375 -1.421875 27.875 -1.421875 \r\nQ 17.96875 -1.421875 11.734375 6.484375 \r\nQ 5.515625 14.40625 5.515625 27.296875 \r\nQ 5.515625 40.1875 11.734375 48.09375 \r\nQ 17.96875 56 27.875 56 \r\nQ 33.9375 56 38.25 53.625 \r\nQ 42.578125 51.265625 45.40625 46.390625 \r\nz\r\nM 14.796875 27.296875 \r\nQ 14.796875 17.390625 18.875 11.75 \r\nQ 22.953125 6.109375 30.078125 6.109375 \r\nQ 37.203125 6.109375 41.296875 11.75 \r\nQ 45.40625 17.390625 45.40625 27.296875 \r\nQ 45.40625 37.203125 41.296875 42.84375 \r\nQ 37.203125 48.484375 30.078125 48.484375 \r\nQ 22.953125 48.484375 18.875 42.84375 \r\nQ 14.796875 37.203125 14.796875 27.296875 \r\nz\r\n\" id=\"DejaVuSans-64\"/>\r\n     </defs>\r\n     <g transform=\"translate(486.798438 41.976562)scale(0.1 -0.1)\">\r\n      <use xlink:href=\"#DejaVuSans-43\"/>\r\n      <use x=\"69.824219\" xlink:href=\"#DejaVuSans-6c\"/>\r\n      <use x=\"97.607422\" xlink:href=\"#DejaVuSans-6f\"/>\r\n      <use x=\"158.789062\" xlink:href=\"#DejaVuSans-73\"/>\r\n      <use x=\"210.888672\" xlink:href=\"#DejaVuSans-65\"/>\r\n      <use x=\"272.412109\" xlink:href=\"#DejaVuSans-64\"/>\r\n      <use x=\"335.888672\" xlink:href=\"#DejaVuSans-2d\"/>\r\n      <use x=\"371.972656\" xlink:href=\"#DejaVuSans-6c\"/>\r\n      <use x=\"399.755859\" xlink:href=\"#DejaVuSans-6f\"/>\r\n      <use x=\"460.9375\" xlink:href=\"#DejaVuSans-6f\"/>\r\n      <use x=\"522.119141\" xlink:href=\"#DejaVuSans-70\"/>\r\n     </g>\r\n    </g>\r\n   </g>\r\n  </g>\r\n </g>\r\n <defs>\r\n  <clipPath id=\"pddbdeb3584\">\r\n   <rect height=\"326.16\" width=\"502.2\" x=\"52.160938\" y=\"10.7\"/>\r\n  </clipPath>\r\n </defs>\r\n</svg>\r\n",
      "image/png": "[encoded data removed]"
     },
     "metadata": {
      "needs_background": "light"
     }
    }
   ],
   "source": [
    "# Run closed loop with MPC\n",
    "\n",
    "# Setup the simulation with MPC controller\n",
    "\n",
    "nx = np.size(A, 0)\n",
    "nu = np.size(B, 1)\n",
    "\n",
    "M = 25   # Simulation steps\n",
    "xOpt = np.zeros((nx, M+1))\n",
    "uOpt = np.zeros((nu, M))\n",
    "xOpt[:, 0] = x0.reshape(nx, )\n",
    "\n",
    "xPred = np.zeros((nx, N+1, M))\n",
    "predErr = np.zeros((nx, M-N+1))\n",
    "\n",
    "feas = np.zeros((M, ), dtype=bool)\n",
    "xN = np.zeros((nx,1))\n",
    "\n",
    "fig = plt.figure(figsize=(9, 6))\n",
    "for t in range(M):\n",
    "    [model, feas[t], x, u, J] = solve_cftoc(A, B, P, Q, R, N, xOpt[:, t], x1U, x2U, -uU, uU, bf, Af)\n",
    "    \n",
    "    if not feas[t]:\n",
    "        xOpt = []\n",
    "        uOpt = []\n",
    "        predErr = []\n",
    "        break\n",
    "    # Save open loop predictions\n",
    "    xPred[:, :, t] = x\n",
    "\n",
    "    # Save closed loop trajectory\n",
    "    # Note that the second column of x represents the optimal closed loop state\n",
    "    xOpt[:, t+1] = x[:, 1]\n",
    "    uOpt[:, t] = u[:, 0].reshape(nu, )\n",
    "\n",
    "    # Plot Open Loop\n",
    "    line1 = plt.plot(x[0,:], x[1,:], 'r--')\n",
    "\n",
    "# Plot Closed Loop\n",
    "line2 = plt.plot(xOpt[0, :], xOpt[1, :], 'bo-')\n",
    "plt.legend([line1[0], line2[0]], ['Open-loop', 'Closed-loop']);\n",
    "plt.xlabel('x1')\n",
    "plt.ylabel('x2')\n",
    "plt.axis('equal')"
   ]
  },
  {
   "cell_type": "markdown",
   "metadata": {},
   "source": [
    "***"
   ]
  },
  {
   "cell_type": "markdown",
   "metadata": {},
   "source": [
    "## Why with this design Assumption A3 is satisfied?\n",
    "\n",
    "Since the control law is fixed, Assumption A3 becomes\n",
    "\\begin{equation}\n",
    "-x'P_\\infty x+ x'Qx+x'F_\\infty' RF_\\infty x+(Ax-BF_\\infty x)'P_\\infty (Ax-BF_\\infty x)..\n",
    " \\leq 0,~\\forall x\\in\\mathcal{X}_f\n",
    "\\end{equation}\n",
    "which can be rewritten as:\n",
    "\\begin{align}\n",
    "x'(-P_\\infty+Q+F_\\infty' (B'P_\\infty B+R) F_\\infty +A'P_\\infty A-2F_\\infty' B'P_\\infty A )x\n",
    " \\leq 0,~\\forall x\\in\\mathcal{X}_f.\n",
    "\\end{align}\n",
    "Recall from LQR that\n",
    "\\begin{align}\n",
    "F_\\infty=(B'P_\\infty B+R)^{-1}B'P_\\infty A.\n",
    "\\end{align}\n",
    "Therefore Assumption A3 becomes\n",
    "\\begin{equation}\n",
    "\\begin{aligned}\n",
    "x'(-P_\\infty+Q+A'P_\\infty B (B'P_\\infty B+R)^{-1} (B'P_\\infty B+R)(B'P_\\infty B+R)^{-1}B'P_\\infty A+\\\\\n",
    "+ A'P_\\infty A-2A'P_\\infty B(B'P_\\infty B+R)^{-1}B'P_\\infty A   )x  \\leq 0,~\\forall x\\in\\mathcal{X}_f,\n",
    "\\end{aligned}\n",
    "\\end{equation}\n",
    "which can be simplified to\n",
    "\\begin{align}\n",
    "x'(-P_\\infty+Q+A'P_\\infty A-A'(P_\\infty B(B'P_\\infty B+R)^{-1}BP_\\infty)A)x  \\leq 0,\\ \\forall x\\in \\mathcal{X}_f.\n",
    "\\end{align}\n",
    "Note that the LQR cost $P_\\infty$ solves the Riccati Equation:\n",
    "\\begin{equation}\n",
    "P_\\infty = A'P_\\infty A + Q - A'P_\\infty B(B'P_\\infty B + R)^{-1} B' P_\\infty A. \n",
    "\\end{equation}\n",
    "Therefore we proved that\n",
    "\\begin{align}\n",
    "x'(-P_\\infty+Q+A'P_\\infty A-A'(P_\\infty B(B'P_\\infty B+R)^{-1}BP_\\infty)A)x  = 0,\\ \\forall x\\in \\mathcal{X}_f.\n",
    "\\end{align}\n"
   ]
  },
  {
   "cell_type": "markdown",
   "metadata": {},
   "source": [
    "***"
   ]
  },
  {
   "cell_type": "markdown",
   "metadata": {},
   "source": [
    "## 3.3  Using any stabilizing controller\n",
    "In general, instead of $F_\\infty$ we can choose any controller $F$ which stabilizes $A+BF$. For instance one could use a pole placement control design.\n",
    "\n",
    "With $v=Fx$ the assumption (A3) in the main MPC Theorem becomes\n",
    "\\begin{equation}\n",
    "-P+ (Q+F'RF)+(A+BF)'P(A+BF)  \\leq 0.\n",
    "\\label{eq:ch13_1235}\n",
    "\\end{equation}\n",
    "It is satisfied as an equality if we choose $P$ as a solution of the corresponding Lyapunov equation."
   ]
  },
  {
   "cell_type": "code",
   "execution_count": 17,
   "metadata": {},
   "outputs": [],
   "source": [
    "# first design a stabilizing control law via pole placement\n",
    "\n",
    "\n",
    "Poles = np.array([0.1, 0.2])\n",
    "full_state_feedback = scipy.signal.place_poles(A, B, Poles)\n",
    "K = full_state_feedback.gain_matrix\n",
    "# closed loop system\n",
    "Acl = A - B@K\n",
    "# remember to convert input constraints in state constraints\n",
    "S = X.intersect(pt.Polytope(U.A@ -K, U.b))\n",
    "# terminal set\n",
    "Oinf, converged = max_pos_inv(Acl,S)\n",
    "# terminal cost\n",
    "P_terminal = scipy.linalg.solve_discrete_lyapunov(Acl, Q+K.T@R@K)\n"
   ]
  },
  {
   "cell_type": "markdown",
   "metadata": {},
   "source": [
    "If the open loop system (11) is asymptotically stable, then we may even select $F=0$. Note that depending on the choice of the controller the controlled invariant terminal region $\\mathcal{X}_f$ changes."
   ]
  }
 ],
 "metadata": {
  "kernelspec": {
   "display_name": "Python 3",
   "language": "python",
   "name": "python3"
  },
  "language_info": {
   "codemirror_mode": {
    "name": "ipython",
    "version": 3
   },
   "file_extension": ".py",
   "mimetype": "text/x-python",
   "name": "python",
   "nbconvert_exporter": "python",
   "pygments_lexer": "ipython3",
   "version": "3.7.0-final"
  }
 },
 "nbformat": 4,
 "nbformat_minor": 4
}