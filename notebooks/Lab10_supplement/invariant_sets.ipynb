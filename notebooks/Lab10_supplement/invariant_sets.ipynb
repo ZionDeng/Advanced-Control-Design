{
 "cells": [
  {
   "cell_type": "markdown",
   "metadata": {
    "colab_type": "text",
    "id": "Je1gETJCNGMH"
   },
   "source": [
    "This code uses $\\texttt{Polytope}$ package from here:  https://tulip-control.github.io/polytope/ \n",
    "\n",
    "The class $\\texttt{Polytope()}$ is used with functions:\n",
    "\n",
    "*   $\\texttt{qhull()}$\n",
    "*   $\\texttt{extreme()}$\n",
    "*   $\\texttt{plot()}$          *only handles 2D plots*\n",
    "*   $\\texttt{intersect()}$\n",
    "*   $\\texttt{is_empty()}$\n",
    "\n",
    "Functions written here:\n",
    "\n",
    "*   $\\texttt{minkowski_sum()}$\n",
    "*   $\\texttt{pontryagin_diff()}$\n",
    "*   $\\texttt{precursor()}$\n",
    "*   $\\texttt{successor()}$\n",
    "*   $\\texttt{Oinf()}$\n",
    "*   $\\texttt{Cinf()}$\n",
    "\n",
    "\n",
    "\n"
   ]
  },
  {
   "cell_type": "code",
   "execution_count": 1,
   "metadata": {
    "colab": {
     "base_uri": "https://localhost:8080/",
     "height": 103
    },
    "colab_type": "code",
    "executionInfo": {
     "elapsed": 4741,
     "status": "ok",
     "timestamp": 1592874098775,
     "user": {
      "displayName": "Roya Firoozi",
      "photoUrl": "",
      "userId": "02831760291813205985"
     },
     "user_tz": 420
    },
    "id": "_TwRdgRt74pe",
    "outputId": "aac9a000-0d48-44aa-b284-0a4296a5a1f9"
   },
   "outputs": [],
   "source": [
    "import polytope as pt\n",
    "import numpy as np\n",
    "import cvxpy as cp\n",
    "import matplotlib.pyplot as plt\n",
    "\n",
    "def minkowski_sum(X, Y):\n",
    "    '''\n",
    "    point1 in X and point2 in Y -> point1 + pointY in minkowski_sum(X,Y)\n",
    "    the way to calculate: calculate all the sum of extremes \n",
    "    '''\n",
    "    # Minkowski sum between two polytopes based on \n",
    "    # vertex enumeration. So, it's not fast for the\n",
    "    # high dimensional polytopes with lots of vertices.\n",
    "    V_sum = []\n",
    "    if isinstance(X, pt.Polytope):\n",
    "        V1 = pt.extreme(X)\n",
    "    else:\n",
    "        V1 = X\n",
    "        \n",
    "    if isinstance(Y, pt.Polytope):\n",
    "        V2 = pt.extreme(Y)\n",
    "    else:\n",
    "        V2 = Y\n",
    "\n",
    "    for i in range(V1.shape[0]):\n",
    "        for j in range(V2.shape[0]):\n",
    "            V_sum.append(V1[i,:] + V2[j,:])\n",
    "                    \n",
    "    return pt.qhull(np.asarray(V_sum))\n",
    "\n",
    "def pontryagin_diff(X, Y):\n",
    "    \n",
    "    # X, Y should have the same dimenson\n",
    "    # X - Y\n",
    "    m, n = X.A.shape\n",
    "    H = [] \n",
    "    for i in range(X.A.shape[0]):\n",
    "        x = cp.Variable(n)\n",
    "        prob = cp.Problem( cp.Maximize(X.A[i, :] @ x), [Y.A @ x <= Y.b] )\n",
    "        prob.solve()\n",
    "        H.append(prob.value)\n",
    "        \n",
    "    H = np.reshape(np.asarray(H), (len(H), 1))\n",
    "        \n",
    "    return pt.Polytope(X.A, X.b - H)\n",
    "\n",
    "def precursor(Xset, A, Uset=pt.Polytope(), B=np.array([]), Wset=pt.Polytope()):\n",
    "    \n",
    "    if not B.any():\n",
    "        if not pt.is_empty(Wset):\n",
    "            return pt.Polytope( pontryagin_diff(Xset, Wset).A @ A, Xset.b)\n",
    "        else:\n",
    "            return pt.Polytope(Xset.A @ A, Xset.b)\n",
    "        \n",
    "    if not pt.is_empty(Wset):\n",
    "        tmp  = minkowski_sum( pontryagin_diff(Xset, Wset), pt.extreme(Uset) @ -B.T )\n",
    "        return pt.Polytope(tmp.A @ A, tmp.b)\n",
    "    else:\n",
    "        tmp  = minkowski_sum( Xset, pt.extreme(Uset) @ -B.T )\n",
    "        return pt.Polytope(tmp.A @ A, tmp.b)\n",
    "\n",
    "def successor(Xset, A, Uset=pt.Polytope(), B=np.array([]), Wset=pt.Polytope()):\n",
    "    \n",
    "    # Xset, Uset shoud be polytope\n",
    "    \n",
    "    # autonomous case: xdot = Ax\n",
    "    if not B.any():\n",
    "        if not pt.is_empty(Wset):\n",
    "            return minkowski_sum(pt.qhull(pt.extreme(Xset) @ A.T), Wset)\n",
    "        else:\n",
    "            return pt.qhull(pt.extreme(Xset) @ A.T)\n",
    "    \n",
    "    # controlled case: xdot = Ax+Bu\n",
    "    if not pt.is_empty(Wset):\n",
    "        return minkowski_sum(minkowski_sum(pt.extreme(Xset) @ A.T, \n",
    "                                           pt.extreme(Uset) @ B.T), Wset)\n",
    "    else:\n",
    "        return minkowski_sum(pt.extreme(Xset) @ A.T, \n",
    "                     pt.extreme(Uset) @ B.T)\n",
    "\n",
    "def Oinf(Xset, A, Wset=pt.Polytope()):\n",
    "    \n",
    "    Omega = Xset\n",
    "    k = 0\n",
    "    Omegap = precursor(Omega, A).intersect(Omega)\n",
    "    while not Omegap == Omega:\n",
    "        k += 1\n",
    "        Omega = Omegap\n",
    "        if not pt.is_empty(Wset):\n",
    "            Omegap = precursor(Omega, A, Wset=Wset).intersect(Omega)\n",
    "        else:\n",
    "            Omegap = precursor(Omega, A).intersect(Omega)\n",
    "    return Omegap\n",
    "\n",
    "def Cinf(Xset, A, Uset, B, Wset=pt.Polytope()):\n",
    "    \n",
    "    Omega = Xset\n",
    "    k = 0\n",
    "    Omegap = precursor(Omega, A, Uset, B).intersect(Omega)\n",
    "    while not Omegap == Omega:\n",
    "        k += 1\n",
    "        Omega = Omegap\n",
    "        if not pt.is_empty(Wset):\n",
    "            Omegap = precursor(Omega, A, Uset, B, Wset=Wset).intersect(Omega)\n",
    "        else:\n",
    "            Omegap = precursor(Omega, A, Uset, B).intersect(Omega)\n",
    "    return Omegap\n"
   ]
  },
  {
   "cell_type": "markdown",
   "metadata": {
    "colab_type": "text",
    "id": "KlSkAf9R74py"
   },
   "source": [
    "# Minkowski sum & Pontryagin difference\n",
    "## Example 1:"
   ]
  },
  {
   "cell_type": "code",
   "execution_count": 2,
   "metadata": {
    "colab": {
     "base_uri": "https://localhost:8080/",
     "height": 265
    },
    "colab_type": "code",
    "executionInfo": {
     "elapsed": 1095,
     "status": "ok",
     "timestamp": 1592874179840,
     "user": {
      "displayName": "Roya Firoozi",
      "photoUrl": "",
      "userId": "02831760291813205985"
     },
     "user_tz": 420
    },
    "id": "QQLsdU2274p2",
    "outputId": "4a957280-7d39-4914-c7e9-73ca57d01153"
   },
   "outputs": [
    {
     "output_type": "display_data",
     "data": {
      "text/plain": "Canvas(toolbar=Toolbar(toolitems=[('Home', 'Reset original view', 'home', 'home'), ('Back', 'Back to  previous…",
      "application/vnd.jupyter.widget-view+json": {
       "version_major": 2,
       "version_minor": 0,
       "model_id": "2019e99a95bc412ebeef829a8df33aef"
      }
     },
     "metadata": {}
    }
   ],
   "source": [
    "# Figure 4.11 MPC book \n",
    "%matplotlib widget\n",
    "\n",
    "P = np.array([[1, 0],\n",
    "              [0, 1],\n",
    "              [0, -1],\n",
    "              [-1, 0]])\n",
    "\n",
    "p = np.array([[6],\n",
    "              [6],\n",
    "              [6],\n",
    "              [6]])\n",
    "\n",
    "Q = np.array([[1, 0],\n",
    "              [0, 1],\n",
    "              [0, -1],\n",
    "              [-1, 0]])\n",
    "\n",
    "q = np.array([[2],\n",
    "              [2],\n",
    "              [2],\n",
    "              [2]])\n",
    "\n",
    "Pp = pt.Polytope(P, p)\n",
    "Qq = pt.Polytope(Q, q)\n",
    "\n",
    "p_sum  = minkowski_sum(Pp, Qq)\n",
    "p_diff = pontryagin_diff(Pp, Qq)\n",
    "\n",
    "fig, ax = plt.subplots(1,2)\n",
    "\n",
    "p_sum.plot(ax[0], color='b')\n",
    "Pp.plot(ax[0], color='r')\n",
    "Qq.plot(ax[0], color='g')\n",
    "ax[0].legend(['sum', 'P', 'Q'])\n",
    "ax[0].autoscale_view()\n",
    "ax[0].axis('equal')\n",
    "\n",
    "Pp.plot(ax[1], color='r')\n",
    "p_diff.plot(ax[1], color='b')\n",
    "Qq.plot(ax[1], color='g')\n",
    "ax[1].legend(['P', 'diff', 'Q'])\n",
    "ax[1].autoscale_view()\n",
    "ax[1].axis('equal')\n",
    "plt.show()"
   ]
  },
  {
   "cell_type": "markdown",
   "metadata": {
    "colab_type": "text",
    "id": "k6RMGf_y74qA"
   },
   "source": [
    "## Example 2:"
   ]
  },
  {
   "cell_type": "code",
   "execution_count": 3,
   "metadata": {
    "colab": {
     "base_uri": "https://localhost:8080/",
     "height": 265
    },
    "colab_type": "code",
    "executionInfo": {
     "elapsed": 4856,
     "status": "ok",
     "timestamp": 1591368554253,
     "user": {
      "displayName": "Roya Firoozi",
      "photoUrl": "",
      "userId": "02831760291813205985"
     },
     "user_tz": 420
    },
    "id": "v9kJU4Dt74qE",
    "outputId": "c01af15f-2a43-47e0-fc73-3e05d9618795"
   },
   "outputs": [
    {
     "output_type": "display_data",
     "data": {
      "text/plain": "Canvas(toolbar=Toolbar(toolitems=[('Home', 'Reset original view', 'home', 'home'), ('Back', 'Back to  previous…",
      "application/vnd.jupyter.widget-view+json": {
       "version_major": 2,
       "version_minor": 0,
       "model_id": "6ca80718e9024618ab5ccb682c1b1b65"
      }
     },
     "metadata": {}
    }
   ],
   "source": [
    "# Figure 4.12 MPC book \n",
    "\n",
    "P = np.array([[1, 0],\n",
    "              [0, 1],\n",
    "              [0, -1],\n",
    "              [-1, 0]])\n",
    "\n",
    "p = np.array([[3],\n",
    "              [3],\n",
    "              [3],\n",
    "              [3]])\n",
    "\n",
    "Q = np.array([[1, 1],\n",
    "              [-1, 1],\n",
    "              [1, -1],\n",
    "              [-1, -1]])\n",
    "\n",
    "q = np.array([[1],\n",
    "              [1],\n",
    "              [1],\n",
    "              [1]])\n",
    "\n",
    "Pp = pt.Polytope(P, p)\n",
    "Qq = pt.Polytope(Q, q)\n",
    "\n",
    "p_sum  = minkowski_sum(Pp, Qq)\n",
    "p_diff = pontryagin_diff(Pp, Qq)\n",
    "\n",
    "fig, ax = plt.subplots(1,2)\n",
    "\n",
    "p_sum.plot(ax[0], color='b')\n",
    "Pp.plot(ax[0], color='r')\n",
    "Qq.plot(ax[0], color='g')\n",
    "ax[0].legend(['sum', 'P', 'Q'])\n",
    "ax[0].autoscale_view()\n",
    "ax[0].axis('equal')\n",
    "\n",
    "Pp.plot(ax[1], color='r')\n",
    "p_diff.plot(ax[1], color='b')\n",
    "Qq.plot(ax[1], color='g')\n",
    "ax[1].legend(['P', 'diff', 'Q'])\n",
    "ax[1].autoscale_view()\n",
    "ax[1].axis('equal')\n",
    "plt.show()"
   ]
  },
  {
   "cell_type": "markdown",
   "metadata": {
    "colab_type": "text",
    "id": "Efu_Zwop74qP"
   },
   "source": [
    "## Example 3:"
   ]
  },
  {
   "cell_type": "code",
   "execution_count": 4,
   "metadata": {
    "colab": {
     "base_uri": "https://localhost:8080/",
     "height": 265
    },
    "colab_type": "code",
    "executionInfo": {
     "elapsed": 5218,
     "status": "ok",
     "timestamp": 1591368554635,
     "user": {
      "displayName": "Roya Firoozi",
      "photoUrl": "",
      "userId": "02831760291813205985"
     },
     "user_tz": 420
    },
    "id": "Xr9sPXUJ74qR",
    "outputId": "8babd9ec-09c1-446f-efe6-45de9e6ca677"
   },
   "outputs": [
    {
     "output_type": "display_data",
     "data": {
      "text/plain": "Canvas(toolbar=Toolbar(toolitems=[('Home', 'Reset original view', 'home', 'home'), ('Back', 'Back to  previous…",
      "application/vnd.jupyter.widget-view+json": {
       "version_major": 2,
       "version_minor": 0,
       "model_id": "952c82a7940148ff95df3f515627a09f"
      }
     },
     "metadata": {}
    }
   ],
   "source": [
    "P = np.array([[ 1.03082,  0.57476],\n",
    "                [ 1.39843, -0.02453],\n",
    "                [-0.09322, -0.6941 ],\n",
    "                [-0.08384, -2.38547],\n",
    "                [ 0.29675, -0.49254],\n",
    "                [-2.25599, -0.31178],\n",
    "                [-0.05872,  0.29463],\n",
    "                [ 0.02283, -0.77105],\n",
    "                [ 1.72335,  0.92748],\n",
    "                [-0.10928,  0.6722 ]])\n",
    "\n",
    "p = np.array([[0.07646],\n",
    "               [0.93069],\n",
    "               [0.71248],\n",
    "               [0.73121],\n",
    "               [0.38619],\n",
    "               [0.1412 ],\n",
    "               [0.74394],\n",
    "               [0.50318],\n",
    "               [0.78187],\n",
    "               [0.52737]])\n",
    "\n",
    "Q = np.array([[ 0.23464, -0.90068],\n",
    "        [ 0.76585,  0.36301],\n",
    "        [ 0.03942, -0.00125],\n",
    "        [-0.93651, -0.61058],\n",
    "        [-0.03155, -0.02491],\n",
    "        [ 0.90742, -0.88392],\n",
    "        [ 0.24336,  0.78635],\n",
    "        [-0.0207 ,  0.78292],\n",
    "        [ 0.45283, -0.43739],\n",
    "        [ 0.28562, -1.13553]])\n",
    "\n",
    "q = np.array([[0.59815],\n",
    "                [0.32358],\n",
    "                [0.82303],\n",
    "                [0.06005],\n",
    "                [0.13205],\n",
    "                [0.0567 ],\n",
    "                [0.95662],\n",
    "                [0.25109],\n",
    "                [0.39949],\n",
    "                [0.57888]])\n",
    "\n",
    "Pp = pt.Polytope(P, p)\n",
    "Qq = pt.Polytope(Q, q)\n",
    "\n",
    "p_sum  = minkowski_sum(Pp, Qq)\n",
    "p_diff = pontryagin_diff(Pp, Qq)\n",
    "\n",
    "fig, ax = plt.subplots(1,2)\n",
    "\n",
    "p_sum.plot(ax[0], color='b')\n",
    "Pp.plot(ax[0], color='r')\n",
    "Qq.plot(ax[0], color='g')\n",
    "ax[0].legend(['sum', 'P', 'Q'])\n",
    "ax[0].autoscale_view()\n",
    "ax[0].axis('equal')\n",
    "\n",
    "if pt.is_empty(pt.reduce(p_diff)):\n",
    "    Pp.plot(ax[1], color='r')\n",
    "    Qq.plot(ax[1], color='g')\n",
    "    ax[1].legend(['P', 'Q'])\n",
    "else:\n",
    "    Pp.plot(ax[1], color='r')\n",
    "    p_diff.plot(ax[1], color='b')\n",
    "    Qq.plot(ax[1], color='g')\n",
    "    ax[1].legend(['P', 'diff', 'Q'])\n",
    "    \n",
    "ax[1].autoscale_view()\n",
    "ax[1].axis('equal')\n",
    "plt.show()"
   ]
  },
  {
   "cell_type": "markdown",
   "metadata": {
    "colab_type": "text",
    "id": "ZmX8nZor74qe"
   },
   "source": [
    "# Successor & Precursor operator\n",
    "## Example 1: successor autonomous system"
   ]
  },
  {
   "cell_type": "code",
   "execution_count": 5,
   "metadata": {
    "colab": {
     "base_uri": "https://localhost:8080/",
     "height": 265
    },
    "colab_type": "code",
    "executionInfo": {
     "elapsed": 695,
     "status": "ok",
     "timestamp": 1591375379382,
     "user": {
      "displayName": "Roya Firoozi",
      "photoUrl": "",
      "userId": "02831760291813205985"
     },
     "user_tz": 420
    },
    "id": "cEh4YRDp74qg",
    "outputId": "efd68a5e-f820-4504-fee3-92b69e6888cc"
   },
   "outputs": [
    {
     "output_type": "display_data",
     "data": {
      "text/plain": "Canvas(toolbar=Toolbar(toolitems=[('Home', 'Reset original view', 'home', 'home'), ('Back', 'Back to  previous…",
      "application/vnd.jupyter.widget-view+json": {
       "version_major": 2,
       "version_minor": 0,
       "model_id": "386083c97a0c4a8a901f6a86bc4034f4"
      }
     },
     "metadata": {}
    }
   ],
   "source": [
    "# Example 10.1 (Figure 10.2) MPC book\n",
    "\n",
    "A = np.array([[0.5, 0],\n",
    "              [1.0, -0.5]])\n",
    "\n",
    "X = pt.Polytope(np.array([[1.0, 0], \n",
    "                          [0, 1.0],\n",
    "                          [-1, 0],\n",
    "                          [0, -1]]), \n",
    "                np.array([[10.0], \n",
    "                          [10.0],\n",
    "                          [10.0],\n",
    "                          [10.0]]))\n",
    "sucp = successor(X, A)\n",
    "fig, ax = plt.subplots()\n",
    "X.plot(ax, color='b')\n",
    "sucp.plot(ax, color='r')\n",
    "ax.legend(['X', 'Suc(X)'])\n",
    "ax.autoscale_view()\n",
    "ax.axis('equal')\n",
    "plt.show()"
   ]
  },
  {
   "cell_type": "markdown",
   "metadata": {
    "colab_type": "text",
    "id": "1a-GPhWQ74qp"
   },
   "source": [
    "## Example 2: successor controlled system"
   ]
  },
  {
   "cell_type": "code",
   "execution_count": 16,
   "metadata": {
    "colab": {
     "base_uri": "https://localhost:8080/",
     "height": 265
    },
    "colab_type": "code",
    "executionInfo": {
     "elapsed": 5750,
     "status": "ok",
     "timestamp": 1591368555214,
     "user": {
      "displayName": "Roya Firoozi",
      "photoUrl": "",
      "userId": "02831760291813205985"
     },
     "user_tz": 420
    },
    "id": "DhvCDau574qs",
    "outputId": "d269f216-1a66-4444-c219-18590ea437e2"
   },
   "outputs": [
    {
     "output_type": "display_data",
     "data": {
      "text/plain": "Canvas(toolbar=Toolbar(toolitems=[('Home', 'Reset original view', 'home', 'home'), ('Back', 'Back to  previous…",
      "application/vnd.jupyter.widget-view+json": {
       "version_major": 2,
       "version_minor": 0,
       "model_id": "3be39f197c074a57932e3cf9caeb5bd7"
      }
     },
     "metadata": {}
    }
   ],
   "source": [
    "# Example 10.2 (Figure 10.4) MPC book \n",
    "\n",
    "A = np.array([[1.5, 0],\n",
    "              [1.0, -1.5]])\n",
    "\n",
    "B = np.array([[1.0], \n",
    "              [0.0]])\n",
    "X = pt.Polytope(np.array([[1.0, 0], \n",
    "                          [0, 1.0],\n",
    "                          [-1, 0],\n",
    "                          [0, -1]]), \n",
    "                np.array([[10.0], \n",
    "                          [10.0],\n",
    "                          [10.0],\n",
    "                          [10.0]]))\n",
    "\n",
    "U = pt.Polytope(np.array([[1.0], \n",
    "                          [-1.0]]),\n",
    "                np.array([[5.0], \n",
    "                          [5.0]]))\n",
    "sucp = successor(X, A, U, B)\n",
    "fig, ax = plt.subplots()\n",
    "sucp.plot(ax, color='r')\n",
    "X.plot(ax, color='b')\n",
    "ax.legend(['Suc(X)','X'])\n",
    "ax.autoscale_view()\n",
    "ax.axis('equal')\n",
    "plt.show()"
   ]
  },
  {
   "cell_type": "markdown",
   "metadata": {
    "colab_type": "text",
    "id": "f0gvrW5W74q_"
   },
   "source": [
    "## Example 3: precursor autonomous system"
   ]
  },
  {
   "cell_type": "code",
   "execution_count": 7,
   "metadata": {
    "colab": {
     "base_uri": "https://localhost:8080/",
     "height": 265
    },
    "colab_type": "code",
    "executionInfo": {
     "elapsed": 5726,
     "status": "ok",
     "timestamp": 1591368555217,
     "user": {
      "displayName": "Roya Firoozi",
      "photoUrl": "",
      "userId": "02831760291813205985"
     },
     "user_tz": 420
    },
    "id": "4y7x0Pri74rB",
    "outputId": "706040c9-a566-45f0-8728-7a9340b79e23"
   },
   "outputs": [
    {
     "output_type": "display_data",
     "data": {
      "text/plain": "Canvas(toolbar=Toolbar(toolitems=[('Home', 'Reset original view', 'home', 'home'), ('Back', 'Back to  previous…",
      "application/vnd.jupyter.widget-view+json": {
       "version_major": 2,
       "version_minor": 0,
       "model_id": "343528ab8e92481ea99ce1e2bc015d85"
      }
     },
     "metadata": {}
    }
   ],
   "source": [
    "# Example 10.1 (Figure 10.1) MPC book\n",
    "\n",
    "A = np.array([[0.5, 0],\n",
    "              [1.0, -0.5]])\n",
    "\n",
    "X = pt.Polytope(np.array([[1.0, 0], \n",
    "                          [0, 1.0],\n",
    "                          [-1, 0],\n",
    "                          [0, -1]]), \n",
    "                np.array([[10.0], \n",
    "                          [10.0],\n",
    "                          [10.0],\n",
    "                          [10.0]]))\n",
    "prep = precursor(X, A)\n",
    "fig, ax = plt.subplots()\n",
    "X.plot(ax, color='b')\n",
    "prep.intersect(X).plot(ax, color='r')\n",
    "ax.legend(['X', 'X & Pre(X)'])\n",
    "ax.autoscale_view()\n",
    "ax.axis('equal')\n",
    "plt.show()"
   ]
  },
  {
   "cell_type": "markdown",
   "metadata": {
    "colab_type": "text",
    "id": "C7J6JC8874rL"
   },
   "source": [
    "## Example 4: precursor controlled system"
   ]
  },
  {
   "cell_type": "code",
   "execution_count": 8,
   "metadata": {
    "colab": {
     "base_uri": "https://localhost:8080/",
     "height": 265
    },
    "colab_type": "code",
    "executionInfo": {
     "elapsed": 5714,
     "status": "ok",
     "timestamp": 1591368555227,
     "user": {
      "displayName": "Roya Firoozi",
      "photoUrl": "",
      "userId": "02831760291813205985"
     },
     "user_tz": 420
    },
    "id": "uEdy3JK974rN",
    "outputId": "b0fd6125-f1ae-4206-91cb-3a0b9d9314f2"
   },
   "outputs": [
    {
     "output_type": "display_data",
     "data": {
      "text/plain": "Canvas(toolbar=Toolbar(toolitems=[('Home', 'Reset original view', 'home', 'home'), ('Back', 'Back to  previous…",
      "application/vnd.jupyter.widget-view+json": {
       "version_major": 2,
       "version_minor": 0,
       "model_id": "fb491f4e02fd468f889372b631eed193"
      }
     },
     "metadata": {}
    }
   ],
   "source": [
    "# Example 10.2 (Figure 10.3) MPC book\n",
    "\n",
    "A = np.array([[1.5, 0],\n",
    "              [1.0, -1.5]])\n",
    "\n",
    "B = np.array([[1.0], \n",
    "              [0.0]])\n",
    "X = pt.Polytope(np.array([[1.0, 0], \n",
    "                          [0, 1.0],\n",
    "                          [-1, 0],\n",
    "                          [0, -1]]), \n",
    "                np.array([[10.0], \n",
    "                          [10.0],\n",
    "                          [10.0],\n",
    "                          [10.0]]))\n",
    "\n",
    "U = pt.Polytope(np.array([[1.0], \n",
    "                          [-1.0]]),\n",
    "                np.array([[5.0], \n",
    "                          [5.0]]))\n",
    "\n",
    "prep = precursor(X, A, U, B)\n",
    "fig, ax = plt.subplots()\n",
    "X.plot(ax, color='b')\n",
    "prep.intersect(X).plot(ax, color='r')\n",
    "ax.legend(['X', 'X & Pre(X)'])\n",
    "ax.autoscale_view()\n",
    "ax.axis('equal')\n",
    "plt.show()"
   ]
  },
  {
   "cell_type": "markdown",
   "metadata": {
    "colab_type": "text",
    "id": "TDYwZbs374rY"
   },
   "source": [
    "# Maximal & Control positive invariant set\n",
    "## Example 1: $\\mathcal{O}_{\\infty}$"
   ]
  },
  {
   "cell_type": "code",
   "execution_count": 9,
   "metadata": {
    "colab": {
     "base_uri": "https://localhost:8080/",
     "height": 265
    },
    "colab_type": "code",
    "executionInfo": {
     "elapsed": 6077,
     "status": "ok",
     "timestamp": 1591368555611,
     "user": {
      "displayName": "Roya Firoozi",
      "photoUrl": "",
      "userId": "02831760291813205985"
     },
     "user_tz": 420
    },
    "id": "DKCz_fMT74rZ",
    "outputId": "affc74c8-018b-4da5-c069-96c61190e82d"
   },
   "outputs": [
    {
     "output_type": "display_data",
     "data": {
      "text/plain": "Canvas(toolbar=Toolbar(toolitems=[('Home', 'Reset original view', 'home', 'home'), ('Back', 'Back to  previous…",
      "application/vnd.jupyter.widget-view+json": {
       "version_major": 2,
       "version_minor": 0,
       "model_id": "f69c6ba6b48a4b5f8667d55b60097e2d"
      }
     },
     "metadata": {}
    }
   ],
   "source": [
    "# Example 10.5 (Figure 10.7) MPC book\n",
    "\n",
    "A = np.array([[0.5, 0],\n",
    "              [1.0, -0.5]])\n",
    "\n",
    "X = pt.Polytope(np.array([[1.0, 0], \n",
    "                          [0, 1.0],\n",
    "                          [-1, 0],\n",
    "                          [0, -1]]), \n",
    "                np.array([[10.0], \n",
    "                          [10.0],\n",
    "                          [10.0],\n",
    "                          [10.0]]))\n",
    "Oinfset = Oinf(X, A)\n",
    "fig, ax = plt.subplots()\n",
    "X.plot(ax, color='b')\n",
    "Oinfset.plot(ax, color='r')\n",
    "ax.legend(['X', 'O_inf'])\n",
    "ax.autoscale_view()\n",
    "ax.axis('equal')\n",
    "plt.show()"
   ]
  },
  {
   "cell_type": "markdown",
   "metadata": {
    "colab_type": "text",
    "id": "GIeCSnFK74rl"
   },
   "source": [
    "## Example 2: $\\mathcal{C}_{\\infty}$"
   ]
  },
  {
   "cell_type": "code",
   "execution_count": 10,
   "metadata": {
    "colab": {
     "base_uri": "https://localhost:8080/",
     "height": 265
    },
    "colab_type": "code",
    "executionInfo": {
     "elapsed": 6399,
     "status": "ok",
     "timestamp": 1591368555957,
     "user": {
      "displayName": "Roya Firoozi",
      "photoUrl": "",
      "userId": "02831760291813205985"
     },
     "user_tz": 420
    },
    "id": "6JqYxuCV74rm",
    "outputId": "52b3694b-6a26-4c7c-f723-d82799310b2a"
   },
   "outputs": [
    {
     "output_type": "display_data",
     "data": {
      "text/plain": "Canvas(toolbar=Toolbar(toolitems=[('Home', 'Reset original view', 'home', 'home'), ('Back', 'Back to  previous…",
      "application/vnd.jupyter.widget-view+json": {
       "version_major": 2,
       "version_minor": 0,
       "model_id": "db8fddf613ed46248d53a1420b28faad"
      }
     },
     "metadata": {}
    }
   ],
   "source": [
    "# Example 10.6 (Figure 10.8) MPC book\n",
    "\n",
    "A = np.array([[1.5, 0],\n",
    "              [1.0, -1.5]])\n",
    "\n",
    "B = np.array([[1.0], \n",
    "              [0.0]])\n",
    "X = pt.Polytope(np.array([[1.0, 0], \n",
    "                          [0, 1.0],\n",
    "                          [-1, 0],\n",
    "                          [0, -1]]), \n",
    "                np.array([[10.0], \n",
    "                          [10.0],\n",
    "                          [10.0],\n",
    "                          [10.0]]))\n",
    "\n",
    "U = pt.Polytope(np.array([[1.0], \n",
    "                          [-1.0]]),\n",
    "                np.array([[5.0], \n",
    "                          [5.0]]))\n",
    "\n",
    "Cinfset = Cinf(X, A, U, B)\n",
    "fig, ax = plt.subplots()\n",
    "X.plot(ax, color='b')\n",
    "Cinfset.plot(ax, color='r')\n",
    "ax.legend(['X', 'C_inf'])\n",
    "ax.autoscale_view()\n",
    "ax.axis('equal')\n",
    "plt.show()"
   ]
  },
  {
   "cell_type": "markdown",
   "metadata": {
    "colab_type": "text",
    "id": "oHLj1my074rv"
   },
   "source": [
    "# Models with additive uncertainty\n",
    "## Example 1:"
   ]
  },
  {
   "cell_type": "code",
   "execution_count": 11,
   "metadata": {
    "colab": {
     "base_uri": "https://localhost:8080/",
     "height": 265
    },
    "colab_type": "code",
    "executionInfo": {
     "elapsed": 6583,
     "status": "ok",
     "timestamp": 1591368556163,
     "user": {
      "displayName": "Roya Firoozi",
      "photoUrl": "",
      "userId": "02831760291813205985"
     },
     "user_tz": 420
    },
    "id": "6Ai2ne7T74ry",
    "outputId": "0f0e78d7-58a3-4951-9910-af2b87cda443"
   },
   "outputs": [
    {
     "output_type": "display_data",
     "data": {
      "text/plain": "Canvas(toolbar=Toolbar(toolitems=[('Home', 'Reset original view', 'home', 'home'), ('Back', 'Back to  previous…",
      "application/vnd.jupyter.widget-view+json": {
       "version_major": 2,
       "version_minor": 0,
       "model_id": "995cb44e21484dc09803227aaa5a2f69"
      }
     },
     "metadata": {}
    }
   ],
   "source": [
    "# Example 10.8 (Figures 10.9 and 10.10) MPC book\n",
    "\n",
    "A = np.array([[0.5, 0],\n",
    "              [1.0, -0.5]])\n",
    "\n",
    "X = pt.Polytope(np.array([[1.0, 0], \n",
    "                          [0, 1.0],\n",
    "                          [-1, 0],\n",
    "                          [0, -1]]), \n",
    "                np.array([[10.0], \n",
    "                          [10.0],\n",
    "                          [10.0],\n",
    "                          [10.0]]))\n",
    "\n",
    "W = pt.Polytope(np.array([[1.0, 0], \n",
    "                          [0, 1.0],\n",
    "                          [-1, 0],\n",
    "                          [0, -1]]), \n",
    "                np.array([[1.0], \n",
    "                          [1.0],\n",
    "                          [1.0],\n",
    "                          [1.0]]))\n",
    "\n",
    "prep = precursor(X, A, Wset=W)\n",
    "fig, ax = plt.subplots(1,2)\n",
    "X.plot(ax[0], color='b')\n",
    "prep.intersect(X).plot(ax[0], color='r')\n",
    "ax[0].legend(['X', 'X & Pre(X, W)'])\n",
    "ax[0].autoscale_view()\n",
    "ax[0].axis('equal')\n",
    "\n",
    "sucp = successor(X, A, Wset=W)\n",
    "X.plot(ax[1], color='b')\n",
    "sucp.plot(ax[1], color='r')\n",
    "ax[1].legend(['X', 'Suc(X, W)'])\n",
    "ax[1].autoscale_view()\n",
    "ax[1].axis('equal')\n",
    "plt.show()"
   ]
  },
  {
   "cell_type": "markdown",
   "metadata": {
    "colab_type": "text",
    "id": "0KZOuKp474r5"
   },
   "source": [
    "## Example 2:"
   ]
  },
  {
   "cell_type": "code",
   "execution_count": 17,
   "metadata": {
    "colab": {
     "base_uri": "https://localhost:8080/",
     "height": 265
    },
    "colab_type": "code",
    "executionInfo": {
     "elapsed": 6789,
     "status": "ok",
     "timestamp": 1591368556389,
     "user": {
      "displayName": "Roya Firoozi",
      "photoUrl": "",
      "userId": "02831760291813205985"
     },
     "user_tz": 420
    },
    "id": "4cl5D2rl74r6",
    "outputId": "69dd0900-d925-4c7c-aab7-056d345d3205"
   },
   "outputs": [
    {
     "output_type": "display_data",
     "data": {
      "text/plain": "Canvas(toolbar=Toolbar(toolitems=[('Home', 'Reset original view', 'home', 'home'), ('Back', 'Back to  previous…",
      "application/vnd.jupyter.widget-view+json": {
       "version_major": 2,
       "version_minor": 0,
       "model_id": "bfb7a9672add405cbd8d7fcfd814146f"
      }
     },
     "metadata": {}
    }
   ],
   "source": [
    "A = np.array([[1.5, 0],\n",
    "              [1.0, -1.5]])\n",
    "B = np.array([[1.0], \n",
    "              [0.0]])\n",
    "\n",
    "X = pt.Polytope(np.array([[1.0, 0], \n",
    "                          [0, 1.0],\n",
    "                          [-1, 0],\n",
    "                          [0, -1]]), \n",
    "                np.array([[10.0], \n",
    "                          [10.0],\n",
    "                          [10.0],\n",
    "                          [10.0]]))\n",
    "\n",
    "U = pt.Polytope(np.array([[1.0], \n",
    "                          [-1.0]]),\n",
    "                np.array([[5.0], \n",
    "                          [5.0]]))\n",
    "\n",
    "W = pt.Polytope(np.array([[1.0, 0], \n",
    "                          [0, 1.0],\n",
    "                          [-1, 0],\n",
    "                          [0, -1]]), \n",
    "                np.array([[1.0], \n",
    "                          [1.0],\n",
    "                          [1.0],\n",
    "                          [1.0]]))\n",
    "\n",
    "prep = precursor(X, A, Uset=U, B=B, Wset=W)\n",
    "fig, ax = plt.subplots(1,2)\n",
    "X.plot(ax[0], color='b')\n",
    "prep.intersect(X).plot(ax[0], color='r')\n",
    "ax[0].legend(['X', 'X & Pre(X, W)'])\n",
    "ax[0].autoscale_view()\n",
    "ax[0].axis('equal')\n",
    "\n",
    "sucp = successor(X, A, Uset=U, B=B, Wset=W)\n",
    "sucp.plot(ax[1], color='r')\n",
    "X.plot(ax[1], color='b')\n",
    "\n",
    "ax[1].legend(['X', 'Suc(X, W)'])\n",
    "ax[1].autoscale_view()\n",
    "ax[1].axis('equal')\n",
    "plt.show()"
   ]
  },
  {
   "cell_type": "markdown",
   "metadata": {
    "colab_type": "text",
    "id": "QsxqwnyD74sA"
   },
   "source": [
    "# Robust invariant set\n",
    "## Example 1: $\\mathcal{O}_{\\infty}$"
   ]
  },
  {
   "cell_type": "code",
   "execution_count": 13,
   "metadata": {
    "colab": {
     "base_uri": "https://localhost:8080/",
     "height": 265
    },
    "colab_type": "code",
    "executionInfo": {
     "elapsed": 6991,
     "status": "ok",
     "timestamp": 1591368556613,
     "user": {
      "displayName": "Roya Firoozi",
      "photoUrl": "",
      "userId": "02831760291813205985"
     },
     "user_tz": 420
    },
    "id": "8BzpTBZx74sB",
    "outputId": "b4979569-3daa-4e2a-ff8c-9d73bcd32ae7"
   },
   "outputs": [
    {
     "output_type": "display_data",
     "data": {
      "text/plain": "Canvas(toolbar=Toolbar(toolitems=[('Home', 'Reset original view', 'home', 'home'), ('Back', 'Back to  previous…",
      "application/vnd.jupyter.widget-view+json": {
       "version_major": 2,
       "version_minor": 0,
       "model_id": "04a95a33137a4b01852eb2de1a5fd239"
      }
     },
     "metadata": {}
    }
   ],
   "source": [
    "A = np.array([[0.5, 0],\n",
    "              [1.0, -0.5]])\n",
    "\n",
    "X = pt.Polytope(np.array([[1.0, 0], \n",
    "                          [0, 1.0],\n",
    "                          [-1, 0],\n",
    "                          [0, -1]]), \n",
    "                np.array([[10.0], \n",
    "                          [10.0],\n",
    "                          [10.0],\n",
    "                          [10.0]]))\n",
    "\n",
    "W = pt.Polytope(np.array([[1.0, 0], \n",
    "                          [0, 1.0],\n",
    "                          [-1, 0],\n",
    "                          [0, -1]]), \n",
    "                np.array([[1.0], \n",
    "                          [1.0],\n",
    "                          [1.0],\n",
    "                          [1.0]]))\n",
    "\n",
    "Oinfset = Oinf(X, A, Wset=W)\n",
    "fig, ax = plt.subplots()\n",
    "X.plot(ax, color='b')\n",
    "Oinfset.plot(ax, color='r')\n",
    "ax.legend(['X', 'O_inf'])\n",
    "ax.autoscale_view()\n",
    "ax.axis('equal')\n",
    "plt.show()"
   ]
  },
  {
   "cell_type": "markdown",
   "metadata": {
    "colab_type": "text",
    "id": "zSOd_UcP74sG"
   },
   "source": [
    "## Example 2: $\\mathcal{C}_{\\infty}$"
   ]
  },
  {
   "cell_type": "code",
   "execution_count": 14,
   "metadata": {
    "colab": {
     "base_uri": "https://localhost:8080/",
     "height": 265
    },
    "colab_type": "code",
    "executionInfo": {
     "elapsed": 7994,
     "status": "ok",
     "timestamp": 1591368557643,
     "user": {
      "displayName": "Roya Firoozi",
      "photoUrl": "",
      "userId": "02831760291813205985"
     },
     "user_tz": 420
    },
    "id": "jjIk9gK_74sH",
    "outputId": "e4ac9411-7e35-443e-f961-bed2b5e05030"
   },
   "outputs": [
    {
     "output_type": "display_data",
     "data": {
      "text/plain": "Canvas(toolbar=Toolbar(toolitems=[('Home', 'Reset original view', 'home', 'home'), ('Back', 'Back to  previous…",
      "application/vnd.jupyter.widget-view+json": {
       "version_major": 2,
       "version_minor": 0,
       "model_id": "ed26e2d6157b4b808ca997dd801899a2"
      }
     },
     "metadata": {}
    }
   ],
   "source": [
    "A = np.array([[1.5, 0],\n",
    "              [1.0, -1.5]])\n",
    "\n",
    "B = np.array([[1.0], \n",
    "              [0.0]])\n",
    "X = pt.Polytope(np.array([[1.0, 0], \n",
    "                          [0, 1.0],\n",
    "                          [-1, 0],\n",
    "                          [0, -1]]), \n",
    "                np.array([[10.0], \n",
    "                          [10.0],\n",
    "                          [10.0],\n",
    "                          [10.0]]))\n",
    "\n",
    "U = pt.Polytope(np.array([[1.0], \n",
    "                          [-1.0]]),\n",
    "                np.array([[5.0], \n",
    "                          [5.0]]))\n",
    "\n",
    "W = pt.Polytope(np.array([[1.0, 0], \n",
    "                          [0, 1.0],\n",
    "                          [-1, 0],\n",
    "                          [0, -1]]), \n",
    "                np.array([[0.1], \n",
    "                          [0.1],\n",
    "                          [0.1],\n",
    "                          [0.1]]))\n",
    "\n",
    "Cinfset = Cinf(X, A, U, B, Wset=W)\n",
    "fig, ax = plt.subplots()\n",
    "X.plot(ax, color='b')\n",
    "Cinfset.plot(ax, color='r')\n",
    "ax.legend(['X', 'C_inf'])\n",
    "ax.autoscale_view()\n",
    "ax.axis('equal')\n",
    "plt.show()"
   ]
  },
  {
   "cell_type": "code",
   "execution_count": null,
   "metadata": {
    "colab": {},
    "colab_type": "code",
    "id": "ZopxXyiR74sO"
   },
   "outputs": [],
   "source": []
  }
 ],
 "metadata": {
  "colab": {
   "collapsed_sections": [],
   "name": "invariant_set.ipynb",
   "provenance": [
    {
     "file_id": "19MAg6sWxgYu9lSmv-W4HilA2hQPKb6x3",
     "timestamp": 1591301107191
    }
   ]
  },
  "kernelspec": {
   "display_name": "Python 3",
   "language": "python",
   "name": "python3"
  },
  "language_info": {
   "codemirror_mode": {
    "name": "ipython",
    "version": 3
   },
   "file_extension": ".py",
   "mimetype": "text/x-python",
   "name": "python",
   "nbconvert_exporter": "python",
   "pygments_lexer": "ipython3",
   "version": "3.7.0-final"
  }
 },
 "nbformat": 4,
 "nbformat_minor": 4
}